{
 "cells": [
  {
   "cell_type": "markdown",
   "metadata": {},
   "source": [
    "# Para começar "
   ]
  },
  {
   "cell_type": "markdown",
   "metadata": {},
   "source": [
    "Vamos começar desde zero e reiniciar tudo corretamente, caso algúm tipo de calculo anterior tenha ficado errado.\n",
    "\n",
    "1) Click em __Kernel__\n",
    "\n",
    "2) Click em __Restart & Clear Output__\n",
    "\n",
    "3) Click na opção  __Restart & Clear Output__\n",
    "\n",
    "\n",
    "Agora podemos começar carregando as primeiras células, Para começar dê SHIFT+ENTER na seguinte célula (não se preocupe pelo que que está escrito na célula)."
   ]
  },
  {
   "cell_type": "code",
   "execution_count": 53,
   "metadata": {},
   "outputs": [],
   "source": [
    "from IPython.core.interactiveshell import InteractiveShell\n",
    "InteractiveShell.ast_node_interactivity = \"all\" #Mostra todos os computos por célula, não somente o último resultado\n",
    "from sympy import *\n",
    "from sympy.matrices import randMatrix\n",
    "\n",
    "init_printing(use_latex='mathjax')\n",
    "x, y, z, a, b, c, x1,x2,x3,x4,x5,x6,x7,x8,x9,x10=symbols(\"x, y, z,a ,b, c, x1,x2,x3,x4,x5,x6,x7,x8,x9,x10\")\n",
    "\n",
    "import FuncRedGauss as gauss      #Shift + Enter"
   ]
  },
  {
   "cell_type": "markdown",
   "metadata": {},
   "source": [
    "# Matrizes"
   ]
  },
  {
   "cell_type": "markdown",
   "metadata": {},
   "source": [
    "Insira uma matriz usando o comando `Matrix(  [ linha1,  linha2,  linha3,..., linhaM])`.   Cada linha  escreve-se da forma `linha1=[num1, num2, num3,..., numN]`. Por exemplo, para inserir a matriz $\\begin{pmatrix}1&0\\\\3& 5\\end{pmatrix}$ escrevemos:"
   ]
  },
  {
   "cell_type": "markdown",
   "metadata": {},
   "source": [
    "<div class=\"alert alert-info\"><strong>Maiúsculas sensíveis</strong>: Todos os comandos em python diferenciam  as maiúsculas das minúsculas como carateres distintos. Desta forma,  o comando matrix(..) não é o mesmo que o comando Matrix(..).</div>"
   ]
  },
  {
   "cell_type": "code",
   "execution_count": null,
   "metadata": {},
   "outputs": [],
   "source": [
    "Matrix([     [1,0],      [3,5]    ])   #Shift+Enter"
   ]
  },
  {
   "cell_type": "markdown",
   "metadata": {},
   "source": [
    "<div class=\"alert alert-warning\">\n",
    "Se ao dar Shift+Enter mostra o seguinte erro:\n",
    "\n",
    "__NameError: name 'Matrix' is not defined__ é porque a primeira célula não foi carregada, ou o kernel repentinamente se apagou. Neste caso reinicie  novamente desde o começo do arquivo,\n",
    "</div>\n",
    "\n"
   ]
  },
  {
   "cell_type": "markdown",
   "metadata": {},
   "source": [
    "Os espaços colocados não são necessários:"
   ]
  },
  {
   "cell_type": "code",
   "execution_count": null,
   "metadata": {},
   "outputs": [],
   "source": [
    "Matrix([[1,0],[3,5]])       #Shift+Enter"
   ]
  },
  {
   "cell_type": "markdown",
   "metadata": {},
   "source": [
    "Se quiser visualizar um pouco melhor, também pode-se escrever separando as linhas:"
   ]
  },
  {
   "cell_type": "code",
   "execution_count": null,
   "metadata": {},
   "outputs": [],
   "source": [
    "Matrix([[1,0],\n",
    "        [3,5]])   #Shift+Enter"
   ]
  },
  {
   "cell_type": "markdown",
   "metadata": {},
   "source": [
    "Se formos usar repetidamente a matriz podemos dar  um nome"
   ]
  },
  {
   "cell_type": "code",
   "execution_count": null,
   "metadata": {},
   "outputs": [],
   "source": [
    "Oscar= Matrix([[1,0],[3,5]])"
   ]
  },
  {
   "cell_type": "markdown",
   "metadata": {},
   "source": [
    "Ao dar Shift+Enter a celula terá um valor __In[8]__ (ou possivelmente outro número) mas não imprimirá nada, isto indicar que a matriz `Oscar` já está assinada. Podemos agora trabalhar com nossa matriz fazendo contas:"
   ]
  },
  {
   "cell_type": "code",
   "execution_count": null,
   "metadata": {},
   "outputs": [],
   "source": [
    "Oscar\n",
    "Oscar+Oscar\n",
    "5*Oscar\n",
    "Oscar + Matrix([[-1,4],[7,9]])"
   ]
  },
  {
   "cell_type": "markdown",
   "metadata": {},
   "source": [
    "<div class=\"alert alert-warning\">\n",
    "Se ao dar Shift+Enter mostra o seguinte erro:\n",
    "\n",
    "__NameError: name 'Oscar' is not defined__ é porque a você ainda não definiu a matriz `Oscar`. Neste caso volte até a célula onde definiu a matriz e aperte Shift+Enter. As vezes também pode ser porque  escreveu errado o nome da matriz\n",
    "</div>\n",
    "\n"
   ]
  },
  {
   "cell_type": "markdown",
   "metadata": {},
   "source": [
    "# Transposta"
   ]
  },
  {
   "cell_type": "markdown",
   "metadata": {},
   "source": [
    "Se quisermos calcular a transposta da matriz `Oscar` usamos o operador `.T`"
   ]
  },
  {
   "cell_type": "code",
   "execution_count": null,
   "metadata": {
    "scrolled": true
   },
   "outputs": [],
   "source": [
    "Oscar.T   #Matriz transposta de A"
   ]
  },
  {
   "cell_type": "markdown",
   "metadata": {},
   "source": [
    "# Multiplicar matrizes"
   ]
  },
  {
   "cell_type": "markdown",
   "metadata": {},
   "source": [
    "Vamos definir duas matrizes `A,B`. Para multliplicá-las usamos o operador `*`"
   ]
  },
  {
   "cell_type": "code",
   "execution_count": null,
   "metadata": {},
   "outputs": [],
   "source": [
    "A=Matrix([[1,2,3],[4,5,6],[2,5,76]])\n",
    "B=Matrix([[1,3,6],[-4,-1,-4],[-1,0,1]])\n",
    "A\n",
    "B\n",
    "A*B\n",
    "B*A"
   ]
  },
  {
   "cell_type": "code",
   "execution_count": null,
   "metadata": {},
   "outputs": [],
   "source": []
  },
  {
   "cell_type": "markdown",
   "metadata": {},
   "source": [
    "# Operações fundamentais\n",
    "\n",
    "Para reduzir uma matriz à forma escalonada usamos três operações elementares:\n",
    "\n",
    "1) Trocar duas linhas (ou colunas) $L_i\\leftrightarrow L_j;$ (ou $C_i\\leftrightarrow C_j$)\n",
    "\n",
    "2) Multiplicar uma linha por um escalar $\\alpha$ não nulo $L_i\\rightarrow\\alpha  L_i$\n",
    "\n",
    "3) Substituir uma linha multiplicando outra  linha por um escalar $\\alpha$ e somando pela linha a ser substituida $L_i\\rightarrow L_i+\\alpha L_k$\n",
    "\n",
    "## Comando `gauss.RedGaussManual`\n",
    "\n",
    "Para aplicar as operações elementares sobre linhas a matrizes usamos a seguinte notação:\n",
    "\n",
    "1) `gauss.RedGaussManual([ [1, linhai, linhaj ]  ], Matriz)=`$L_i\\leftrightarrow L_j;$\n",
    "\n",
    "2) `gauss.RedGaussManual([ [2, linhai, alpha ] ], Matriz )=`$L_i\\rightarrow\\alpha  L_i$\n",
    "\n",
    "3) `gauss.RedGaussManual([ [3, linhai, linhaj, alpha]  ], Matriz )=`$L_i\\rightarrow L_i+\\alpha L_k$\n",
    "\n",
    "\n",
    "As vezes, também pode ser útil fazer as operações elementares sobre colunas:\n",
    "\n",
    "1) `gauss.RedGaussManual([ [-1, coli, colj]  ], Matriz)=`$C_i\\leftrightarrow C_j;$\n",
    "\n",
    "2) `gauss.RedGaussManual([ [-2, coli, alpha]  ], Matriz )=`$C_i\\rightarrow\\alpha  C_i$\n",
    "\n",
    "3) `gauss.RedGaussManual([ [-3, coli, colj, alpha]  ], Matriz )=`$C_i\\rightarrow C_i+\\alpha C_k$\n",
    "\n",
    "## Primeira operação fundamental\n",
    "\n",
    "Considere a matriz $\\left(\\begin{matrix}70 & 37 & 7 & 20\\\\32 & 28 & 61 & 61\\\\67 & 73 & 28 & 26\\\\93 & 2 & 81 & 6\\\\2 & 75 & 70 & 99\\end{matrix}\\right)$ a primeira operação fundamental aplicada às linhas $2,5;\\quad L_2\\leftrightarrow L_5$ da como resultado a matriz\n",
    "\n",
    "$\\left(\\begin{matrix}70 & 37 & 7 & 20\\\\  2 & 75 & 70 & 99\\\\  67 & 73 & 28 & 26\\\\93 & 2 & 81 & 6\\\\32 & 28 & 61 & 61\\end{matrix}\\right)$. Para aplicar esta operação, escrevemos: "
   ]
  },
  {
   "cell_type": "code",
   "execution_count": 13,
   "metadata": {
    "scrolled": true
   },
   "outputs": [
    {
     "data": {
      "text/latex": [
       "$$\\left[\\begin{matrix}70 & -37 & 7 & 20\\\\45 & 80 & -60 & 60\\\\67 & 73 & -28 & 26\\\\14 & 2 & 81 & 6\\\\-2 & 75 & 70 & 99\\end{matrix}\\right]$$"
      ],
      "text/plain": [
       "⎡70  -37   7   20⎤\n",
       "⎢                ⎥\n",
       "⎢45  80   -60  60⎥\n",
       "⎢                ⎥\n",
       "⎢67  73   -28  26⎥\n",
       "⎢                ⎥\n",
       "⎢14   2   81   6 ⎥\n",
       "⎢                ⎥\n",
       "⎣-2  75   70   99⎦"
      ]
     },
     "execution_count": 13,
     "metadata": {},
     "output_type": "execute_result"
    },
    {
     "data": {
      "text/latex": [
       "$$\\left [ \\left[\\begin{matrix}70 & -37 & 7 & 20\\\\45 & 80 & -60 & 60\\\\67 & 73 & -28 & 26\\\\14 & 2 & 81 & 6\\\\-2 & 75 & 70 & 99\\end{matrix}\\right], \\quad \\left[\\begin{matrix}70 & -37 & 7 & 20\\\\-2 & 75 & 70 & 99\\\\67 & 73 & -28 & 26\\\\14 & 2 & 81 & 6\\\\45 & 80 & -60 & 60\\end{matrix}\\right]\\right ]$$"
      ],
      "text/plain": [
       "⎡⎡70  -37   7   20⎤  ⎡70  -37   7   20⎤⎤\n",
       "⎢⎢                ⎥  ⎢                ⎥⎥\n",
       "⎢⎢45  80   -60  60⎥  ⎢-2  75   70   99⎥⎥\n",
       "⎢⎢                ⎥  ⎢                ⎥⎥\n",
       "⎢⎢67  73   -28  26⎥, ⎢67  73   -28  26⎥⎥\n",
       "⎢⎢                ⎥  ⎢                ⎥⎥\n",
       "⎢⎢14   2   81   6 ⎥  ⎢14   2   81   6 ⎥⎥\n",
       "⎢⎢                ⎥  ⎢                ⎥⎥\n",
       "⎣⎣-2  75   70   99⎦  ⎣45  80   -60  60⎦⎦"
      ]
     },
     "execution_count": 13,
     "metadata": {},
     "output_type": "execute_result"
    }
   ],
   "source": [
    "Exemplo1=Matrix([[70,-37,7,20],[45,80,-60,60],[67,73,-28,26],[14,2,81,6],[-2,75,70,99]])\n",
    "\n",
    "Exemplo1\n",
    "gauss.RedGaussManual([ [1,2,5] ],Exemplo1)   #[  [1,  2,  5] ] =  Ope 1, linha 2, linha 5 aplicado sobre "
   ]
  },
  {
   "cell_type": "markdown",
   "metadata": {},
   "source": [
    "## Segunda operação fundamental#"
   ]
  },
  {
   "cell_type": "markdown",
   "metadata": {},
   "source": [
    "Considerando a  matrix anterior, queremos aplicar a segunda operação fundamental à linha 2 dividindo por 5; isto é $L_2\\rightarrow \\frac{1}{5} L_2$"
   ]
  },
  {
   "cell_type": "code",
   "execution_count": 15,
   "metadata": {
    "scrolled": false
   },
   "outputs": [
    {
     "data": {
      "text/latex": [
       "$$\\left [ \\left[\\begin{matrix}70 & -37 & 7 & 20\\\\45 & 80 & -60 & 60\\\\67 & 73 & -28 & 26\\\\14 & 2 & 81 & 6\\\\-2 & 75 & 70 & 99\\end{matrix}\\right], \\quad \\left[\\begin{matrix}70 & -37 & 7 & 20\\\\9.0 & 16.0 & -12.0 & 12.0\\\\67 & 73 & -28 & 26\\\\14 & 2 & 81 & 6\\\\-2 & 75 & 70 & 99\\end{matrix}\\right]\\right ]$$"
      ],
      "text/plain": [
       "⎡⎡70  -37   7   20⎤  ⎡70   -37     7     20 ⎤⎤\n",
       "⎢⎢                ⎥  ⎢                      ⎥⎥\n",
       "⎢⎢45  80   -60  60⎥  ⎢9.0  16.0  -12.0  12.0⎥⎥\n",
       "⎢⎢                ⎥  ⎢                      ⎥⎥\n",
       "⎢⎢67  73   -28  26⎥, ⎢67    73    -28    26 ⎥⎥\n",
       "⎢⎢                ⎥  ⎢                      ⎥⎥\n",
       "⎢⎢14   2   81   6 ⎥  ⎢14    2     81     6  ⎥⎥\n",
       "⎢⎢                ⎥  ⎢                      ⎥⎥\n",
       "⎣⎣-2  75   70   99⎦  ⎣-2    75    70     99 ⎦⎦"
      ]
     },
     "execution_count": 15,
     "metadata": {},
     "output_type": "execute_result"
    }
   ],
   "source": [
    "gauss.RedGaussManual([ [2,2,1/5] ],Exemplo1)       #[  [2,  2,  1/5] ]   Ope 2, linha 2, mult por 1/5"
   ]
  },
  {
   "cell_type": "markdown",
   "metadata": {},
   "source": [
    "## Terceira operação fundamental#"
   ]
  },
  {
   "cell_type": "markdown",
   "metadata": {},
   "source": [
    "Finalmente, considerando novamente a  matrix anterior, queremos aplicar a terceira operação fundamental à linha 4 somando   7 vezes a linha 5; isto é $L_4\\rightarrow L_4+ 7 L_5$"
   ]
  },
  {
   "cell_type": "code",
   "execution_count": 16,
   "metadata": {
    "scrolled": true
   },
   "outputs": [
    {
     "data": {
      "text/latex": [
       "$$\\left [ \\left[\\begin{matrix}70 & -37 & 7 & 20\\\\45 & 80 & -60 & 60\\\\67 & 73 & -28 & 26\\\\14 & 2 & 81 & 6\\\\-2 & 75 & 70 & 99\\end{matrix}\\right], \\quad \\left[\\begin{matrix}70 & -37 & 7 & 20\\\\45 & 80 & -60 & 60\\\\67 & 73 & -28 & 26\\\\0 & 527 & 571 & 699\\\\-2 & 75 & 70 & 99\\end{matrix}\\right]\\right ]$$"
      ],
      "text/plain": [
       "⎡⎡70  -37   7   20⎤  ⎡70  -37   7   20 ⎤⎤\n",
       "⎢⎢                ⎥  ⎢                 ⎥⎥\n",
       "⎢⎢45  80   -60  60⎥  ⎢45  80   -60  60 ⎥⎥\n",
       "⎢⎢                ⎥  ⎢                 ⎥⎥\n",
       "⎢⎢67  73   -28  26⎥, ⎢67  73   -28  26 ⎥⎥\n",
       "⎢⎢                ⎥  ⎢                 ⎥⎥\n",
       "⎢⎢14   2   81   6 ⎥  ⎢0   527  571  699⎥⎥\n",
       "⎢⎢                ⎥  ⎢                 ⎥⎥\n",
       "⎣⎣-2  75   70   99⎦  ⎣-2  75   70   99 ⎦⎦"
      ]
     },
     "execution_count": 16,
     "metadata": {},
     "output_type": "execute_result"
    }
   ],
   "source": [
    "gauss.RedGaussManual([ [3,4,5,7] ],Exemplo1)   #[  [1,  2,  5] ]   Ope 3, linha 4, linha 5, alpha=5"
   ]
  },
  {
   "cell_type": "markdown",
   "metadata": {},
   "source": [
    "# Exemplo de redução manual"
   ]
  },
  {
   "cell_type": "markdown",
   "metadata": {},
   "source": [
    "Suponhamos que precisamos reduzir a matriz $\\left(\\begin{array}{ccc|c}\n",
    "       4 & 5 & 6 & 1\\\\    2 & 5 & 76 & 2\\\\  6 & 12 & 18 & -6\t\\end{array}\t\\right)$ em forma escalonada. Uma possível forma de resolver isto sería fazendo os seguintes cálculos."
   ]
  },
  {
   "cell_type": "markdown",
   "metadata": {},
   "source": [
    "\\begin{align*}\t\n",
    "    \\left(\\begin{array}{ccc|c}\n",
    "       4 & 5 & 6 & 1\\\\    2 & 5 & 76 & 2\\\\  6 & 12 & 18 & -6\t\\end{array}\t\\right)&\n",
    "\t\\overset{L_3\\leftrightarrow L_1}{\\sim}\n",
    "    %\n",
    "    %\n",
    "    \\left(\t\\begin{array}{ccc|c}\n",
    "    6 & 12 & 18 & -6\\\\    2 & 5 & 76 & 2\\\\    4 & 5 & 6 & 1\t\\end{array}\t\\right)&\n",
    "\t\\overset{L_1\\rightarrow \\tfrac{1}{6} L_1}{\\sim}\n",
    "    %\n",
    "    %\n",
    "      \\left(\t\\begin{array}{ccc|c}\n",
    "   1 & 2 & 3 & -1\\\\    2 & 5 & 76 & 2\\\\    4 & 5 & 6 & 1\t\\end{array}\t\\right)\\\\\n",
    "   &\n",
    "\t\\overset{L_2\\rightarrow L_2 - L_1}{\\sim}\n",
    "    %\n",
    "    %\n",
    "    \\left(\t\\begin{array}{ccc|c}\n",
    "    1 & 2 & 3 & -1\\\\   0 & 1 & 70 & 4\\\\    4 & 5 & 6 & 1\t\\end{array}\t\\right)&\n",
    "\t\\overset{L_3\\rightarrow L_3 - 4 L_1}{\\sim}\n",
    "    %\n",
    "    %\n",
    "    \\left(\t\\begin{array}{ccc|c}\n",
    "    1 & 2 & 3 & -1\\\\      0 & 1 & 70 & 4\\\\ 0 & -3 & -6 & 5\t\\end{array}\t\\right)\\\\\n",
    "    &\n",
    "\t\\overset{L_3\\rightarrow L_3 +3 L_2}{\\sim}\n",
    "    %\n",
    "    %\n",
    "    \\left(\t\\begin{array}{ccc|c}\n",
    "    1 & 2 & 3 & -1\\\\0 & 1 & 70 & 4\\\\0 & 0 & 204 & 17\t\\end{array}\t\\right)&\n",
    "    \\overset{L_3\\rightarrow \\tfrac{1}{204} L_3}{\\sim}\n",
    "\t%\n",
    "    %\n",
    "    \\left(\t\\begin{array}{ccc|c}\n",
    "    1 & 2 & 3 & -1\\\\0 & 1 & 70 & 4\\\\0 & 0 & 1 & \\frac{1}{12}\t\\end{array}\t\\right)&\n",
    "\t   \\end{align*}"
   ]
  },
  {
   "cell_type": "markdown",
   "metadata": {},
   "source": [
    "Para implementar os cálculos com ajuda do computador, primeiramente definimos a matriz"
   ]
  },
  {
   "cell_type": "code",
   "execution_count": 33,
   "metadata": {},
   "outputs": [],
   "source": [
    "MatrizdeProvaSuperComplicadadaProva=Matrix([[4,5,6,1],[2,5,76,2],[6,12,18,-6]])"
   ]
  },
  {
   "cell_type": "markdown",
   "metadata": {},
   "source": [
    "Depois adicionamos criamos uma lista com as operações a seguir. Neste caso "
   ]
  },
  {
   "cell_type": "code",
   "execution_count": 43,
   "metadata": {},
   "outputs": [],
   "source": [
    "ListadeContasInfinitasparafazernaProva=[[1,1,3],[2,1,Rational(1)/6],[3,2,1,-2],[3,3,1,-4],[3,3,2,3],[2, 3, Rational(1)/204]]"
   ]
  },
  {
   "cell_type": "markdown",
   "metadata": {},
   "source": [
    "Por ultimos usamos o comando `gauss.RedGaussManual` para a lista e a matriz"
   ]
  },
  {
   "cell_type": "code",
   "execution_count": 44,
   "metadata": {
    "scrolled": false
   },
   "outputs": [
    {
     "data": {
      "text/latex": [
       "$$\\left [ \\left[\\begin{matrix}4 & 5 & 6 & 1\\\\2 & 5 & 76 & 2\\\\6 & 12 & 18 & -6\\end{matrix}\\right], \\quad \\left[\\begin{matrix}6 & 12 & 18 & -6\\\\2 & 5 & 76 & 2\\\\4 & 5 & 6 & 1\\end{matrix}\\right], \\quad \\left[\\begin{matrix}1 & 2 & 3 & -1\\\\2 & 5 & 76 & 2\\\\4 & 5 & 6 & 1\\end{matrix}\\right], \\quad \\left[\\begin{matrix}1 & 2 & 3 & -1\\\\0 & 1 & 70 & 4\\\\4 & 5 & 6 & 1\\end{matrix}\\right], \\quad \\left[\\begin{matrix}1 & 2 & 3 & -1\\\\0 & 1 & 70 & 4\\\\0 & -3 & -6 & 5\\end{matrix}\\right], \\quad \\left[\\begin{matrix}1 & 2 & 3 & -1\\\\0 & 1 & 70 & 4\\\\0 & 0 & 204 & 17\\end{matrix}\\right], \\quad \\left[\\begin{matrix}1 & 2 & 3 & -1\\\\0 & 1 & 70 & 4\\\\0 & 0 & 1 & \\frac{1}{12}\\end{matrix}\\right]\\right ]$$"
      ],
      "text/plain": [
       "⎡⎡4  5   6   1 ⎤  ⎡6  12  18  -6⎤  ⎡1  2  3   -1⎤  ⎡1  2  3   -1⎤  ⎡1  2   3  \n",
       "⎢⎢             ⎥  ⎢             ⎥  ⎢            ⎥  ⎢            ⎥  ⎢          \n",
       "⎢⎢2  5   76  2 ⎥, ⎢2  5   76  2 ⎥, ⎢2  5  76  2 ⎥, ⎢0  1  70  4 ⎥, ⎢0  1   70 \n",
       "⎢⎢             ⎥  ⎢             ⎥  ⎢            ⎥  ⎢            ⎥  ⎢          \n",
       "⎣⎣6  12  18  -6⎦  ⎣4  5   6   1 ⎦  ⎣4  5  6   1 ⎦  ⎣4  5  6   1 ⎦  ⎣0  -3  -6 \n",
       "\n",
       " -1⎤  ⎡1  2   3   -1⎤  ⎡1  2  3    -1 ⎤⎤\n",
       "   ⎥  ⎢             ⎥  ⎢              ⎥⎥\n",
       " 4 ⎥, ⎢0  1  70   4 ⎥, ⎢0  1  70   4  ⎥⎥\n",
       "   ⎥  ⎢             ⎥  ⎢              ⎥⎥\n",
       " 5 ⎦  ⎣0  0  204  17⎦  ⎣0  0  1   1/12⎦⎦"
      ]
     },
     "execution_count": 44,
     "metadata": {},
     "output_type": "execute_result"
    }
   ],
   "source": [
    "Exemplo1=gauss.RedGaussManual(ListadeContasInfinitasparafazernaProva,  MatrizdeProvaSuperComplicadadaProva)\n",
    "Exemplo1"
   ]
  },
  {
   "cell_type": "markdown",
   "metadata": {},
   "source": [
    "## Exemplo2 \n",
    "\n",
    "Reduzir a matriz $\\left(\\begin{array}{ccc|c}\n",
    "       1&-2&5&-1\\\\ 4 & 0 & 1 & -6\\\\    2 & 0 & 2 & 0\\end{array}\t\\right)$ escrevemos"
   ]
  },
  {
   "cell_type": "code",
   "execution_count": 51,
   "metadata": {},
   "outputs": [
    {
     "data": {
      "text/latex": [
       "$$\\left [ \\left[\\begin{matrix}1 & -2 & 5 & -1\\\\4 & 0 & 1 & -6\\\\2 & 0 & 2 & 0\\end{matrix}\\right], \\quad \\left[\\begin{matrix}1 & -2 & 5 & -1\\\\0 & 8 & -19 & -2\\\\2 & 0 & 2 & 0\\end{matrix}\\right], \\quad \\left[\\begin{matrix}1 & -2 & 5 & -1\\\\0 & 8 & -19 & -2\\\\0 & 4 & -8 & 2\\end{matrix}\\right], \\quad \\left[\\begin{matrix}1 & -2 & 5 & -1\\\\0 & 4 & -8 & 2\\\\0 & 8 & -19 & -2\\end{matrix}\\right], \\quad \\left[\\begin{matrix}1 & -2 & 5 & -1\\\\0 & 4 & -8 & 2\\\\0 & 0 & -3 & -6\\end{matrix}\\right], \\quad \\left[\\begin{matrix}1 & -2 & 5 & -1\\\\0 & 4 & -8 & 2\\\\0 & 0 & 1 & 2\\end{matrix}\\right]\\right ]$$"
      ],
      "text/plain": [
       "⎡⎡1  -2  5  -1⎤  ⎡1  -2   5   -1⎤  ⎡1  -2   5   -1⎤  ⎡1  -2   5   -1⎤  ⎡1  -2 \n",
       "⎢⎢            ⎥  ⎢              ⎥  ⎢              ⎥  ⎢              ⎥  ⎢      \n",
       "⎢⎢4  0   1  -6⎥, ⎢0  8   -19  -2⎥, ⎢0  8   -19  -2⎥, ⎢0  4   -8   2 ⎥, ⎢0  4  \n",
       "⎢⎢            ⎥  ⎢              ⎥  ⎢              ⎥  ⎢              ⎥  ⎢      \n",
       "⎣⎣2  0   2  0 ⎦  ⎣2  0    2   0 ⎦  ⎣0  4   -8   2 ⎦  ⎣0  8   -19  -2⎦  ⎣0  0  \n",
       "\n",
       " 5   -1⎤  ⎡1  -2  5   -1⎤⎤\n",
       "       ⎥  ⎢             ⎥⎥\n",
       " -8  2 ⎥, ⎢0  4   -8  2 ⎥⎥\n",
       "       ⎥  ⎢             ⎥⎥\n",
       " -3  -6⎦  ⎣0  0   1   2 ⎦⎦"
      ]
     },
     "execution_count": 51,
     "metadata": {},
     "output_type": "execute_result"
    },
    {
     "data": {
      "text/latex": [
       "$$\\left[\\begin{matrix}1 & -2 & 5 & -1\\\\0 & 4 & -8 & 2\\\\0 & 0 & 1 & 2\\end{matrix}\\right]$$"
      ],
      "text/plain": [
       "⎡1  -2  5   -1⎤\n",
       "⎢             ⎥\n",
       "⎢0  4   -8  2 ⎥\n",
       "⎢             ⎥\n",
       "⎣0  0   1   2 ⎦"
      ]
     },
     "execution_count": 51,
     "metadata": {},
     "output_type": "execute_result"
    },
    {
     "name": "stdout",
     "output_type": "stream",
     "text": [
      "você deveria zerar o elemento  (3, 2) . Como?\n",
      " Substitua a  linha  3 multiplicando a  linha   2 por  8 vezes e somando com a linha 3 isto é;\n",
      " linha 3 -> linha 3 +  -2 x linha 2 \n",
      " Com qual comando? adicione na lista  [3, 3, 2, -2]\n"
     ]
    }
   ],
   "source": [
    "Listaexemplo2=[[3,2,1,-4],[3,3,1,-2],[1,2,3],[3,3,2,-2],[2,3, Rational(-1)/3]]\n",
    "    \n",
    "MatrizExemplo2=Matrix([[1,-2,5,-1],[4,0,1,-6],[2,0,2,0]])\n",
    "\n",
    "\n",
    "Exercicio2=gauss.RedGaussManual(Listaexemplo2,  MatrizExemplo2)\n",
    "Exercicio2\n",
    "\n",
    "Exercicio2[-1]\n",
    "\n",
    "gauss.oquefazer(Exercicio2[-3])\n"
   ]
  },
  {
   "cell_type": "markdown",
   "metadata": {},
   "source": [
    "### Exercícios: \n",
    "Reduzir a matrizes\n",
    "\n",
    "1) $\\left(\\begin{array}{ccc|c}\n",
    "       4 & 5 & 6 & 0\\\\    2 & 5 & 76 & 2\\\\  6 & 12 & 18 & 3\t\\end{array}\t\\right)$\n",
    "     \n",
    "2)   $     \\left(\n",
    "\\begin{array}{ccccc}\n",
    " 0 & 1 & 1 & 1 & 1 \\\\\n",
    " 1 & 0 & 1 & 1 & 1 \\\\\n",
    " 1 & 1 & 0 & 1 & 1 \\\\\n",
    " 1 & 1 & 1 & 0 & 1 \\\\\n",
    " 1 & 1 & 1 & 1 & 0 \\\\\n",
    "\\end{array}\n",
    "\\right)\n",
    "$\n",
    "\n",
    "3) $\\left(\n",
    "\\begin{array}{cccccc}\n",
    " 1 & 2 & 3 & 4 & 5 & 6 \\\\\n",
    " 7 & 8 & 9 & 10 & 11 & 12 \\\\\n",
    " 13 & 14 & 15 & 16 & 17 & 18 \\\\\n",
    " 19 & 20 & 21 & 22 & 23 & 24 \\\\\n",
    " 25 & 26 & 27 & 28 & 29 & 30 \\\\\n",
    "\\end{array}\n",
    "\\right)$\n",
    "\n",
    "4) Crie uma matriz aleatória de inteiros com o comando `radnMatrix` e reduza a matriz"
   ]
  },
  {
   "cell_type": "code",
   "execution_count": 56,
   "metadata": {},
   "outputs": [
    {
     "data": {
      "text/latex": [
       "$$\\left[\\begin{matrix}37 & 88 & 87 & 78\\\\6 & 12 & 74 & 93\\\\33 & 75 & 75 & 25\\\\99 & 19 & 90 & 7\\end{matrix}\\right]$$"
      ],
      "text/plain": [
       "⎡37  88  87  78⎤\n",
       "⎢              ⎥\n",
       "⎢6   12  74  93⎥\n",
       "⎢              ⎥\n",
       "⎢33  75  75  25⎥\n",
       "⎢              ⎥\n",
       "⎣99  19  90  7 ⎦"
      ]
     },
     "execution_count": 56,
     "metadata": {},
     "output_type": "execute_result"
    }
   ],
   "source": [
    "randMatrix(4)    #cria uma matriz aleatória 4x4 de inteiros "
   ]
  },
  {
   "cell_type": "markdown",
   "metadata": {},
   "source": [
    "# O que fazer?"
   ]
  },
  {
   "cell_type": "markdown",
   "metadata": {},
   "source": [
    "Definimos uma matriz chamada `MatrizExemplo`."
   ]
  },
  {
   "cell_type": "code",
   "execution_count": 58,
   "metadata": {
    "scrolled": true
   },
   "outputs": [
    {
     "data": {
      "text/latex": [
       "$$\\left[\\begin{matrix}1 & 2 & 3\\\\4 & 5 & 6\\\\2 & 5 & 76\\end{matrix}\\right]$$"
      ],
      "text/plain": [
       "⎡1  2  3 ⎤\n",
       "⎢        ⎥\n",
       "⎢4  5  6 ⎥\n",
       "⎢        ⎥\n",
       "⎣2  5  76⎦"
      ]
     },
     "execution_count": 58,
     "metadata": {},
     "output_type": "execute_result"
    }
   ],
   "source": [
    "MatrizExemplo=Matrix([[1,2,3],[4,5,6],[2,5,76]])\n",
    "\n",
    "MatrizExemplo  #imprime a matriz"
   ]
  },
  {
   "cell_type": "markdown",
   "metadata": {},
   "source": [
    "Precisamos  reduzir a matriz em forma escalonada, mas não sabemos qual deve ser o seguinte paso. Para ajudarmos, usaremos os comando `gauss.oquefazer(Matriz)` definido nas primeiras células do arquivo. "
   ]
  },
  {
   "cell_type": "code",
   "execution_count": 60,
   "metadata": {
    "scrolled": true
   },
   "outputs": [
    {
     "name": "stdout",
     "output_type": "stream",
     "text": [
      "você deveria zerar o elemento  (2, 1) . Como?\n",
      " Substitua a  linha  2 multiplicando a  linha   1 por  4 vezes e somando com a linha 2 isto é;\n",
      " linha 2 -> linha 2 +  -4 x linha 1 \n",
      " Com qual comando? adicione na lista  [3, 2, 1, -4]\n"
     ]
    }
   ],
   "source": [
    "gauss.oquefazer(MatrizExemplo)  #Shift+Enter"
   ]
  },
  {
   "cell_type": "markdown",
   "metadata": {},
   "source": [
    "<div class=\"alert alert-warning\">\n",
    "Se ao dar Shift+Enter mostra o seguinte erro:\n",
    "\n",
    "__NameError: name 'oquefazer' is not defined__ é porque a célula onde foi definida a funçao (no incio do arquivo) não foi carregada, ou o kernel repentinamente se apagou. Neste caso volte até a célula onde definiu a função e aperte Shift+Enter.\n",
    "\n",
    "Se der o erro\n",
    "__NameError: name 'MatrizdeProvaSuperComplicadas' is not defined__  é porque \n",
    "ainda não carregou a matriz `MatrizdeProvaSuperComplicadas`. Neste caso volte até a célula onde definiu a matriz e aperte Shift+Enter. Em qualquer caso pode reiniciar o jkenrnel e carregar tudo de novo\n",
    "</div>\n",
    "\n"
   ]
  },
  {
   "cell_type": "markdown",
   "metadata": {},
   "source": [
    "Neste caso o comando sugere um modo de reduzir. Para implementar tal sugestão, criamos uma lista que chamaremos `ListadeOperacoes` com o vetor sugerido no comando anterior"
   ]
  },
  {
   "cell_type": "code",
   "execution_count": 61,
   "metadata": {},
   "outputs": [],
   "source": [
    "ListadeOperacoes = [ [3,2,1,-4]  ]  #vetor sugerido no comando anterior"
   ]
  },
  {
   "cell_type": "markdown",
   "metadata": {},
   "source": [
    "Agora executamos `gauss.RedGaussManual(lista, Matriz)` usando nossa matriz"
   ]
  },
  {
   "cell_type": "code",
   "execution_count": 64,
   "metadata": {},
   "outputs": [
    {
     "data": {
      "text/latex": [
       "$$\\left [ \\left[\\begin{matrix}1 & 2 & 3\\\\4 & 5 & 6\\\\2 & 5 & 76\\end{matrix}\\right], \\quad \\left[\\begin{matrix}1 & 2 & 3\\\\0 & -3 & -6\\\\2 & 5 & 76\\end{matrix}\\right]\\right ]$$"
      ],
      "text/plain": [
       "⎡⎡1  2  3 ⎤  ⎡1  2   3 ⎤⎤\n",
       "⎢⎢        ⎥  ⎢         ⎥⎥\n",
       "⎢⎢4  5  6 ⎥, ⎢0  -3  -6⎥⎥\n",
       "⎢⎢        ⎥  ⎢         ⎥⎥\n",
       "⎣⎣2  5  76⎦  ⎣2  5   76⎦⎦"
      ]
     },
     "execution_count": 64,
     "metadata": {},
     "output_type": "execute_result"
    }
   ],
   "source": [
    "Contas=gauss.RedGaussManual(ListadeOperacoes, MatrizExemplo)\n",
    "Contas"
   ]
  },
  {
   "cell_type": "markdown",
   "metadata": {},
   "source": [
    "Podemos recuperar a última matriz de nossas contas executando o seguinte comando :"
   ]
  },
  {
   "cell_type": "code",
   "execution_count": 65,
   "metadata": {},
   "outputs": [
    {
     "data": {
      "text/latex": [
       "$$\\left[\\begin{matrix}1 & 2 & 3\\\\0 & -3 & -6\\\\2 & 5 & 76\\end{matrix}\\right]$$"
      ],
      "text/plain": [
       "⎡1  2   3 ⎤\n",
       "⎢         ⎥\n",
       "⎢0  -3  -6⎥\n",
       "⎢         ⎥\n",
       "⎣2  5   76⎦"
      ]
     },
     "execution_count": 65,
     "metadata": {},
     "output_type": "execute_result"
    }
   ],
   "source": [
    "Contas[-1]"
   ]
  },
  {
   "cell_type": "markdown",
   "metadata": {},
   "source": [
    "Se agora para nosso novo resultado ainda não sabemos como calcular o seguinte passo, podemos perguntar de novo"
   ]
  },
  {
   "cell_type": "code",
   "execution_count": 66,
   "metadata": {},
   "outputs": [
    {
     "name": "stdout",
     "output_type": "stream",
     "text": [
      "você deveria zerar o elemento  (3, 1) . Como?\n",
      " Substitua a  linha  3 multiplicando a  linha   1 por  2 vezes e somando com a linha 3 isto é;\n",
      " linha 3 -> linha 3 +  -2 x linha 1 \n",
      " Com qual comando? adicione na lista  [3, 3, 1, -2]\n"
     ]
    }
   ],
   "source": [
    "gauss.oquefazer(Contas[-1])  #Shift+Enter"
   ]
  },
  {
   "cell_type": "markdown",
   "metadata": {},
   "source": [
    "Adicionamos esta sugestão a nossa lista anteriormente criada "
   ]
  },
  {
   "cell_type": "code",
   "execution_count": 67,
   "metadata": {},
   "outputs": [],
   "source": [
    "ListadeOperacoes = [ [3,2,1,-4] , [3, 3, 1, -2]]  #vetor sugerido no comando anterior"
   ]
  },
  {
   "cell_type": "markdown",
   "metadata": {},
   "source": [
    "E executamos novamente"
   ]
  },
  {
   "cell_type": "code",
   "execution_count": 68,
   "metadata": {},
   "outputs": [
    {
     "data": {
      "text/latex": [
       "$$\\left [ \\left[\\begin{matrix}1 & 2 & 3\\\\4 & 5 & 6\\\\2 & 5 & 76\\end{matrix}\\right], \\quad \\left[\\begin{matrix}1 & 2 & 3\\\\0 & -3 & -6\\\\2 & 5 & 76\\end{matrix}\\right], \\quad \\left[\\begin{matrix}1 & 2 & 3\\\\0 & -3 & -6\\\\0 & 1 & 70\\end{matrix}\\right]\\right ]$$"
      ],
      "text/plain": [
       "⎡⎡1  2  3 ⎤  ⎡1  2   3 ⎤  ⎡1  2   3 ⎤⎤\n",
       "⎢⎢        ⎥  ⎢         ⎥  ⎢         ⎥⎥\n",
       "⎢⎢4  5  6 ⎥, ⎢0  -3  -6⎥, ⎢0  -3  -6⎥⎥\n",
       "⎢⎢        ⎥  ⎢         ⎥  ⎢         ⎥⎥\n",
       "⎣⎣2  5  76⎦  ⎣2  5   76⎦  ⎣0  1   70⎦⎦"
      ]
     },
     "execution_count": 68,
     "metadata": {},
     "output_type": "execute_result"
    }
   ],
   "source": [
    "Contas=gauss.RedGaussManual(ListadeOperacoes, MatrizExemplo)\n",
    "Contas"
   ]
  },
  {
   "cell_type": "markdown",
   "metadata": {},
   "source": [
    "Podemos continuar desta forma até chegar na forma de Gauss Jordan diagonal."
   ]
  },
  {
   "cell_type": "markdown",
   "metadata": {},
   "source": [
    "# Interpretando as Reduções"
   ]
  },
  {
   "cell_type": "code",
   "execution_count": null,
   "metadata": {
    "scrolled": true
   },
   "outputs": [],
   "source": [
    "InterpretarEquacoes(Gauss[-4])"
   ]
  },
  {
   "cell_type": "markdown",
   "metadata": {},
   "source": [
    "# Conjuntos LI"
   ]
  },
  {
   "cell_type": "code",
   "execution_count": null,
   "metadata": {},
   "outputs": [],
   "source": [
    "#SaoLI(Gauss[-1])\n",
    "SaoLI([[1,2,3],[2,4,6],[3,6,9]])"
   ]
  },
  {
   "cell_type": "markdown",
   "metadata": {},
   "source": [
    "#  Reduzão escalão código sympy"
   ]
  },
  {
   "cell_type": "code",
   "execution_count": null,
   "metadata": {},
   "outputs": [],
   "source": [
    "B=Oscar.row_join(Matrix([[a],[b]]))\n",
    "B.rref()"
   ]
  },
  {
   "cell_type": "code",
   "execution_count": null,
   "metadata": {
    "scrolled": true
   },
   "outputs": [],
   "source": [
    "Oscar.rref?"
   ]
  },
  {
   "cell_type": "markdown",
   "metadata": {},
   "source": [
    "# Calculando posto código sympy"
   ]
  },
  {
   "cell_type": "code",
   "execution_count": null,
   "metadata": {},
   "outputs": [],
   "source": [
    "Oscar.rank()"
   ]
  },
  {
   "cell_type": "markdown",
   "metadata": {},
   "source": [
    "# Mais um exemplo calculando a inversa manualmente"
   ]
  },
  {
   "cell_type": "markdown",
   "metadata": {},
   "source": [
    "Se queremos calcular a inversa da matriz$\\left(\\begin{matrix}1 & 2 & 3 \\\\2 & 2 & 3 \\\\3 & 3 & 3 \\end{matrix}\\right)$, então temos que solucionar o multiple sistema $$\\left(\\begin{matrix}1 & 2 & 3 & 1 & 0 & 0\\\\2 & 2 & 3 & 0 & 1 & 0\\\\3 & 3 & 3 & 0 & 0 & 1\\end{matrix}\\right)$$"
   ]
  },
  {
   "cell_type": "code",
   "execution_count": null,
   "metadata": {
    "scrolled": true
   },
   "outputs": [],
   "source": [
    "Outralista=[[3,2,1,-2], [3, 3, 1, -3],[3, 3, 2, -Rational(3)/2],[3, 1, 2, 1],[3, 2, 3, -2],[2,2,-Rational(1)/2],[2,3,-Rational(2)/3]]\n",
    "Outroexemplo=Matrix([[1,2,3,1,0,0],[2,2,3,0,1,0],[3,3,3,0,0,1]])\n",
    "\n",
    "Gauss=RedGaussManual(Outralista,Outroexemplo)\n",
    "Gauss\n",
    "\n",
    "\n",
    "oquefazer(Gauss[-1])\n"
   ]
  },
  {
   "cell_type": "code",
   "execution_count": null,
   "metadata": {},
   "outputs": [],
   "source": [
    "Gauss[-5]\n",
    "InterpretarEquacoes(Gauss[-5])"
   ]
  },
  {
   "cell_type": "markdown",
   "metadata": {},
   "source": [
    "# Calculando a inversa com o código sympy"
   ]
  },
  {
   "cell_type": "markdown",
   "metadata": {},
   "source": [
    "Obviamente, existem comandos predeterminados em python (mais exatamente em sympy) para calcular inversas de matrizes, os quais são altamente otimizados."
   ]
  },
  {
   "cell_type": "code",
   "execution_count": null,
   "metadata": {},
   "outputs": [],
   "source": [
    "A=Matrix([[1,2,3],[2,2,3],[3,3,3]])\n",
    "B=A.inv()\n",
    "#ou também:\n",
    "C=A**(-1)\n",
    "\n",
    "A\n",
    "B\n",
    "C"
   ]
  },
  {
   "cell_type": "code",
   "execution_count": null,
   "metadata": {},
   "outputs": [],
   "source": []
  }
 ],
 "metadata": {
  "kernelspec": {
   "display_name": "Python 3",
   "language": "python",
   "name": "python3"
  },
  "language_info": {
   "codemirror_mode": {
    "name": "ipython",
    "version": 3
   },
   "file_extension": ".py",
   "mimetype": "text/x-python",
   "name": "python",
   "nbconvert_exporter": "python",
   "pygments_lexer": "ipython3",
   "version": "3.6.5"
  }
 },
 "nbformat": 4,
 "nbformat_minor": 2
}
