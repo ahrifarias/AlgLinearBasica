{
 "cells": [
  {
   "cell_type": "markdown",
   "metadata": {},
   "source": [
    "# Para começar "
   ]
  },
  {
   "cell_type": "markdown",
   "metadata": {
    "deletable": false,
    "editable": false
   },
   "source": [
    "Vamos começar desde zero e reiniciar tudo corretamente, caso algúm tipo de calculo anterior tenha ficado errado.\n",
    "\n",
    "1) Click em __Kernel__\n",
    "\n",
    "2) Click em __Restart & Clear Output__\n",
    "\n",
    "3) Click na opção  __Restart & Clear Output__\n",
    "\n",
    "\n",
    "Agora podemos começar. Os cálculos são feitos __nas celulas__ do arquivo. As células são aquelas caixas de código que tem no lado esquerdo __In [ ]__. Para começar dê click dentro da  seguinte célula e a continuação SHIFT+ENTER  (não se preocupe pelo que que está escrito ali, você não poderá editar esta célula)."
   ]
  },
  {
   "cell_type": "code",
   "execution_count": 1,
   "metadata": {
    "deletable": false,
    "editable": false,
    "scrolled": true
   },
   "outputs": [],
   "source": [
    "from IPython.core.interactiveshell import InteractiveShell\n",
    "InteractiveShell.ast_node_interactivity = \"all\" #Mostra todos os computos por célula, não somente o último resultado\n",
    "from sympy import *\n",
    "from sympy.matrices import randMatrix\n",
    "\n",
    "init_printing(use_latex='mathjax')\n",
    "x, y, z, a, b, c, x1,x2,x3,x4,x5,x6,x7,x8,x9,x10=symbols(\"x, y, z,a ,b, c, x1,x2,x3,x4,x5,x6,x7,x8,x9,x10\")\n",
    "\n",
    "import FuncRedGauss as gauss      #Shift + Enter"
   ]
  },
  {
   "cell_type": "markdown",
   "metadata": {
    "deletable": false,
    "editable": false
   },
   "source": [
    "Se o sistema está funcionando corretamente deve aparecer do lado esquerdo da célula __In [1]__. Caso apareça __In[ * ]__ quer dizer que o sistema ainda está carregando e a célula não foi carregada ainda. Se aparecer __In[ ]__ o sistema não leu a célula mas também não está carregando. Se depois de um tempo continua sem aparecer o número reinicie novamente o kernel e começe de novo."
   ]
  },
  {
   "cell_type": "markdown",
   "metadata": {},
   "source": [
    "# Matrizes"
   ]
  },
  {
   "cell_type": "markdown",
   "metadata": {},
   "source": [
    "Insira uma matriz usando o comando `Matrix(  [ linha1,  linha2,  linha3,..., linhaM])`.   Cada linha  escreve-se da forma `linha1=[num1, num2, num3,..., numN]`. Por exemplo, para inserir a matriz $MATRIZ1= \\begin{pmatrix}1&0\\\\3& 5\\end{pmatrix}$ escrevemos:"
   ]
  },
  {
   "cell_type": "code",
   "execution_count": 2,
   "metadata": {
    "deletable": false,
    "editable": false
   },
   "outputs": [
    {
     "data": {
      "text/latex": [
       "$$\\left[\\begin{matrix}1 & 0\\\\3 & 5\\end{matrix}\\right]$$"
      ],
      "text/plain": [
       "⎡1  0⎤\n",
       "⎢    ⎥\n",
       "⎣3  5⎦"
      ]
     },
     "execution_count": 2,
     "metadata": {},
     "output_type": "execute_result"
    }
   ],
   "source": [
    "Matrix([ [1,   0], [3,   5] ])   #Shift+Enter.   Você não poderá editar esta célula"
   ]
  },
  {
   "cell_type": "markdown",
   "metadata": {
    "deletable": false,
    "editable": false
   },
   "source": [
    "<div class=\"alert alert-warning\">\n",
    "Se ao dar Shift+Enter mostra o seguinte erro:\n",
    "\n",
    "__NameError: name 'Matrix' is not defined__ é porque a primeira célula não foi carregada, ou o kernel repentinamente se apagou. Neste caso reinicie  novamente desde o começo do arquivo,\n",
    "</div>\n",
    "\n"
   ]
  },
  {
   "cell_type": "markdown",
   "metadata": {
    "deletable": false,
    "editable": false
   },
   "source": [
    "<div class=\"alert alert-info\"><strong>Maiúsculas sensíveis</strong>: Todos os comandos em python diferenciam  as maiúsculas das minúsculas como carateres distintos. Desta forma,  o comando matrix(..) não é o mesmo que o comando Matrix(..).</div>"
   ]
  },
  {
   "cell_type": "markdown",
   "metadata": {},
   "source": [
    "Os espaços colocados não são necessários:"
   ]
  },
  {
   "cell_type": "code",
   "execution_count": 9,
   "metadata": {},
   "outputs": [
    {
     "data": {
      "text/latex": [
       "$$\\left[\\begin{matrix}1 & 0\\\\3 & 5\\end{matrix}\\right]$$"
      ],
      "text/plain": [
       "⎡1  0⎤\n",
       "⎢    ⎥\n",
       "⎣3  5⎦"
      ]
     },
     "execution_count": 9,
     "metadata": {},
     "output_type": "execute_result"
    }
   ],
   "source": [
    "Matrix([[1,0],[3,5]])       #Shift+Enter  Covê pode editar esta célula e mudar os números"
   ]
  },
  {
   "cell_type": "markdown",
   "metadata": {},
   "source": [
    "Se quiser visualizar um pouco melhor, também pode-se escrever separando as linhas:"
   ]
  },
  {
   "cell_type": "code",
   "execution_count": 10,
   "metadata": {},
   "outputs": [
    {
     "data": {
      "text/latex": [
       "$$\\left[\\begin{matrix}1 & 0\\\\3 & 5\\end{matrix}\\right]$$"
      ],
      "text/plain": [
       "⎡1  0⎤\n",
       "⎢    ⎥\n",
       "⎣3  5⎦"
      ]
     },
     "execution_count": 10,
     "metadata": {},
     "output_type": "execute_result"
    }
   ],
   "source": [
    "Matrix([[1,0],\n",
    "        [3,5]])   #Shift+Enter"
   ]
  },
  {
   "cell_type": "markdown",
   "metadata": {},
   "source": [
    "### Exercício: \n",
    "Nas seguintes três células, insira as matrizes \n",
    "1) $\\begin{pmatrix}1&-1\\\\2& 4\\end{pmatrix}$\n",
    "\n",
    "2) $\\begin{pmatrix} 3& 10 & 4\\\\ 3& 5 & -2 \\\\ 0 & 1&-31\\end{pmatrix}$\n",
    "\n",
    "3) $\\begin{pmatrix} 1& 2 \\\\ 3& 5 \\\\ 1& -2 \\\\ 0 & 3\\end{pmatrix}$"
   ]
  },
  {
   "cell_type": "code",
   "execution_count": 11,
   "metadata": {},
   "outputs": [
    {
     "data": {
      "text/latex": [
       "$$\\left[\\begin{matrix}1 & -1\\\\2 & 4\\end{matrix}\\right]$$"
      ],
      "text/plain": [
       "⎡1  -1⎤\n",
       "⎢     ⎥\n",
       "⎣2  4 ⎦"
      ]
     },
     "execution_count": 11,
     "metadata": {},
     "output_type": "execute_result"
    }
   ],
   "source": [
    "Exer1=      # Lembre que o programam é sensível a maiúsculas\n",
    "Exer1"
   ]
  },
  {
   "cell_type": "code",
   "execution_count": null,
   "metadata": {},
   "outputs": [],
   "source": [
    "Exer2=\n",
    "Exer2"
   ]
  },
  {
   "cell_type": "code",
   "execution_count": null,
   "metadata": {},
   "outputs": [],
   "source": [
    "Exer3= \n",
    "Exer3"
   ]
  },
  {
   "cell_type": "markdown",
   "metadata": {},
   "source": [
    "Se formos usar repetidamente uma matriz podemos dar  um nome a ela"
   ]
  },
  {
   "cell_type": "code",
   "execution_count": 44,
   "metadata": {},
   "outputs": [],
   "source": [
    "Oscar= Matrix([[1,0],[3,5]])  #Shift+Enter"
   ]
  },
  {
   "cell_type": "markdown",
   "metadata": {},
   "source": [
    "Ao dar Shift+Enter a celula terá um valor __In[5]__ (ou possivelmente outro número) mas não imprimirá nada, isto indicará que a matriz `Oscar` já está definida. Podemos agora trabalhar com nossa matriz fazendo contas:"
   ]
  },
  {
   "cell_type": "code",
   "execution_count": 13,
   "metadata": {},
   "outputs": [
    {
     "data": {
      "text/latex": [
       "$$\\left[\\begin{matrix}1 & 0\\\\3 & 5\\end{matrix}\\right]$$"
      ],
      "text/plain": [
       "⎡1  0⎤\n",
       "⎢    ⎥\n",
       "⎣3  5⎦"
      ]
     },
     "execution_count": 13,
     "metadata": {},
     "output_type": "execute_result"
    },
    {
     "data": {
      "text/latex": [
       "$$\\left[\\begin{matrix}2 & 0\\\\6 & 10\\end{matrix}\\right]$$"
      ],
      "text/plain": [
       "⎡2  0 ⎤\n",
       "⎢     ⎥\n",
       "⎣6  10⎦"
      ]
     },
     "execution_count": 13,
     "metadata": {},
     "output_type": "execute_result"
    },
    {
     "data": {
      "text/latex": [
       "$$\\left[\\begin{matrix}5 & 0\\\\15 & 25\\end{matrix}\\right]$$"
      ],
      "text/plain": [
       "⎡5   0 ⎤\n",
       "⎢      ⎥\n",
       "⎣15  25⎦"
      ]
     },
     "execution_count": 13,
     "metadata": {},
     "output_type": "execute_result"
    },
    {
     "data": {
      "text/latex": [
       "$$\\left[\\begin{matrix}0 & 4\\\\10 & 14\\end{matrix}\\right]$$"
      ],
      "text/plain": [
       "⎡0   4 ⎤\n",
       "⎢      ⎥\n",
       "⎣10  14⎦"
      ]
     },
     "execution_count": 13,
     "metadata": {},
     "output_type": "execute_result"
    }
   ],
   "source": [
    "Oscar\n",
    "Oscar+Oscar\n",
    "5*Oscar\n",
    "Oscar + Matrix([[-1,4],[7,9]])   #Shift+Enter"
   ]
  },
  {
   "cell_type": "markdown",
   "metadata": {},
   "source": [
    "<div class=\"alert alert-warning\">\n",
    "Se ao dar Shift+Enter mostra o seguinte erro:\n",
    "\n",
    "__NameError: name 'Oscar' is not defined__ é porque a você ainda não definiu a matriz `Oscar`. Neste caso volte até a célula onde definiu a matriz e aperte Shift+Enter. As vezes também pode ser porque  escreveu errado o nome da matriz\n",
    "</div>\n",
    "\n"
   ]
  },
  {
   "cell_type": "markdown",
   "metadata": {},
   "source": [
    "# Transposta"
   ]
  },
  {
   "cell_type": "markdown",
   "metadata": {},
   "source": [
    "Se quisermos calcular a transposta da matriz `Oscar` usamos o operador `.T`"
   ]
  },
  {
   "cell_type": "code",
   "execution_count": 14,
   "metadata": {
    "scrolled": true
   },
   "outputs": [
    {
     "data": {
      "text/latex": [
       "$$\\left[\\begin{matrix}1 & 3\\\\0 & 5\\end{matrix}\\right]$$"
      ],
      "text/plain": [
       "⎡1  3⎤\n",
       "⎢    ⎥\n",
       "⎣0  5⎦"
      ]
     },
     "execution_count": 14,
     "metadata": {},
     "output_type": "execute_result"
    }
   ],
   "source": [
    "Oscar.T   #Matriz transposta de A"
   ]
  },
  {
   "cell_type": "markdown",
   "metadata": {},
   "source": [
    "# Multiplicar matrizes"
   ]
  },
  {
   "cell_type": "markdown",
   "metadata": {},
   "source": [
    "Vamos definir duas matrizes `A,B`. Para multliplicá-las usamos o operador `*`"
   ]
  },
  {
   "cell_type": "code",
   "execution_count": 15,
   "metadata": {},
   "outputs": [
    {
     "data": {
      "text/latex": [
       "$$\\left[\\begin{matrix}1 & 2 & 3\\\\4 & 5 & 6\\\\2 & 5 & 76\\end{matrix}\\right]$$"
      ],
      "text/plain": [
       "⎡1  2  3 ⎤\n",
       "⎢        ⎥\n",
       "⎢4  5  6 ⎥\n",
       "⎢        ⎥\n",
       "⎣2  5  76⎦"
      ]
     },
     "execution_count": 15,
     "metadata": {},
     "output_type": "execute_result"
    },
    {
     "data": {
      "text/latex": [
       "$$\\left[\\begin{matrix}1 & 3 & 6\\\\-4 & -1 & -4\\\\-1 & 0 & 1\\end{matrix}\\right]$$"
      ],
      "text/plain": [
       "⎡1   3   6 ⎤\n",
       "⎢          ⎥\n",
       "⎢-4  -1  -4⎥\n",
       "⎢          ⎥\n",
       "⎣-1  0   1 ⎦"
      ]
     },
     "execution_count": 15,
     "metadata": {},
     "output_type": "execute_result"
    },
    {
     "data": {
      "text/latex": [
       "$$\\left[\\begin{matrix}-10 & 1 & 1\\\\-22 & 7 & 10\\\\-94 & 1 & 68\\end{matrix}\\right]$$"
      ],
      "text/plain": [
       "⎡-10  1  1 ⎤\n",
       "⎢          ⎥\n",
       "⎢-22  7  10⎥\n",
       "⎢          ⎥\n",
       "⎣-94  1  68⎦"
      ]
     },
     "execution_count": 15,
     "metadata": {},
     "output_type": "execute_result"
    },
    {
     "data": {
      "text/latex": [
       "$$\\left[\\begin{matrix}25 & 47 & 477\\\\-16 & -33 & -322\\\\1 & 3 & 73\\end{matrix}\\right]$$"
      ],
      "text/plain": [
       "⎡25   47   477 ⎤\n",
       "⎢              ⎥\n",
       "⎢-16  -33  -322⎥\n",
       "⎢              ⎥\n",
       "⎣ 1    3    73 ⎦"
      ]
     },
     "execution_count": 15,
     "metadata": {},
     "output_type": "execute_result"
    }
   ],
   "source": [
    "A=Matrix([[1,2,3],[4,5,6],[2,5,76]])\n",
    "B=Matrix([[1,3,6],[-4,-1,-4],[-1,0,1]])\n",
    "A\n",
    "B\n",
    "A*B\n",
    "B*A"
   ]
  },
  {
   "cell_type": "markdown",
   "metadata": {},
   "source": [
    "# Operações elementares\n",
    "\n",
    "Para reduzir uma matriz à forma escalonada usamos três operações elementares:\n",
    "\n",
    "1) __(ope1)__ Trocar duas linhas (ou colunas)  $L_i\\leftrightarrow L_j;$ (ou $C_i\\leftrightarrow C_j$)\n",
    "\n",
    "2) __(ope2)__ Multiplicar uma linha por um escalar $\\alpha$ não nulo $L_i\\leftarrow\\alpha  L_i$\n",
    "\n",
    "3) __(ope3)__ Substituir uma linha multiplicando outra  linha por um escalar $\\alpha$ e somando pela linha a ser substituida $L_i\\leftarrow L_i+\\alpha L_j$\n",
    "\n",
    "## Comando `gauss.RedGaussManual`  _(isto NÃO é uma célula)_\n",
    "\n",
    "Para aplicar as operações elementares sobre linhas a matrizes usamos a seguinte notação:\n",
    "\n",
    "1) `gauss.RedGaussManual([ [1, linhai, linhaj ]  ], Matriz)=`$L_i\\leftrightarrow L_j;$\n",
    "\n",
    "2) `gauss.RedGaussManual([ [2, linhai, alpha ] ], Matriz )=`$L_i\\leftarrow\\alpha  L_i$\n",
    "\n",
    "3) `gauss.RedGaussManual([ [3, linhai, linhaj, alpha]  ], Matriz )=`$L_i\\leftarrow L_i+\\alpha L_j$\n",
    "\n",
    "\n",
    "As vezes, também pode ser útil fazer as operações elementares sobre colunas:\n",
    "\n",
    "1) `gauss.RedGaussManual([ [-1, coli, colj]  ], Matriz)=`$C_i\\leftrightarrow C_j;$\n",
    "\n",
    "2) `gauss.RedGaussManual([ [-2, coli, alpha]  ], Matriz )=`$C_i\\leftarrow\\alpha  C_i$\n",
    "\n",
    "3) `gauss.RedGaussManual([ [-3, coli, colj, alpha]  ], Matriz )=`$C_i\\leftarrow C_i+\\alpha C_j$\n",
    "\n",
    "## Primeira operação elementar\n",
    "\n",
    "Consideremos a matriz:  \n",
    "$Exemplo1 =\\left(\\begin{matrix}70 & -37 & 7 & 20\\\\45&80&-60&60\\\\67 & 73 & -28 & 26\\\\14 & 2 & 81 & 6\\\\-2 & 75 & 70 & 99\\end{matrix}\\right)$. Suponhamos que vamos aplicar  a primeira operação elementar nas linhas $2,5\\quad L_2\\leftrightarrow L_5$;  isto é, queremos trocar as linhas 2, 5. O resultado desta operação seria a matriz:\n",
    "\n",
    "$\\left(\\begin{matrix}70 & -37 & 7 & 20\\\\  -2 & 75 & 70 & 99\\\\  67 & 73 & -28 & 26\\\\14 & 2 & 81 & 6\\\\45&80&-60&60\\end{matrix}\\right)$. Para aplicar esta operação, escrevemos: "
   ]
  },
  {
   "cell_type": "code",
   "execution_count": 16,
   "metadata": {
    "scrolled": false
   },
   "outputs": [
    {
     "data": {
      "text/latex": [
       "$$\\left[\\begin{matrix}70 & -37 & 7 & 20\\\\45 & 80 & -60 & 60\\\\67 & 73 & -28 & 26\\\\14 & 2 & 81 & 6\\\\-2 & 75 & 70 & 99\\end{matrix}\\right]$$"
      ],
      "text/plain": [
       "⎡70  -37   7   20⎤\n",
       "⎢                ⎥\n",
       "⎢45  80   -60  60⎥\n",
       "⎢                ⎥\n",
       "⎢67  73   -28  26⎥\n",
       "⎢                ⎥\n",
       "⎢14   2   81   6 ⎥\n",
       "⎢                ⎥\n",
       "⎣-2  75   70   99⎦"
      ]
     },
     "execution_count": 16,
     "metadata": {},
     "output_type": "execute_result"
    },
    {
     "data": {
      "text/latex": [
       "$$\\left [ \\left[\\begin{matrix}70 & -37 & 7 & 20\\\\45 & 80 & -60 & 60\\\\67 & 73 & -28 & 26\\\\14 & 2 & 81 & 6\\\\-2 & 75 & 70 & 99\\end{matrix}\\right], \\quad \\left[\\begin{matrix}70 & -37 & 7 & 20\\\\-2 & 75 & 70 & 99\\\\67 & 73 & -28 & 26\\\\14 & 2 & 81 & 6\\\\45 & 80 & -60 & 60\\end{matrix}\\right]\\right ]$$"
      ],
      "text/plain": [
       "⎡⎡70  -37   7   20⎤  ⎡70  -37   7   20⎤⎤\n",
       "⎢⎢                ⎥  ⎢                ⎥⎥\n",
       "⎢⎢45  80   -60  60⎥  ⎢-2  75   70   99⎥⎥\n",
       "⎢⎢                ⎥  ⎢                ⎥⎥\n",
       "⎢⎢67  73   -28  26⎥, ⎢67  73   -28  26⎥⎥\n",
       "⎢⎢                ⎥  ⎢                ⎥⎥\n",
       "⎢⎢14   2   81   6 ⎥  ⎢14   2   81   6 ⎥⎥\n",
       "⎢⎢                ⎥  ⎢                ⎥⎥\n",
       "⎣⎣-2  75   70   99⎦  ⎣45  80   -60  60⎦⎦"
      ]
     },
     "execution_count": 16,
     "metadata": {},
     "output_type": "execute_result"
    }
   ],
   "source": [
    "Exemplo1=Matrix([ [70,-37,7,20],[45,80,-60,60],[67,73,-28,26],[14,2,81,6],[-2,75,70,99] ])   #Escrevemos a Matriz\n",
    "\n",
    "Exemplo1                                                   #imprimimos a matriz\n",
    "gauss.RedGaussManual([ [ope1,linhai,linhaj]  ],  matriz)   #substituir aqui:  matriz por Exemplo1\n",
    "                                                                            #ope1 por 1\n",
    "                                                                            #linha i  por 2\n",
    "                                                                            #linha j  por 5  e a continuação Shitft+Enter"
   ]
  },
  {
   "cell_type": "markdown",
   "metadata": {},
   "source": [
    "## Segunda operação elementar#"
   ]
  },
  {
   "cell_type": "markdown",
   "metadata": {},
   "source": [
    "Considerando a  matrix do exemplo anterior. Suponhamos que vamos aplicar a segunda operação elementar à linha 2 dividindo por 5; isto é $L_2\\leftarrow \\frac{1}{5} L_2$"
   ]
  },
  {
   "cell_type": "code",
   "execution_count": 20,
   "metadata": {
    "scrolled": true
   },
   "outputs": [
    {
     "data": {
      "text/latex": [
       "$$\\left [ \\left[\\begin{matrix}70 & -37 & 7 & 20\\\\45 & 80 & -60 & 60\\\\67 & 73 & -28 & 26\\\\14 & 2 & 81 & 6\\\\-2 & 75 & 70 & 99\\end{matrix}\\right], \\quad \\left[\\begin{matrix}70 & -37 & 7 & 20\\\\9 & 16 & -12 & 12\\\\67 & 73 & -28 & 26\\\\14 & 2 & 81 & 6\\\\-2 & 75 & 70 & 99\\end{matrix}\\right]\\right ]$$"
      ],
      "text/plain": [
       "⎡⎡70  -37   7   20⎤  ⎡70  -37   7   20⎤⎤\n",
       "⎢⎢                ⎥  ⎢                ⎥⎥\n",
       "⎢⎢45  80   -60  60⎥  ⎢9   16   -12  12⎥⎥\n",
       "⎢⎢                ⎥  ⎢                ⎥⎥\n",
       "⎢⎢67  73   -28  26⎥, ⎢67  73   -28  26⎥⎥\n",
       "⎢⎢                ⎥  ⎢                ⎥⎥\n",
       "⎢⎢14   2   81   6 ⎥  ⎢14   2   81   6 ⎥⎥\n",
       "⎢⎢                ⎥  ⎢                ⎥⎥\n",
       "⎣⎣-2  75   70   99⎦  ⎣-2  75   70   99⎦⎦"
      ]
     },
     "execution_count": 20,
     "metadata": {},
     "output_type": "execute_result"
    }
   ],
   "source": [
    "gauss.RedGaussManual([[ [ope2,linhai,alpha]  ],  matriz])       #substituir aqui:  matriz por Exemplo1\n",
    "                                                                                #ope2 por 2\n",
    "                                                                                #linhai  por 2\n",
    "                                                                                #alpha  por 1/5  e a continuação Shitft+Enter"
   ]
  },
  {
   "cell_type": "markdown",
   "metadata": {},
   "source": [
    "## Terceira operação elementar#"
   ]
  },
  {
   "cell_type": "markdown",
   "metadata": {},
   "source": [
    "Finalmente, considerando novamente a  matrix anterior, vamos  aplicar a terceira operação elementar à linha 4 somando   7 vezes a linha 5; isto é $L_4\\leftarrow L_4+ 7 L_5$."
   ]
  },
  {
   "cell_type": "code",
   "execution_count": 21,
   "metadata": {
    "scrolled": true
   },
   "outputs": [
    {
     "data": {
      "text/latex": [
       "$$\\left [ \\left[\\begin{matrix}70 & -37 & 7 & 20\\\\45 & 80 & -60 & 60\\\\67 & 73 & -28 & 26\\\\14 & 2 & 81 & 6\\\\-2 & 75 & 70 & 99\\end{matrix}\\right], \\quad \\left[\\begin{matrix}70 & -37 & 7 & 20\\\\45 & 80 & -60 & 60\\\\67 & 73 & -28 & 26\\\\0 & 527 & 571 & 699\\\\-2 & 75 & 70 & 99\\end{matrix}\\right]\\right ]$$"
      ],
      "text/plain": [
       "⎡⎡70  -37   7   20⎤  ⎡70  -37   7   20 ⎤⎤\n",
       "⎢⎢                ⎥  ⎢                 ⎥⎥\n",
       "⎢⎢45  80   -60  60⎥  ⎢45  80   -60  60 ⎥⎥\n",
       "⎢⎢                ⎥  ⎢                 ⎥⎥\n",
       "⎢⎢67  73   -28  26⎥, ⎢67  73   -28  26 ⎥⎥\n",
       "⎢⎢                ⎥  ⎢                 ⎥⎥\n",
       "⎢⎢14   2   81   6 ⎥  ⎢0   527  571  699⎥⎥\n",
       "⎢⎢                ⎥  ⎢                 ⎥⎥\n",
       "⎣⎣-2  75   70   99⎦  ⎣-2  75   70   99 ⎦⎦"
      ]
     },
     "execution_count": 21,
     "metadata": {},
     "output_type": "execute_result"
    }
   ],
   "source": [
    "gauss.RedGaussManual([ [ [ope3,linhai,linhaj, alpha]  ],  matriz])   #substituir aqui:      ope1 por 1\n",
    "                                                                            #linha i  por 4\n",
    "                                                                            #linha j  por 5  \n",
    "                                                                            #alpha    por 7  e a continuação Shitft+Enter"
   ]
  },
  {
   "cell_type": "markdown",
   "metadata": {},
   "source": [
    "# O que fazer?"
   ]
  },
  {
   "cell_type": "markdown",
   "metadata": {},
   "source": [
    "Definamos uma matriz chamada `MatrizExemplo`."
   ]
  },
  {
   "cell_type": "code",
   "execution_count": 22,
   "metadata": {
    "scrolled": true
   },
   "outputs": [
    {
     "data": {
      "text/latex": [
       "$$\\left[\\begin{matrix}1 & 2 & 3\\\\4 & 5 & 6\\\\2 & 5 & 76\\end{matrix}\\right]$$"
      ],
      "text/plain": [
       "⎡1  2  3 ⎤\n",
       "⎢        ⎥\n",
       "⎢4  5  6 ⎥\n",
       "⎢        ⎥\n",
       "⎣2  5  76⎦"
      ]
     },
     "execution_count": 22,
     "metadata": {},
     "output_type": "execute_result"
    }
   ],
   "source": [
    "MatrizExemplo=Matrix([[1,2,3],[4,5,6],[2,5,76]])\n",
    "\n",
    "MatrizExemplo  #imprime a matriz"
   ]
  },
  {
   "cell_type": "markdown",
   "metadata": {},
   "source": [
    "Precisamos  reduzir a matriz em forma escalonada, mas não sabemos qual deve ser o seguinte paso. Para ajudarmos, usaremos os comando `gauss.oquefazer(matriz)`. "
   ]
  },
  {
   "cell_type": "code",
   "execution_count": 23,
   "metadata": {
    "scrolled": true
   },
   "outputs": [
    {
     "name": "stdout",
     "output_type": "stream",
     "text": [
      "você deveria zerar o elemento  (2, 1) . Como?\n",
      " Substitua a  linha  2 multiplicando a  linha   1 por  -4 vezes e somando com a linha 2 isto é;\n",
      " linha 2 -> linha 2 +  -4 x linha 1 \n",
      " Com qual comando? adicione na lista  [3, 2, 1, -4]\n"
     ]
    }
   ],
   "source": [
    "gauss.oquefazer(MatrizExemplo)  #Shift+Enter"
   ]
  },
  {
   "cell_type": "markdown",
   "metadata": {},
   "source": [
    "<div class=\"alert alert-warning\">\n",
    "Se ao dar Shift+Enter mostra o seguinte erro:\n",
    "\n",
    "__NameError: name 'oquefazer' is not defined__ é porque a célula onde foi definida a funçao (no incio do arquivo) não foi carregada, ou o kernel repentinamente se apagou. Neste caso volte até a célula onde definiu a função e aperte Shift+Enter.\n",
    "\n",
    "Se der o erro\n",
    "__NameError: name 'MatrizExemplo' is not defined__  é porque \n",
    "ainda não carregou a matriz `MatrizExemplo`. Neste caso volte até a célula onde definiu a matriz e aperte Shift+Enter. Em qualquer caso pode reiniciar o jkenrnel e carregar tudo de novo\n",
    "</div>\n",
    "\n"
   ]
  },
  {
   "cell_type": "markdown",
   "metadata": {},
   "source": [
    "Neste caso o comando sugere um modo de reduzir. Para implementar tal sugestão, criamos uma lista que chamaremos `ListadeOperacoes` com o vetor sugerido no comando anterior. __Substitua__ $vetor$ na seguinte célula pelo vetor sugerido (neste caso [3, 2, 1, -4])"
   ]
  },
  {
   "cell_type": "code",
   "execution_count": 24,
   "metadata": {},
   "outputs": [],
   "source": [
    "ListadeOperacoes = [ vetor ]  #substituir aqui:  vetor pelo vetor sugerido pelo comando anterior"
   ]
  },
  {
   "cell_type": "markdown",
   "metadata": {},
   "source": [
    "Agora executamos `gauss.RedGaussManual(lista, Matriz)` usando nossa matriz"
   ]
  },
  {
   "cell_type": "code",
   "execution_count": 25,
   "metadata": {},
   "outputs": [
    {
     "data": {
      "text/latex": [
       "$$\\left [ \\left[\\begin{matrix}1 & 2 & 3\\\\4 & 5 & 6\\\\2 & 5 & 76\\end{matrix}\\right], \\quad \\left[\\begin{matrix}1 & 2 & 3\\\\0 & -3 & -6\\\\2 & 5 & 76\\end{matrix}\\right]\\right ]$$"
      ],
      "text/plain": [
       "⎡⎡1  2  3 ⎤  ⎡1  2   3 ⎤⎤\n",
       "⎢⎢        ⎥  ⎢         ⎥⎥\n",
       "⎢⎢4  5  6 ⎥, ⎢0  -3  -6⎥⎥\n",
       "⎢⎢        ⎥  ⎢         ⎥⎥\n",
       "⎣⎣2  5  76⎦  ⎣2  5   76⎦⎦"
      ]
     },
     "execution_count": 25,
     "metadata": {},
     "output_type": "execute_result"
    }
   ],
   "source": [
    "Contas=gauss.RedGaussManual(ListadeOperacoes, MatrizExemplo)\n",
    "Contas"
   ]
  },
  {
   "cell_type": "markdown",
   "metadata": {},
   "source": [
    "Podemos recuperar a última matriz das nossas contas executando o seguinte comando :"
   ]
  },
  {
   "cell_type": "code",
   "execution_count": 26,
   "metadata": {},
   "outputs": [
    {
     "data": {
      "text/latex": [
       "$$\\left[\\begin{matrix}1 & 2 & 3\\\\0 & -3 & -6\\\\2 & 5 & 76\\end{matrix}\\right]$$"
      ],
      "text/plain": [
       "⎡1  2   3 ⎤\n",
       "⎢         ⎥\n",
       "⎢0  -3  -6⎥\n",
       "⎢         ⎥\n",
       "⎣2  5   76⎦"
      ]
     },
     "execution_count": 26,
     "metadata": {},
     "output_type": "execute_result"
    }
   ],
   "source": [
    "Contas[-1]   #toma o ultima matriz da lista          Contas"
   ]
  },
  {
   "cell_type": "markdown",
   "metadata": {},
   "source": [
    "Se agora para nosso novo resultado ainda não sabemos como calcular o seguinte passo, podemos perguntar de novo"
   ]
  },
  {
   "cell_type": "code",
   "execution_count": 27,
   "metadata": {},
   "outputs": [
    {
     "name": "stdout",
     "output_type": "stream",
     "text": [
      "você deveria zerar o elemento  (3, 1) . Como?\n",
      " Substitua a  linha  3 multiplicando a  linha   1 por  -2 vezes e somando com a linha 3 isto é;\n",
      " linha 3 -> linha 3 +  -2 x linha 1 \n",
      " Com qual comando? adicione na lista  [3, 3, 1, -2]\n"
     ]
    }
   ],
   "source": [
    "gauss.oquefazer(Contas[-1])  #Shift+Enter"
   ]
  },
  {
   "cell_type": "markdown",
   "metadata": {},
   "source": [
    "Adicionamos esta sugestão a nossa lista anteriormente criada. Insira a última instrução dada."
   ]
  },
  {
   "cell_type": "code",
   "execution_count": 28,
   "metadata": {},
   "outputs": [],
   "source": [
    "ListadeOperacoes = [ [3,2,1,-4] , vetor]  #vetor sugerido no comando anterior"
   ]
  },
  {
   "cell_type": "markdown",
   "metadata": {},
   "source": [
    "E executamos novamente"
   ]
  },
  {
   "cell_type": "code",
   "execution_count": 29,
   "metadata": {},
   "outputs": [
    {
     "data": {
      "text/latex": [
       "$$\\left [ \\left[\\begin{matrix}1 & 2 & 3\\\\4 & 5 & 6\\\\2 & 5 & 76\\end{matrix}\\right], \\quad \\left[\\begin{matrix}1 & 2 & 3\\\\0 & -3 & -6\\\\2 & 5 & 76\\end{matrix}\\right], \\quad \\left[\\begin{matrix}1 & 2 & 3\\\\0 & -3 & -6\\\\0 & 1 & 70\\end{matrix}\\right]\\right ]$$"
      ],
      "text/plain": [
       "⎡⎡1  2  3 ⎤  ⎡1  2   3 ⎤  ⎡1  2   3 ⎤⎤\n",
       "⎢⎢        ⎥  ⎢         ⎥  ⎢         ⎥⎥\n",
       "⎢⎢4  5  6 ⎥, ⎢0  -3  -6⎥, ⎢0  -3  -6⎥⎥\n",
       "⎢⎢        ⎥  ⎢         ⎥  ⎢         ⎥⎥\n",
       "⎣⎣2  5  76⎦  ⎣2  5   76⎦  ⎣0  1   70⎦⎦"
      ]
     },
     "execution_count": 29,
     "metadata": {},
     "output_type": "execute_result"
    }
   ],
   "source": [
    "Contas=gauss.RedGaussManual(ListadeOperacoes, MatrizExemplo)\n",
    "Contas"
   ]
  },
  {
   "cell_type": "markdown",
   "metadata": {},
   "source": [
    "Podemos continuar desta forma até chegar na forma de Gauss Jordan diagonal."
   ]
  },
  {
   "cell_type": "markdown",
   "metadata": {},
   "source": [
    "# Exemplo de redução manual"
   ]
  },
  {
   "cell_type": "markdown",
   "metadata": {},
   "source": [
    "Suponhamos que precisamos reduzir a matriz $\\left(\\begin{array}{ccc|c}\n",
    "       4 & 5 & 6 & 1\\\\    2 & 5 & 76 & 2\\\\  6 & 12 & 18 & -6\t\\end{array}\t\\right)$ em forma escalonada. Uma possível forma de resolver este problema sería fazendo os seguintes cálculos manualmente:"
   ]
  },
  {
   "cell_type": "markdown",
   "metadata": {},
   "source": [
    "\\begin{align*}\t\n",
    "    \\left(\\begin{array}{ccc|c}\n",
    "       4 & 5 & 6 & 1\\\\    2 & 5 & 76 & 2\\\\  6 & 12 & 18 & -6\t\\end{array}\t\\right)&\n",
    "\t\\overset{L_3\\leftrightarrow L_1}{\\sim}\n",
    "    %\n",
    "    %\n",
    "    \\left(\t\\begin{array}{ccc|c}\n",
    "    6 & 12 & 18 & -6\\\\    2 & 5 & 76 & 2\\\\    4 & 5 & 6 & 1\t\\end{array}\t\\right)&\n",
    "\t\\overset{L_1\\leftarrow \\tfrac{1}{6} L_1}{\\sim}\n",
    "    %\n",
    "    %\n",
    "      \\left(\t\\begin{array}{ccc|c}\n",
    "   1 & 2 & 3 & -1\\\\    2 & 5 & 76 & 2\\\\    4 & 5 & 6 & 1\t\\end{array}\t\\right)\\\\\n",
    "   &\n",
    "\t\\overset{L_2\\leftarrow L_2 - L_1}{\\sim}\n",
    "    %\n",
    "    %\n",
    "    \\left(\t\\begin{array}{ccc|c}\n",
    "    1 & 2 & 3 & -1\\\\   0 & 1 & 70 & 4\\\\    4 & 5 & 6 & 1\t\\end{array}\t\\right)&\n",
    "\t\\overset{L_3\\leftarrow L_3 - 4 L_1}{\\sim}\n",
    "    %\n",
    "    %\n",
    "    \\left(\t\\begin{array}{ccc|c}\n",
    "    1 & 2 & 3 & -1\\\\      0 & 1 & 70 & 4\\\\ 0 & -3 & -6 & 5\t\\end{array}\t\\right)\\\\\n",
    "    &\n",
    "\t\\overset{L_3\\leftarrow L_3 +3 L_2}{\\sim}\n",
    "    %\n",
    "    %\n",
    "    \\left(\t\\begin{array}{ccc|c}\n",
    "    1 & 2 & 3 & -1\\\\0 & 1 & 70 & 4\\\\0 & 0 & 204 & 17\t\\end{array}\t\\right)&\n",
    "    \\overset{L_3\\leftarrow \\tfrac{1}{204} L_3}{\\sim}\n",
    "\t%\n",
    "    %\n",
    "    \\left(\t\\begin{array}{ccc|c}\n",
    "    1 & 2 & 3 & -1\\\\0 & 1 & 70 & 4\\\\0 & 0 & 1 & \\frac{1}{12}\t\\end{array}\t\\right)&\n",
    "\t   \\end{align*}"
   ]
  },
  {
   "cell_type": "markdown",
   "metadata": {},
   "source": [
    "Para implementar os cálculos com ajuda do computador, primeiramente definimos a matriz"
   ]
  },
  {
   "cell_type": "code",
   "execution_count": 33,
   "metadata": {},
   "outputs": [
    {
     "data": {
      "text/latex": [
       "$$\\left[\\begin{matrix}4 & 5 & 6 & 1\\\\2 & 5 & 76 & 2\\\\6 & 12 & 18 & -6\\end{matrix}\\right]$$"
      ],
      "text/plain": [
       "⎡4  5   6   1 ⎤\n",
       "⎢             ⎥\n",
       "⎢2  5   76  2 ⎥\n",
       "⎢             ⎥\n",
       "⎣6  12  18  -6⎦"
      ]
     },
     "execution_count": 33,
     "metadata": {},
     "output_type": "execute_result"
    }
   ],
   "source": [
    "MatrizparaReduzir=Matrix([[4,5,6,1],[2,5,76,2],[6,12,18,-6]])   #Definimos a matrix e depois Shif+Enter\n",
    "\n",
    "MatrizparaReduzir"
   ]
  },
  {
   "cell_type": "markdown",
   "metadata": {},
   "source": [
    "Depois adicionamos criamos uma lista com as operações. Compare a seguinte  lista com as operações elementares aplicadas acima."
   ]
  },
  {
   "cell_type": "code",
   "execution_count": 34,
   "metadata": {},
   "outputs": [
    {
     "data": {
      "text/latex": [
       "$$\\left [ \\left [ 1, \\quad 1, \\quad 3\\right ], \\quad \\left [ 2, \\quad 1, \\quad \\frac{1}{6}\\right ], \\quad \\left [ 3, \\quad 2, \\quad 1, \\quad -2\\right ], \\quad \\left [ 3, \\quad 3, \\quad 1, \\quad -4\\right ], \\quad \\left [ 3, \\quad 3, \\quad 2, \\quad 3\\right ], \\quad \\left [ 2, \\quad 3, \\quad \\frac{1}{204}\\right ]\\right ]$$"
      ],
      "text/plain": [
       "[[1, 1, 3], [2, 1, 1/6], [3, 2, 1, -2], [3, 3, 1, -4], [3, 3, 2, 3], [2, 3, 1/\n",
       "204]]"
      ]
     },
     "execution_count": 34,
     "metadata": {},
     "output_type": "execute_result"
    }
   ],
   "source": [
    "ListadeContas=[[1,1,3],[2,1,Rational(1)/6],[3,2,1,-2],[3,3,1,-4],[3,3,2,3],[2, 3, Rational(1)/204]]  \n",
    "ListadeContas"
   ]
  },
  {
   "cell_type": "markdown",
   "metadata": {},
   "source": [
    "Por ultimo, usamos o comando `gauss.RedGaussManual(listadeoperacoes, MatrizTrabalhar)` para a lista e a matriz"
   ]
  },
  {
   "cell_type": "code",
   "execution_count": 35,
   "metadata": {
    "scrolled": false
   },
   "outputs": [
    {
     "data": {
      "text/latex": [
       "$$\\left [ \\left[\\begin{matrix}4 & 5 & 6 & 1\\\\2 & 5 & 76 & 2\\\\6 & 12 & 18 & -6\\end{matrix}\\right], \\quad \\left[\\begin{matrix}6 & 12 & 18 & -6\\\\2 & 5 & 76 & 2\\\\4 & 5 & 6 & 1\\end{matrix}\\right], \\quad \\left[\\begin{matrix}1 & 2 & 3 & -1\\\\2 & 5 & 76 & 2\\\\4 & 5 & 6 & 1\\end{matrix}\\right], \\quad \\left[\\begin{matrix}1 & 2 & 3 & -1\\\\0 & 1 & 70 & 4\\\\4 & 5 & 6 & 1\\end{matrix}\\right], \\quad \\left[\\begin{matrix}1 & 2 & 3 & -1\\\\0 & 1 & 70 & 4\\\\0 & -3 & -6 & 5\\end{matrix}\\right], \\quad \\left[\\begin{matrix}1 & 2 & 3 & -1\\\\0 & 1 & 70 & 4\\\\0 & 0 & 204 & 17\\end{matrix}\\right], \\quad \\left[\\begin{matrix}1 & 2 & 3 & -1\\\\0 & 1 & 70 & 4\\\\0 & 0 & 1 & \\frac{1}{12}\\end{matrix}\\right]\\right ]$$"
      ],
      "text/plain": [
       "⎡⎡4  5   6   1 ⎤  ⎡6  12  18  -6⎤  ⎡1  2  3   -1⎤  ⎡1  2  3   -1⎤  ⎡1  2   3  \n",
       "⎢⎢             ⎥  ⎢             ⎥  ⎢            ⎥  ⎢            ⎥  ⎢          \n",
       "⎢⎢2  5   76  2 ⎥, ⎢2  5   76  2 ⎥, ⎢2  5  76  2 ⎥, ⎢0  1  70  4 ⎥, ⎢0  1   70 \n",
       "⎢⎢             ⎥  ⎢             ⎥  ⎢            ⎥  ⎢            ⎥  ⎢          \n",
       "⎣⎣6  12  18  -6⎦  ⎣4  5   6   1 ⎦  ⎣4  5  6   1 ⎦  ⎣4  5  6   1 ⎦  ⎣0  -3  -6 \n",
       "\n",
       " -1⎤  ⎡1  2   3   -1⎤  ⎡1  2  3    -1 ⎤⎤\n",
       "   ⎥  ⎢             ⎥  ⎢              ⎥⎥\n",
       " 4 ⎥, ⎢0  1  70   4 ⎥, ⎢0  1  70   4  ⎥⎥\n",
       "   ⎥  ⎢             ⎥  ⎢              ⎥⎥\n",
       " 5 ⎦  ⎣0  0  204  17⎦  ⎣0  0  1   1/12⎦⎦"
      ]
     },
     "execution_count": 35,
     "metadata": {},
     "output_type": "execute_result"
    }
   ],
   "source": [
    "Exemplo1=gauss.RedGaussManual(ListadeContas,  MatrizparaReduzir)     #substituir aqui:      lista por ListadeContas\n",
    "                                                                        #Matriz  por MatrizparaReduzir\n",
    "        \n",
    "Exemplo1"
   ]
  },
  {
   "cell_type": "markdown",
   "metadata": {},
   "source": [
    "## Exemplo2 \n",
    "\n",
    "Reduzir a matriz $\\left(\\begin{array}{ccc|c}\n",
    "       1&-2&5&-1\\\\ 4 & 0 & 1 & -6\\\\    2 & 0 & 2 & 0\\end{array}\t\\right)$ escrevemos"
   ]
  },
  {
   "cell_type": "code",
   "execution_count": 36,
   "metadata": {},
   "outputs": [
    {
     "data": {
      "text/latex": [
       "$$\\left [ \\left[\\begin{matrix}1 & -2 & 5 & -1\\\\4 & 0 & 1 & -6\\\\2 & 0 & 2 & 0\\end{matrix}\\right], \\quad \\left[\\begin{matrix}1 & -2 & 5 & -1\\\\0 & 8 & -19 & -2\\\\2 & 0 & 2 & 0\\end{matrix}\\right], \\quad \\left[\\begin{matrix}1 & -2 & 5 & -1\\\\0 & 8 & -19 & -2\\\\0 & 4 & -8 & 2\\end{matrix}\\right], \\quad \\left[\\begin{matrix}1 & -2 & 5 & -1\\\\0 & 4 & -8 & 2\\\\0 & 8 & -19 & -2\\end{matrix}\\right], \\quad \\left[\\begin{matrix}1 & -2 & 5 & -1\\\\0 & 4 & -8 & 2\\\\0 & 0 & -3 & -6\\end{matrix}\\right], \\quad \\left[\\begin{matrix}1 & -2 & 5 & -1\\\\0 & 4 & -8 & 2\\\\0 & 0 & 1 & 2\\end{matrix}\\right]\\right ]$$"
      ],
      "text/plain": [
       "⎡⎡1  -2  5  -1⎤  ⎡1  -2   5   -1⎤  ⎡1  -2   5   -1⎤  ⎡1  -2   5   -1⎤  ⎡1  -2 \n",
       "⎢⎢            ⎥  ⎢              ⎥  ⎢              ⎥  ⎢              ⎥  ⎢      \n",
       "⎢⎢4  0   1  -6⎥, ⎢0  8   -19  -2⎥, ⎢0  8   -19  -2⎥, ⎢0  4   -8   2 ⎥, ⎢0  4  \n",
       "⎢⎢            ⎥  ⎢              ⎥  ⎢              ⎥  ⎢              ⎥  ⎢      \n",
       "⎣⎣2  0   2  0 ⎦  ⎣2  0    2   0 ⎦  ⎣0  4   -8   2 ⎦  ⎣0  8   -19  -2⎦  ⎣0  0  \n",
       "\n",
       " 5   -1⎤  ⎡1  -2  5   -1⎤⎤\n",
       "       ⎥  ⎢             ⎥⎥\n",
       " -8  2 ⎥, ⎢0  4   -8  2 ⎥⎥\n",
       "       ⎥  ⎢             ⎥⎥\n",
       " -3  -6⎦  ⎣0  0   1   2 ⎦⎦"
      ]
     },
     "execution_count": 36,
     "metadata": {},
     "output_type": "execute_result"
    },
    {
     "data": {
      "text/latex": [
       "$$\\left[\\begin{matrix}1 & -2 & 5 & -1\\\\0 & 4 & -8 & 2\\\\0 & 0 & 1 & 2\\end{matrix}\\right]$$"
      ],
      "text/plain": [
       "⎡1  -2  5   -1⎤\n",
       "⎢             ⎥\n",
       "⎢0  4   -8  2 ⎥\n",
       "⎢             ⎥\n",
       "⎣0  0   1   2 ⎦"
      ]
     },
     "execution_count": 36,
     "metadata": {},
     "output_type": "execute_result"
    },
    {
     "name": "stdout",
     "output_type": "stream",
     "text": [
      "A matriz está escalonada, pode interpretar as equações ou continuar reduzindo até chegar numa matriz diagonal.\n",
      "\n",
      " Se quiser zerar a diagonal superior, você pode zerar o elemento  (1, 2) . Como?\n",
      " Substitua a  linha  1 multiplicando a  linha   2 por  1/2 vezes e somando com a linha 1 isto é;\n",
      " linha 1 -> linha 1 +  1/2 x linha 2 \n",
      " Com qual comando? adicione na lista  [3, 1, 2, 1/2]\n"
     ]
    }
   ],
   "source": [
    "Listaexemplo2=[[3,2,1,-4],[3,3,1,-2],[1,2,3],[3,3,2,-2],[2,3, Rational(-1)/3]]\n",
    "    \n",
    "MatrizExemplo2=Matrix([[1,-2,5,-1],[4,0,1,-6],[2,0,2,0]])\n",
    "\n",
    "\n",
    "Exercicio2=gauss.RedGaussManual(Listaexemplo2,  MatrizExemplo2)\n",
    "Exercicio2\n",
    "\n",
    "Exercicio2[-1]\n",
    "\n",
    "gauss.oquefazer(Exercicio2[-1])\n"
   ]
  },
  {
   "cell_type": "markdown",
   "metadata": {},
   "source": [
    "### Exercícios: \n",
    "Reduzir a matrizes\n",
    "\n",
    "1) $\\left(\\begin{array}{ccc|c}\n",
    "       4 & 5 & 6 & 0\\\\    2 & 5 & 76 & 2\\\\  6 & 12 & 18 & 3\t\\end{array}\t\\right)$\n",
    "     \n",
    "2)   $     \\left(\n",
    "\\begin{array}{ccccc}\n",
    " 0 & 1 & 1 & 1 & 1 \\\\\n",
    " 1 & 0 & 1 & 1 & 1 \\\\\n",
    " 1 & 1 & 0 & 1 & 1 \\\\\n",
    " 1 & 1 & 1 & 0 & 1 \\\\\n",
    " 1 & 1 & 1 & 1 & 0 \\\\\n",
    "\\end{array}\n",
    "\\right)\n",
    "$\n",
    "\n",
    "3) $\\left(\n",
    "\\begin{array}{cccccc}\n",
    " 1 & 2 & 3 & 4 & 5 & 6 \\\\\n",
    " 7 & 8 & 9 & 10 & 11 & 12 \\\\\n",
    " 13 & 14 & 15 & 16 & 17 & 18 \\\\\n",
    " 19 & 20 & 21 & 22 & 23 & 24 \\\\\n",
    " 25 & 26 & 27 & 28 & 29 & 30 \\\\\n",
    "\\end{array}\n",
    "\\right)$\n",
    "\n",
    "4) Crie uma matriz aleatória de inteiros com o comando `radnMatrix` e reduza a matriz"
   ]
  },
  {
   "cell_type": "code",
   "execution_count": null,
   "metadata": {},
   "outputs": [],
   "source": []
  },
  {
   "cell_type": "code",
   "execution_count": null,
   "metadata": {},
   "outputs": [],
   "source": []
  },
  {
   "cell_type": "code",
   "execution_count": null,
   "metadata": {},
   "outputs": [],
   "source": [
    "randMatrix(4)    #cria uma matriz aleatória 4x4 de inteiros "
   ]
  },
  {
   "cell_type": "markdown",
   "metadata": {},
   "source": [
    "# Mais um exemplo calculando a inversa manualmente"
   ]
  },
  {
   "cell_type": "markdown",
   "metadata": {},
   "source": [
    "Se quisermos calcular a inversa da matriz$\\left(\\begin{matrix}1 & 2 & 3 \\\\2 & 2 & 3 \\\\3 & 3 & 3 \\end{matrix}\\right)$, então teremos que solucionar o  sistema múltiplo $$\\left(\\begin{matrix}1 & 2 & 3 & 1 & 0 & 0\\\\2 & 2 & 3 & 0 & 1 & 0\\\\3 & 3 & 3 & 0 & 0 & 1\\end{matrix}\\right)$$"
   ]
  },
  {
   "cell_type": "code",
   "execution_count": 37,
   "metadata": {
    "scrolled": true
   },
   "outputs": [
    {
     "data": {
      "text/latex": [
       "$$\\left [ \\left[\\begin{matrix}1 & 2 & 3 & 1 & 0 & 0\\\\2 & 2 & 3 & 0 & 1 & 0\\\\3 & 3 & 3 & 0 & 0 & 1\\end{matrix}\\right], \\quad \\left[\\begin{matrix}1 & 2 & 3 & 1 & 0 & 0\\\\0 & -2 & -3 & -2 & 1 & 0\\\\3 & 3 & 3 & 0 & 0 & 1\\end{matrix}\\right], \\quad \\left[\\begin{matrix}1 & 2 & 3 & 1 & 0 & 0\\\\0 & -2 & -3 & -2 & 1 & 0\\\\0 & -3 & -6 & -3 & 0 & 1\\end{matrix}\\right], \\quad \\left[\\begin{matrix}1 & 2 & 3 & 1 & 0 & 0\\\\0 & -2 & -3 & -2 & 1 & 0\\\\0 & 0 & - \\frac{3}{2} & 0 & - \\frac{3}{2} & 1\\end{matrix}\\right], \\quad \\left[\\begin{matrix}1 & 0 & 0 & -1 & 1 & 0\\\\0 & -2 & -3 & -2 & 1 & 0\\\\0 & 0 & - \\frac{3}{2} & 0 & - \\frac{3}{2} & 1\\end{matrix}\\right], \\quad \\left[\\begin{matrix}1 & 0 & 0 & -1 & 1 & 0\\\\0 & -2 & 0 & -2 & 4 & -2\\\\0 & 0 & - \\frac{3}{2} & 0 & - \\frac{3}{2} & 1\\end{matrix}\\right], \\quad \\left[\\begin{matrix}1 & 0 & 0 & -1 & 1 & 0\\\\0 & 1 & 0 & 1 & -2 & 1\\\\0 & 0 & - \\frac{3}{2} & 0 & - \\frac{3}{2} & 1\\end{matrix}\\right], \\quad \\left[\\begin{matrix}1 & 0 & 0 & -1 & 1 & 0\\\\0 & 1 & 0 & 1 & -2 & 1\\\\0 & 0 & 1 & 0 & 1 & - \\frac{2}{3}\\end{matrix}\\right]\\right ]$$"
      ],
      "text/plain": [
       "⎡⎡1  2  3  1  0  0⎤  ⎡1  2   3   1   0  0⎤  ⎡1  2   3   1   0  0⎤  ⎡1  2    3 \n",
       "⎢⎢                ⎥  ⎢                   ⎥  ⎢                   ⎥  ⎢          \n",
       "⎢⎢2  2  3  0  1  0⎥, ⎢0  -2  -3  -2  1  0⎥, ⎢0  -2  -3  -2  1  0⎥, ⎢0  -2   -3\n",
       "⎢⎢                ⎥  ⎢                   ⎥  ⎢                   ⎥  ⎢          \n",
       "⎣⎣3  3  3  0  0  1⎦  ⎣3  3   3   0   0  1⎦  ⎣0  -3  -6  -3  0  1⎦  ⎣0  0   -3/\n",
       "\n",
       "   1    0    0⎤  ⎡1  0    0    -1   1    0⎤  ⎡1  0    0    -1   1    0 ⎤  ⎡1  \n",
       "              ⎥  ⎢                        ⎥  ⎢                         ⎥  ⎢   \n",
       "   -2   1    0⎥, ⎢0  -2   -3   -2   1    0⎥, ⎢0  -2   0    -2   4    -2⎥, ⎢0  \n",
       "              ⎥  ⎢                        ⎥  ⎢                         ⎥  ⎢   \n",
       "2  0   -3/2  1⎦  ⎣0  0   -3/2  0   -3/2  1⎦  ⎣0  0   -3/2  0   -3/2  1 ⎦  ⎣0  \n",
       "\n",
       "0   0    -1   1    0⎤  ⎡1  0  0  -1  1    0  ⎤⎤\n",
       "                    ⎥  ⎢                     ⎥⎥\n",
       "1   0    1    -2   1⎥, ⎢0  1  0  1   -2   1  ⎥⎥\n",
       "                    ⎥  ⎢                     ⎥⎥\n",
       "0  -3/2  0   -3/2  1⎦  ⎣0  0  1  0   1   -2/3⎦⎦"
      ]
     },
     "execution_count": 37,
     "metadata": {},
     "output_type": "execute_result"
    },
    {
     "name": "stdout",
     "output_type": "stream",
     "text": [
      "A matriz está escalonada, pode interpretar as equações ou continuar reduzindo até chegar numa matriz diagonal.\n",
      "A matriz já está em forma Gauss-Jordan, pode interpretar as equações\n"
     ]
    }
   ],
   "source": [
    "Outralista=[[3,2,1,-2], [3, 3, 1, -3],[3, 3, 2, -Rational(3)/2],[3, 1, 2, 1],[3, 2, 3, -2],[2,2,-Rational(1)/2],[2,3,-Rational(2)/3]]\n",
    "Outroexemplo=Matrix([[1,2,3,1,0,0],[2,2,3,0,1,0],[3,3,3,0,0,1]])\n",
    "\n",
    "Exemplo4=gauss.RedGaussManual(Outralista,Outroexemplo)\n",
    "Exemplo4\n",
    "\n",
    "\n",
    "gauss.oquefazer(Exemplo4[-1])\n"
   ]
  },
  {
   "cell_type": "markdown",
   "metadata": {},
   "source": [
    "# Conjuntos LI"
   ]
  },
  {
   "cell_type": "markdown",
   "metadata": {},
   "source": [
    "Podemos determinar quando um conjunto de vetores é LI ou não."
   ]
  },
  {
   "cell_type": "code",
   "execution_count": 38,
   "metadata": {},
   "outputs": [
    {
     "name": "stdout",
     "output_type": "stream",
     "text": [
      "Os vetores são LI se a matriz formada de vetores linha tem posto igual ao número de vetores.\n",
      "\n",
      "Neste caso escalonando a matriz  [ver comando   MATRIZ.rref() ], pode-se ver que pelo menos uma das linhas é zero; pelo qual:\n",
      " \n",
      " posto(A)= 1 < 3 = número de vetores .\n",
      " \n",
      " Portanto os vetores NÃO são LI; isto é, um dos vetores pode-se escrever como soma dos outros.\n",
      " Além disso, podemos concluir que a dimensão do espaço gerado é:  1\n"
     ]
    }
   ],
   "source": [
    "gauss.SaoLI([[1,2,3],[2,4,6],[3,6,9]])\n"
   ]
  },
  {
   "cell_type": "code",
   "execution_count": 39,
   "metadata": {},
   "outputs": [
    {
     "name": "stdout",
     "output_type": "stream",
     "text": [
      "Os vetores são LI se a matriz formada de vetores linha tem posto igual ao número de vetores.\n",
      "\n",
      "Neste caso escalonando a matriz  [ver comando   MATRIZ.rref() ], pode-se ver que pelo menos uma das linhas é zero; pelo qual:\n",
      " \n",
      " posto(A)= 2 < 3 = número de vetores .\n",
      " \n",
      " Portanto os vetores NÃO são LI; isto é, um dos vetores pode-se escrever como soma dos outros.\n",
      " Além disso, podemos concluir que a dimensão do espaço gerado é:  2\n"
     ]
    }
   ],
   "source": [
    "gauss.SaoLI([[1,2,3],[4,5,6],[7,8,9]])"
   ]
  },
  {
   "cell_type": "code",
   "execution_count": 40,
   "metadata": {},
   "outputs": [
    {
     "name": "stdout",
     "output_type": "stream",
     "text": [
      "Os vetores são LI se a matriz formada de vetores linha tem posto igual ao número de vetores.\n",
      "\n",
      "Neste caso escalonando a matriz  [ver comando   MATRIZ.rref() ], pode-se ver que todas as linhas são distintas de zero; pelo qual:\n",
      " \n",
      " posto(A)= 3 = 3 = número de vetores.\n",
      " \n",
      " Em consequência os vetores são LI; e portanto a dimensão do espaço gerado pelos vetores é:  3\n"
     ]
    }
   ],
   "source": [
    "gauss.SaoLI([[1,2,3],[4,5,6],[0,1,4]])"
   ]
  },
  {
   "cell_type": "markdown",
   "metadata": {},
   "source": [
    "# Códigos em python\n",
    "\n",
    "Python e a livraria sympy tem comandos otimizados parafazer cálculos de álgebra linear. Por exemplo"
   ]
  },
  {
   "cell_type": "markdown",
   "metadata": {},
   "source": [
    "#  Escalonamento  código sympy"
   ]
  },
  {
   "cell_type": "code",
   "execution_count": 41,
   "metadata": {},
   "outputs": [
    {
     "data": {
      "text/latex": [
       "$$\\left ( \\left[\\begin{matrix}1 & 0 & a\\\\0 & 1 & - \\frac{3 a}{5} + \\frac{b}{5}\\end{matrix}\\right], \\quad \\left ( 0, \\quad 1\\right )\\right )$$"
      ],
      "text/plain": [
       "⎛⎡1  0      a    ⎤        ⎞\n",
       "⎜⎢               ⎥        ⎟\n",
       "⎜⎢        3⋅a   b⎥, (0, 1)⎟\n",
       "⎜⎢0  1  - ─── + ─⎥        ⎟\n",
       "⎝⎣         5    5⎦        ⎠"
      ]
     },
     "execution_count": 41,
     "metadata": {},
     "output_type": "execute_result"
    },
    {
     "data": {
      "text/latex": [
       "$$\\left[\\begin{matrix}1 & 0 & a\\\\3 & 5 & b\\end{matrix}\\right]$$"
      ],
      "text/plain": [
       "⎡1  0  a⎤\n",
       "⎢       ⎥\n",
       "⎣3  5  b⎦"
      ]
     },
     "execution_count": 41,
     "metadata": {},
     "output_type": "execute_result"
    },
    {
     "data": {
      "text/latex": [
       "$$\\left[\\begin{matrix}1 & 0\\\\3 & 5\\end{matrix}\\right]$$"
      ],
      "text/plain": [
       "⎡1  0⎤\n",
       "⎢    ⎥\n",
       "⎣3  5⎦"
      ]
     },
     "execution_count": 41,
     "metadata": {},
     "output_type": "execute_result"
    }
   ],
   "source": [
    "B=Oscar.row_join(Matrix([[a],[b]]))\n",
    "B.rref()\n",
    "B\n",
    "Oscar"
   ]
  },
  {
   "cell_type": "code",
   "execution_count": null,
   "metadata": {
    "scrolled": true
   },
   "outputs": [],
   "source": [
    "Oscar.rref?"
   ]
  },
  {
   "cell_type": "markdown",
   "metadata": {},
   "source": [
    "# Calculando posto código sympy"
   ]
  },
  {
   "cell_type": "code",
   "execution_count": 42,
   "metadata": {},
   "outputs": [
    {
     "data": {
      "text/latex": [
       "$$2$$"
      ],
      "text/plain": [
       "2"
      ]
     },
     "execution_count": 42,
     "metadata": {},
     "output_type": "execute_result"
    }
   ],
   "source": [
    "Oscar.rank()"
   ]
  },
  {
   "cell_type": "markdown",
   "metadata": {},
   "source": [
    "# Calculando a inversa com o código sympy"
   ]
  },
  {
   "cell_type": "markdown",
   "metadata": {},
   "source": [
    "Obviamente, existem comandos predeterminados em python (mais exatamente em sympy) para calcular inversas de matrizes, os quais são altamente otimizados."
   ]
  },
  {
   "cell_type": "code",
   "execution_count": 43,
   "metadata": {},
   "outputs": [
    {
     "data": {
      "text/latex": [
       "$$\\left[\\begin{matrix}1 & 2 & 3\\\\2 & 2 & 3\\\\3 & 3 & 3\\end{matrix}\\right]$$"
      ],
      "text/plain": [
       "⎡1  2  3⎤\n",
       "⎢       ⎥\n",
       "⎢2  2  3⎥\n",
       "⎢       ⎥\n",
       "⎣3  3  3⎦"
      ]
     },
     "execution_count": 43,
     "metadata": {},
     "output_type": "execute_result"
    },
    {
     "data": {
      "text/latex": [
       "$$\\left[\\begin{matrix}-1 & 1 & 0\\\\1 & -2 & 1\\\\0 & 1 & - \\frac{2}{3}\\end{matrix}\\right]$$"
      ],
      "text/plain": [
       "⎡-1  1    0  ⎤\n",
       "⎢            ⎥\n",
       "⎢1   -2   1  ⎥\n",
       "⎢            ⎥\n",
       "⎣0   1   -2/3⎦"
      ]
     },
     "execution_count": 43,
     "metadata": {},
     "output_type": "execute_result"
    },
    {
     "data": {
      "text/latex": [
       "$$\\left[\\begin{matrix}-1 & 1 & 0\\\\1 & -2 & 1\\\\0 & 1 & - \\frac{2}{3}\\end{matrix}\\right]$$"
      ],
      "text/plain": [
       "⎡-1  1    0  ⎤\n",
       "⎢            ⎥\n",
       "⎢1   -2   1  ⎥\n",
       "⎢            ⎥\n",
       "⎣0   1   -2/3⎦"
      ]
     },
     "execution_count": 43,
     "metadata": {},
     "output_type": "execute_result"
    }
   ],
   "source": [
    "A=Matrix([[1,2,3],[2,2,3],[3,3,3]])\n",
    "B=A.inv()\n",
    "#ou também:\n",
    "C=A**(-1)\n",
    "\n",
    "A\n",
    "B\n",
    "C"
   ]
  },
  {
   "cell_type": "markdown",
   "metadata": {},
   "source": [
    "\n",
    "# Observações finais\n",
    "Se precissa inserir mais  células para fazer cálculos:\n",
    "\n",
    "1) Click em __Insert__, click em __Insert Cell Bellow__ para inserir abaixo ou __Insert Cell Above__ para inserir acima.\n",
    "\n",
    "Ou simplesmente dando click em o símbolo __+__ que está na barra embaixo de __File__.\n",
    "\n",
    "\n",
    "\n",
    "\n",
    "Se prefere trabalhar num arquivo novo:\n",
    "\n",
    "1) Click em __File__, click em __New Notebook__, click em __python3__.\n",
    "\n",
    "2) Copie e cole a primeira célula deste arquivo no arquivo novo.\n",
    "\n",
    "3) Shift +Enter na célula do arquivo novo.\n",
    "\n",
    "__Importante__ Confira que este arquivo e seus arquivos novos estejam na mesma pasta que o arquivo *FuncRedGauss.py*\n",
    "\n",
    "Se não instalou Jupyter e está trabalhando em Try Jupyter, pode descarregar seus arquivos a seu computador seguindo os seguintes passos:\n",
    "\n",
    "1) Se você está em $Jupyter with Python$ click em __file__ click em __download as__ click em __Notebook(.ipynb)_\n",
    "\n",
    "2) Se você está em $JupyterLab$ na barra lateral a esquerda fazer click direito no nome do arquivo que está trabalahando, depois __download__. Se você não ve a barra lateral a esquerda faça __Ctrl+B__.\n",
    "\n"
   ]
  },
  {
   "cell_type": "code",
   "execution_count": null,
   "metadata": {},
   "outputs": [],
   "source": []
  },
  {
   "cell_type": "code",
   "execution_count": null,
   "metadata": {},
   "outputs": [],
   "source": []
  },
  {
   "cell_type": "code",
   "execution_count": null,
   "metadata": {},
   "outputs": [],
   "source": []
  },
  {
   "cell_type": "code",
   "execution_count": null,
   "metadata": {},
   "outputs": [],
   "source": []
  },
  {
   "cell_type": "code",
   "execution_count": null,
   "metadata": {},
   "outputs": [],
   "source": []
  },
  {
   "cell_type": "code",
   "execution_count": null,
   "metadata": {},
   "outputs": [],
   "source": []
  },
  {
   "cell_type": "code",
   "execution_count": null,
   "metadata": {},
   "outputs": [],
   "source": []
  },
  {
   "cell_type": "code",
   "execution_count": null,
   "metadata": {},
   "outputs": [],
   "source": []
  },
  {
   "cell_type": "code",
   "execution_count": null,
   "metadata": {},
   "outputs": [],
   "source": []
  },
  {
   "cell_type": "code",
   "execution_count": null,
   "metadata": {},
   "outputs": [],
   "source": []
  }
 ],
 "metadata": {
  "kernelspec": {
   "display_name": "Python 3",
   "language": "python",
   "name": "python3"
  },
  "language_info": {
   "codemirror_mode": {
    "name": "ipython",
    "version": 3
   },
   "file_extension": ".py",
   "mimetype": "text/x-python",
   "name": "python",
   "nbconvert_exporter": "python",
   "pygments_lexer": "ipython3",
   "version": "3.6.5"
  }
 },
 "nbformat": 4,
 "nbformat_minor": 2
}
