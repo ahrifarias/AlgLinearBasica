{
 "cells": [
  {
   "cell_type": "code",
   "execution_count": 1,
   "metadata": {},
   "outputs": [],
   "source": [
    "from IPython.core.interactiveshell import InteractiveShell\n",
    "InteractiveShell.ast_node_interactivity = \"all\" #Mostra todos os computos por célula, não somente o último resultado\n",
    "from sympy import *\n",
    "from sympy.matrices import randMatrix\n",
    "\n",
    "init_printing(use_latex='mathjax')\n",
    "x, y, z, a, b, c, x1,x2,x3,x4,x5,x6,x7,x8,x9,x10, w, u=symbols(\"x, y, z,a ,b, c, x1,x2,x3,x4,x5,x6,x7,x8,x9,x10, w, u\")\n",
    "\n",
    "import FuncRedGauss as gauss      #Shift + Enter"
   ]
  },
  {
   "cell_type": "markdown",
   "metadata": {},
   "source": [
    "# Exercício:\n",
    "\n",
    "Dados os conjuntos \n",
    "\\begin{align*}\n",
    " B_1&=\\{(1, 2, 3, 4),\\, (5, 6, 7, 8),\\, (9, 10, 11, 12),\\, (13, 14, 15, 16)\\}\\\\\n",
    "  B_2&=\\{(0, 1, 1,1),\\,  (1,0,1,1),\\, (1,1,0,1),\\, (1,1,1,0)\\}\\\\\n",
    "   B_3&=\\{((0, 2, 1, 1),\\,  (0, -5, -3, -5), \\, (-1, -2, 2, -5),\\,  (2, -3, -4, 2),\\,  (-5, \n",
    "  5, -4, 5), \\, (-5, 4, -4, 4))\\}\\\\\n",
    "    B_4&=\\{(1,0,-1,0),(0,1,0,-1),(1,0,0,-1)\\}\n",
    "\\end{align*}\n",
    "1) Determine se $B_i$ gera $\\mathbb{R}^4$ <br>\n",
    "2) Determine se $B_i$ é L.I.<br>\n",
    "3) Determine se $B_i$ é base de $\\mathbb{R}^4$.<br>\n",
    "4) Seja $W_i=\\langle B_i \\rangle$, calcule $\\dim W_i $. <br>\n",
    "# Solução:"
   ]
  },
  {
   "cell_type": "markdown",
   "metadata": {},
   "source": [
    "## 1)"
   ]
  },
  {
   "cell_type": "code",
   "execution_count": 7,
   "metadata": {},
   "outputs": [
    {
     "data": {
      "text/latex": [
       "$$\\left[\\begin{matrix}1 & 2 & 3 & 4\\\\5 & 6 & 7 & 8\\\\9 & 10 & 11 & 12\\\\13 & 14 & 15 & 16\\end{matrix}\\right]$$"
      ],
      "text/plain": [
       "⎡1   2   3   4 ⎤\n",
       "⎢              ⎥\n",
       "⎢5   6   7   8 ⎥\n",
       "⎢              ⎥\n",
       "⎢9   10  11  12⎥\n",
       "⎢              ⎥\n",
       "⎣13  14  15  16⎦"
      ]
     },
     "execution_count": 7,
     "metadata": {},
     "output_type": "execute_result"
    },
    {
     "data": {
      "text/latex": [
       "$$\\left [ \\left[\\begin{matrix}1 & 2 & 3 & 4\\\\5 & 6 & 7 & 8\\\\9 & 10 & 11 & 12\\\\13 & 14 & 15 & 16\\end{matrix}\\right], \\quad \\left[\\begin{matrix}1 & 2 & 3 & 4\\\\0 & -4 & -8 & -12\\\\9 & 10 & 11 & 12\\\\13 & 14 & 15 & 16\\end{matrix}\\right], \\quad \\left[\\begin{matrix}1 & 2 & 3 & 4\\\\0 & -4 & -8 & -12\\\\0 & -8 & -16 & -24\\\\13 & 14 & 15 & 16\\end{matrix}\\right], \\quad \\left[\\begin{matrix}1 & 2 & 3 & 4\\\\0 & -4 & -8 & -12\\\\0 & -8 & -16 & -24\\\\0 & -12 & -24 & -36\\end{matrix}\\right], \\quad \\left[\\begin{matrix}1 & 2 & 3 & 4\\\\0 & -4 & -8 & -12\\\\0 & 0 & 0 & 0\\\\0 & -12 & -24 & -36\\end{matrix}\\right], \\quad \\left[\\begin{matrix}1 & 2 & 3 & 4\\\\0 & -4 & -8 & -12\\\\0 & 0 & 0 & 0\\\\0 & 0 & 0 & 0\\end{matrix}\\right], \\quad \\left[\\begin{matrix}1 & 2 & 3 & 4\\\\0 & 1 & 2 & 3\\\\0 & 0 & 0 & 0\\\\0 & 0 & 0 & 0\\end{matrix}\\right]\\right ]$$"
      ],
      "text/plain": [
       "⎡⎡1   2   3   4 ⎤  ⎡1   2   3    4 ⎤  ⎡1   2    3    4 ⎤  ⎡1   2    3    4 ⎤  \n",
       "⎢⎢              ⎥  ⎢               ⎥  ⎢                ⎥  ⎢                ⎥  \n",
       "⎢⎢5   6   7   8 ⎥  ⎢0   -4  -8  -12⎥  ⎢0   -4  -8   -12⎥  ⎢0  -4   -8   -12⎥  \n",
       "⎢⎢              ⎥, ⎢               ⎥, ⎢                ⎥, ⎢                ⎥, \n",
       "⎢⎢9   10  11  12⎥  ⎢9   10  11  12 ⎥  ⎢0   -8  -16  -24⎥  ⎢0  -8   -16  -24⎥  \n",
       "⎢⎢              ⎥  ⎢               ⎥  ⎢                ⎥  ⎢                ⎥  \n",
       "⎣⎣13  14  15  16⎦  ⎣13  14  15  16 ⎦  ⎣13  14  15   16 ⎦  ⎣0  -12  -24  -36⎦  \n",
       "\n",
       "⎡1   2    3    4 ⎤  ⎡1  2   3    4 ⎤  ⎡1  2  3  4⎤⎤\n",
       "⎢                ⎥  ⎢              ⎥  ⎢          ⎥⎥\n",
       "⎢0  -4   -8   -12⎥  ⎢0  -4  -8  -12⎥  ⎢0  1  2  3⎥⎥\n",
       "⎢                ⎥, ⎢              ⎥, ⎢          ⎥⎥\n",
       "⎢0   0    0    0 ⎥  ⎢0  0   0    0 ⎥  ⎢0  0  0  0⎥⎥\n",
       "⎢                ⎥  ⎢              ⎥  ⎢          ⎥⎥\n",
       "⎣0  -12  -24  -36⎦  ⎣0  0   0    0 ⎦  ⎣0  0  0  0⎦⎦"
      ]
     },
     "execution_count": 7,
     "metadata": {},
     "output_type": "execute_result"
    }
   ],
   "source": [
    "MatB1=Matrix([[1, 2, 3, 4], [5, 6, 7, 8], [9, 10, 11, 12], [13, 14, 15, 16]])\n",
    "MatB1\n",
    "\n",
    "ListaContas1=[[3,2,1,-5],[3,3,1,-9],[3,4,1,-13], [3,3,2,-2], [3,4,2,-3],[2,2,-Rational(1)/4]]\n",
    "#[[3,2,1,-5],[3,3,1,-9],[3,4,1,-13], [3,3,2,-2], [3,4,2,-3],[2,2,-Rational(1)/4]]\n",
    "\n",
    "Exercicio1=gauss.RedGaussManual(ListaContas1, MatB1)\n",
    "Exercicio1\n"
   ]
  },
  {
   "cell_type": "markdown",
   "metadata": {},
   "source": [
    "Como\n",
    "* $posto(MatrizB1)=2$, e \n",
    "* **número de vetores=4** \n",
    "\n",
    "então $posto(MatrizB1)\\not=\\# vetores (B_1)$ logo os $B_1$ é um conjunto  L.D.\n",
    "\n",
    "\n",
    "Se $W_1=\\langle B_1 \\rangle$ então $S_1=\\{(1,2,3,4), (0,1,2,3)\\}$ é uma base para $W_1$. Logo $\\dim W_1= 2 \\neq 4$.\n",
    "\n",
    "Em conclusão\n",
    "* $B_1$ não gera $\\mathbb{R}^4$, gera um sub-espaço de dimensão 2. <br>\n",
    "* $B_1$ não é L.I.<br>\n",
    "* $B_1$ não é uma base de $\\mathbb{R}^4$, nem uma base para $W_1$.<br>\n",
    "\n",
    "PD: É possível ver a partir das contas que outra possível  base de $W_1$ é $T_1=\\{(1,2,3,4), (5,6,7,8)\\}$"
   ]
  },
  {
   "cell_type": "code",
   "execution_count": null,
   "metadata": {},
   "outputs": [],
   "source": []
  },
  {
   "cell_type": "code",
   "execution_count": null,
   "metadata": {},
   "outputs": [],
   "source": []
  },
  {
   "cell_type": "code",
   "execution_count": null,
   "metadata": {},
   "outputs": [],
   "source": []
  },
  {
   "cell_type": "code",
   "execution_count": null,
   "metadata": {},
   "outputs": [],
   "source": []
  },
  {
   "cell_type": "code",
   "execution_count": null,
   "metadata": {},
   "outputs": [],
   "source": []
  },
  {
   "cell_type": "code",
   "execution_count": null,
   "metadata": {},
   "outputs": [],
   "source": []
  },
  {
   "cell_type": "code",
   "execution_count": null,
   "metadata": {},
   "outputs": [],
   "source": []
  },
  {
   "cell_type": "code",
   "execution_count": null,
   "metadata": {},
   "outputs": [],
   "source": []
  },
  {
   "cell_type": "markdown",
   "metadata": {},
   "source": [
    "## 2)"
   ]
  },
  {
   "cell_type": "code",
   "execution_count": 9,
   "metadata": {
    "scrolled": true
   },
   "outputs": [
    {
     "data": {
      "text/latex": [
       "$$\\left[\\begin{matrix}0 & 1 & 1 & 1\\\\1 & 0 & 1 & 1\\\\1 & 1 & 0 & 1\\\\1 & 1 & 1 & 0\\end{matrix}\\right]$$"
      ],
      "text/plain": [
       "⎡0  1  1  1⎤\n",
       "⎢          ⎥\n",
       "⎢1  0  1  1⎥\n",
       "⎢          ⎥\n",
       "⎢1  1  0  1⎥\n",
       "⎢          ⎥\n",
       "⎣1  1  1  0⎦"
      ]
     },
     "execution_count": 9,
     "metadata": {},
     "output_type": "execute_result"
    },
    {
     "data": {
      "text/latex": [
       "$$\\left [ \\left[\\begin{matrix}0 & 1 & 1 & 1\\\\1 & 0 & 1 & 1\\\\1 & 1 & 0 & 1\\\\1 & 1 & 1 & 0\\end{matrix}\\right], \\quad \\left[\\begin{matrix}1 & 1 & 1 & 0\\\\1 & 0 & 1 & 1\\\\1 & 1 & 0 & 1\\\\0 & 1 & 1 & 1\\end{matrix}\\right], \\quad \\left[\\begin{matrix}1 & 1 & 1 & 0\\\\1 & 1 & 0 & 1\\\\1 & 0 & 1 & 1\\\\0 & 1 & 1 & 1\\end{matrix}\\right], \\quad \\left[\\begin{matrix}1 & 1 & 1 & 0\\\\0 & 0 & -1 & 1\\\\1 & 0 & 1 & 1\\\\0 & 1 & 1 & 1\\end{matrix}\\right], \\quad \\left[\\begin{matrix}1 & 1 & 1 & 0\\\\0 & 0 & -1 & 1\\\\0 & -1 & 0 & 1\\\\0 & 1 & 1 & 1\\end{matrix}\\right], \\quad \\left[\\begin{matrix}1 & 1 & 1 & 0\\\\0 & 1 & 1 & 1\\\\0 & -1 & 0 & 1\\\\0 & 0 & -1 & 1\\end{matrix}\\right], \\quad \\left[\\begin{matrix}1 & 1 & 1 & 0\\\\0 & 1 & 1 & 1\\\\0 & 0 & 1 & 2\\\\0 & 0 & -1 & 1\\end{matrix}\\right], \\quad \\left[\\begin{matrix}1 & 1 & 1 & 0\\\\0 & 1 & 1 & 1\\\\0 & 0 & 1 & 2\\\\0 & 0 & 0 & 3\\end{matrix}\\right]\\right ]$$"
      ],
      "text/plain": [
       "⎡⎡0  1  1  1⎤  ⎡1  1  1  0⎤  ⎡1  1  1  0⎤  ⎡1  1  1   0⎤  ⎡1  1   1   0⎤  ⎡1  \n",
       "⎢⎢          ⎥  ⎢          ⎥  ⎢          ⎥  ⎢           ⎥  ⎢            ⎥  ⎢   \n",
       "⎢⎢1  0  1  1⎥  ⎢1  0  1  1⎥  ⎢1  1  0  1⎥  ⎢0  0  -1  1⎥  ⎢0  0   -1  1⎥  ⎢0  \n",
       "⎢⎢          ⎥, ⎢          ⎥, ⎢          ⎥, ⎢           ⎥, ⎢            ⎥, ⎢   \n",
       "⎢⎢1  1  0  1⎥  ⎢1  1  0  1⎥  ⎢1  0  1  1⎥  ⎢1  0  1   1⎥  ⎢0  -1  0   1⎥  ⎢0  \n",
       "⎢⎢          ⎥  ⎢          ⎥  ⎢          ⎥  ⎢           ⎥  ⎢            ⎥  ⎢   \n",
       "⎣⎣1  1  1  0⎦  ⎣0  1  1  1⎦  ⎣0  1  1  1⎦  ⎣0  1  1   1⎦  ⎣0  1   1   1⎦  ⎣0  \n",
       "\n",
       "1   1   0⎤  ⎡1  1  1   0⎤  ⎡1  1  1  0⎤⎤\n",
       "         ⎥  ⎢           ⎥  ⎢          ⎥⎥\n",
       "1   1   1⎥  ⎢0  1  1   1⎥  ⎢0  1  1  1⎥⎥\n",
       "         ⎥, ⎢           ⎥, ⎢          ⎥⎥\n",
       "-1  0   1⎥  ⎢0  0  1   2⎥  ⎢0  0  1  2⎥⎥\n",
       "         ⎥  ⎢           ⎥  ⎢          ⎥⎥\n",
       "0   -1  1⎦  ⎣0  0  -1  1⎦  ⎣0  0  0  3⎦⎦"
      ]
     },
     "execution_count": 9,
     "metadata": {},
     "output_type": "execute_result"
    }
   ],
   "source": [
    "MatB2=Matrix([[0,1,1,1], [1,0,1,1], [1,1,0,1], [1,1,1,0]])\n",
    "MatB2\n",
    "\n",
    "ListaContas2=[[1,1,4],[1,2,3],[3,2,1,-1],[3,3,1,-1],[1,2,4] ,[3,3,2,1], [3,4,3,1]]\n",
    "#[[1,1,4],[1,2,3],[3,2,1,-1],[3,3,1,-1],[1,2,4] ,[3,3,2,1], [3,4,3,1]]\n",
    "Exercicio=gauss.RedGaussManual(ListaContas2, MatB2)\n",
    "Exercicio"
   ]
  },
  {
   "cell_type": "markdown",
   "metadata": {},
   "source": [
    "Como\n",
    "* $posto(MatrizB2)=4$, e \n",
    "* **número de vetores=4** \n",
    "\n",
    "então $posto(MatrizB2)=\\# vetores (B_2)$ logo os $B_2$ é um conjunto  L.I.\n",
    "\n",
    "\n",
    "Por definição $W_2=\\langle B_2 \\rangle$ de modo que $B_2$ é uma base de $W_2$ e $\\dim W_2=4$. Dado que, $W\\subseteq\\mathbb{R}^4$, isto implica que $W=\\mathbb{R}^4$.\n",
    "\n",
    "Em conclusão\n",
    "* $B_2$ gera $\\mathbb{R}^4$ <br>\n",
    "* $B_2$ é L.I.<br>\n",
    "* $B_2$ é uma base de $\\mathbb{R}^4$<br>\n"
   ]
  },
  {
   "cell_type": "code",
   "execution_count": null,
   "metadata": {},
   "outputs": [],
   "source": []
  },
  {
   "cell_type": "code",
   "execution_count": null,
   "metadata": {},
   "outputs": [],
   "source": []
  },
  {
   "cell_type": "code",
   "execution_count": null,
   "metadata": {},
   "outputs": [],
   "source": []
  },
  {
   "cell_type": "code",
   "execution_count": null,
   "metadata": {},
   "outputs": [],
   "source": []
  },
  {
   "cell_type": "code",
   "execution_count": null,
   "metadata": {},
   "outputs": [],
   "source": []
  },
  {
   "cell_type": "code",
   "execution_count": null,
   "metadata": {},
   "outputs": [],
   "source": []
  },
  {
   "cell_type": "markdown",
   "metadata": {},
   "source": [
    "## 3)"
   ]
  },
  {
   "cell_type": "code",
   "execution_count": 11,
   "metadata": {},
   "outputs": [
    {
     "data": {
      "text/latex": [
       "$$\\left[\\begin{matrix}0 & 2 & 1 & 1\\\\0 & -5 & -3 & -5\\\\-1 & -2 & 2 & -5\\\\2 & -3 & -4 & 2\\\\-5 & 5 & -4 & 5\\\\-5 & 4 & -4 & 4\\end{matrix}\\right]$$"
      ],
      "text/plain": [
       "⎡0   2   1   1 ⎤\n",
       "⎢              ⎥\n",
       "⎢0   -5  -3  -5⎥\n",
       "⎢              ⎥\n",
       "⎢-1  -2  2   -5⎥\n",
       "⎢              ⎥\n",
       "⎢2   -3  -4  2 ⎥\n",
       "⎢              ⎥\n",
       "⎢-5  5   -4  5 ⎥\n",
       "⎢              ⎥\n",
       "⎣-5  4   -4  4 ⎦"
      ]
     },
     "execution_count": 11,
     "metadata": {},
     "output_type": "execute_result"
    },
    {
     "data": {
      "text/latex": [
       "$$\\left [ \\left[\\begin{matrix}0 & 2 & 1 & 1\\\\0 & -5 & -3 & -5\\\\-1 & -2 & 2 & -5\\\\2 & -3 & -4 & 2\\\\-5 & 5 & -4 & 5\\\\-5 & 4 & -4 & 4\\end{matrix}\\right], \\quad \\left[\\begin{matrix}-1 & -2 & 2 & -5\\\\0 & -5 & -3 & -5\\\\0 & 2 & 1 & 1\\\\2 & -3 & -4 & 2\\\\-5 & 5 & -4 & 5\\\\-5 & 4 & -4 & 4\\end{matrix}\\right], \\quad \\left[\\begin{matrix}-1 & -2 & 2 & -5\\\\0 & -5 & -3 & -5\\\\0 & 2 & 1 & 1\\\\0 & -7 & 0 & -8\\\\-5 & 5 & -4 & 5\\\\-5 & 4 & -4 & 4\\end{matrix}\\right], \\quad \\left[\\begin{matrix}-1 & -2 & 2 & -5\\\\0 & -5 & -3 & -5\\\\0 & 2 & 1 & 1\\\\0 & -7 & 0 & -8\\\\0 & 15 & -14 & 30\\\\-5 & 4 & -4 & 4\\end{matrix}\\right], \\quad \\left[\\begin{matrix}-1 & -2 & 2 & -5\\\\0 & -5 & -3 & -5\\\\0 & 2 & 1 & 1\\\\0 & -7 & 0 & -8\\\\0 & 15 & -14 & 30\\\\0 & 14 & -14 & 29\\end{matrix}\\right], \\quad \\left[\\begin{matrix}-1 & -2 & 2 & -5\\\\0 & 2 & 1 & 1\\\\0 & -5 & -3 & -5\\\\0 & -7 & 0 & -8\\\\0 & 15 & -14 & 30\\\\0 & 14 & -14 & 29\\end{matrix}\\right], \\quad \\left[\\begin{matrix}-1 & -2 & 2 & -5\\\\0 & 1 & \\frac{1}{2} & \\frac{1}{2}\\\\0 & -5 & -3 & -5\\\\0 & -7 & 0 & -8\\\\0 & 15 & -14 & 30\\\\0 & 14 & -14 & 29\\end{matrix}\\right], \\quad \\left[\\begin{matrix}-1 & -2 & 2 & -5\\\\0 & 1 & \\frac{1}{2} & \\frac{1}{2}\\\\0 & 0 & - \\frac{1}{2} & - \\frac{5}{2}\\\\0 & -7 & 0 & -8\\\\0 & 15 & -14 & 30\\\\0 & 14 & -14 & 29\\end{matrix}\\right], \\quad \\left[\\begin{matrix}-1 & -2 & 2 & -5\\\\0 & 1 & \\frac{1}{2} & \\frac{1}{2}\\\\0 & 0 & - \\frac{1}{2} & - \\frac{5}{2}\\\\0 & 0 & \\frac{7}{2} & - \\frac{9}{2}\\\\0 & 15 & -14 & 30\\\\0 & 14 & -14 & 29\\end{matrix}\\right], \\quad \\left[\\begin{matrix}-1 & -2 & 2 & -5\\\\0 & 1 & \\frac{1}{2} & \\frac{1}{2}\\\\0 & 0 & - \\frac{1}{2} & - \\frac{5}{2}\\\\0 & 0 & \\frac{7}{2} & - \\frac{9}{2}\\\\0 & 0 & - \\frac{43}{2} & \\frac{45}{2}\\\\0 & 14 & -14 & 29\\end{matrix}\\right], \\quad \\left[\\begin{matrix}-1 & -2 & 2 & -5\\\\0 & 1 & \\frac{1}{2} & \\frac{1}{2}\\\\0 & 0 & - \\frac{1}{2} & - \\frac{5}{2}\\\\0 & 0 & \\frac{7}{2} & - \\frac{9}{2}\\\\0 & 0 & - \\frac{43}{2} & \\frac{45}{2}\\\\0 & 0 & -21 & 22\\end{matrix}\\right], \\quad \\left[\\begin{matrix}-1 & -2 & 2 & -5\\\\0 & 1 & \\frac{1}{2} & \\frac{1}{2}\\\\0 & 0 & - \\frac{1}{2} & - \\frac{5}{2}\\\\0 & 0 & 0 & -22\\\\0 & 0 & - \\frac{43}{2} & \\frac{45}{2}\\\\0 & 0 & -21 & 22\\end{matrix}\\right], \\quad \\left[\\begin{matrix}-1 & -2 & 2 & -5\\\\0 & 1 & \\frac{1}{2} & \\frac{1}{2}\\\\0 & 0 & - \\frac{1}{2} & - \\frac{5}{2}\\\\0 & 0 & 0 & -22\\\\0 & 0 & 0 & 130\\\\0 & 0 & -21 & 22\\end{matrix}\\right], \\quad \\left[\\begin{matrix}-1 & -2 & 2 & -5\\\\0 & 1 & \\frac{1}{2} & \\frac{1}{2}\\\\0 & 0 & - \\frac{1}{2} & - \\frac{5}{2}\\\\0 & 0 & 0 & -22\\\\0 & 0 & 0 & 130\\\\0 & 0 & 0 & 127\\end{matrix}\\right], \\quad \\left[\\begin{matrix}-1 & -2 & 2 & -5\\\\0 & 1 & \\frac{1}{2} & \\frac{1}{2}\\\\0 & 0 & - \\frac{1}{2} & - \\frac{5}{2}\\\\0 & 0 & 0 & -1\\\\0 & 0 & 0 & 130\\\\0 & 0 & 0 & 127\\end{matrix}\\right], \\quad \\left[\\begin{matrix}-1 & -2 & 2 & -5\\\\0 & 1 & \\frac{1}{2} & \\frac{1}{2}\\\\0 & 0 & - \\frac{1}{2} & - \\frac{5}{2}\\\\0 & 0 & 0 & -1\\\\0 & 0 & 0 & 0\\\\0 & 0 & 0 & 127\\end{matrix}\\right], \\quad \\left[\\begin{matrix}-1 & -2 & 2 & -5\\\\0 & 1 & \\frac{1}{2} & \\frac{1}{2}\\\\0 & 0 & - \\frac{1}{2} & - \\frac{5}{2}\\\\0 & 0 & 0 & -1\\\\0 & 0 & 0 & 0\\\\0 & 0 & 0 & 0\\end{matrix}\\right]\\right ]$$"
      ],
      "text/plain": [
       "⎡⎡0   2   1   1 ⎤  ⎡-1  -2  2   -5⎤  ⎡-1  -2  2   -5⎤  ⎡-1  -2   2   -5⎤  ⎡-1 \n",
       "⎢⎢              ⎥  ⎢              ⎥  ⎢              ⎥  ⎢               ⎥  ⎢   \n",
       "⎢⎢0   -5  -3  -5⎥  ⎢0   -5  -3  -5⎥  ⎢0   -5  -3  -5⎥  ⎢0   -5  -3   -5⎥  ⎢0  \n",
       "⎢⎢              ⎥  ⎢              ⎥  ⎢              ⎥  ⎢               ⎥  ⎢   \n",
       "⎢⎢-1  -2  2   -5⎥  ⎢0   2   1   1 ⎥  ⎢0   2   1   1 ⎥  ⎢0   2    1   1 ⎥  ⎢0  \n",
       "⎢⎢              ⎥, ⎢              ⎥, ⎢              ⎥, ⎢               ⎥, ⎢   \n",
       "⎢⎢2   -3  -4  2 ⎥  ⎢2   -3  -4  2 ⎥  ⎢0   -7  0   -8⎥  ⎢0   -7   0   -8⎥  ⎢0  \n",
       "⎢⎢              ⎥  ⎢              ⎥  ⎢              ⎥  ⎢               ⎥  ⎢   \n",
       "⎢⎢-5  5   -4  5 ⎥  ⎢-5  5   -4  5 ⎥  ⎢-5  5   -4  5 ⎥  ⎢0   15  -14  30⎥  ⎢0  \n",
       "⎢⎢              ⎥  ⎢              ⎥  ⎢              ⎥  ⎢               ⎥  ⎢   \n",
       "⎣⎣-5  4   -4  4 ⎦  ⎣-5  4   -4  4 ⎦  ⎣-5  4   -4  4 ⎦  ⎣-5  4   -4   4 ⎦  ⎣0  \n",
       "\n",
       " -2   2   -5⎤  ⎡-1  -2   2   -5⎤  ⎡-1  -2   2   -5 ⎤  ⎡-1  -2   2     -5 ⎤  ⎡-\n",
       "            ⎥  ⎢               ⎥  ⎢                ⎥  ⎢                  ⎥  ⎢ \n",
       " -5  -3   -5⎥  ⎢0   2    1   1 ⎥  ⎢0   1   1/2  1/2⎥  ⎢0   1   1/2   1/2 ⎥  ⎢0\n",
       "            ⎥  ⎢               ⎥  ⎢                ⎥  ⎢                  ⎥  ⎢ \n",
       " 2    1   1 ⎥  ⎢0   -5  -3   -5⎥  ⎢0   -5  -3   -5 ⎥  ⎢0   0   -1/2  -5/2⎥  ⎢0\n",
       "            ⎥, ⎢               ⎥, ⎢                ⎥, ⎢                  ⎥, ⎢ \n",
       " -7   0   -8⎥  ⎢0   -7   0   -8⎥  ⎢0   -7   0   -8 ⎥  ⎢0   -7   0     -8 ⎥  ⎢0\n",
       "            ⎥  ⎢               ⎥  ⎢                ⎥  ⎢                  ⎥  ⎢ \n",
       " 15  -14  30⎥  ⎢0   15  -14  30⎥  ⎢0   15  -14  30 ⎥  ⎢0   15  -14    30 ⎥  ⎢0\n",
       "            ⎥  ⎢               ⎥  ⎢                ⎥  ⎢                  ⎥  ⎢ \n",
       " 14  -14  29⎦  ⎣0   14  -14  29⎦  ⎣0   14  -14  29 ⎦  ⎣0   14  -14    29 ⎦  ⎣0\n",
       "\n",
       "1  -2   2     -5 ⎤  ⎡-1  -2    2     -5 ⎤  ⎡-1  -2    2     -5 ⎤  ⎡-1  -2    2\n",
       "                 ⎥  ⎢                   ⎥  ⎢                   ⎥  ⎢           \n",
       "   1   1/2   1/2 ⎥  ⎢0   1    1/2   1/2 ⎥  ⎢0   1    1/2   1/2 ⎥  ⎢0   1    1/\n",
       "                 ⎥  ⎢                   ⎥  ⎢                   ⎥  ⎢           \n",
       "   0   -1/2  -5/2⎥  ⎢0   0   -1/2   -5/2⎥  ⎢0   0   -1/2   -5/2⎥  ⎢0   0   -1/\n",
       "                 ⎥, ⎢                   ⎥, ⎢                   ⎥, ⎢           \n",
       "   0   7/2   -9/2⎥  ⎢0   0    7/2   -9/2⎥  ⎢0   0    7/2   -9/2⎥  ⎢0   0     0\n",
       "                 ⎥  ⎢                   ⎥  ⎢                   ⎥  ⎢           \n",
       "   15  -14    30 ⎥  ⎢0   0   -43/2  45/2⎥  ⎢0   0   -43/2  45/2⎥  ⎢0   0   -43\n",
       "                 ⎥  ⎢                   ⎥  ⎢                   ⎥  ⎢           \n",
       "   14  -14    29 ⎦  ⎣0   14   -14    29 ⎦  ⎣0   0    -21    22 ⎦  ⎣0   0    -2\n",
       "\n",
       "     -5 ⎤  ⎡-1  -2   2     -5 ⎤  ⎡-1  -2   2     -5 ⎤  ⎡-1  -2   2     -5 ⎤  ⎡\n",
       "        ⎥  ⎢                  ⎥  ⎢                  ⎥  ⎢                  ⎥  ⎢\n",
       "2   1/2 ⎥  ⎢0   1   1/2   1/2 ⎥  ⎢0   1   1/2   1/2 ⎥  ⎢0   1   1/2   1/2 ⎥  ⎢\n",
       "        ⎥  ⎢                  ⎥  ⎢                  ⎥  ⎢                  ⎥  ⎢\n",
       "2   -5/2⎥  ⎢0   0   -1/2  -5/2⎥  ⎢0   0   -1/2  -5/2⎥  ⎢0   0   -1/2  -5/2⎥  ⎢\n",
       "        ⎥, ⎢                  ⎥, ⎢                  ⎥, ⎢                  ⎥, ⎢\n",
       "    -22 ⎥  ⎢0   0    0    -22 ⎥  ⎢0   0    0    -22 ⎥  ⎢0   0    0     -1 ⎥  ⎢\n",
       "        ⎥  ⎢                  ⎥  ⎢                  ⎥  ⎢                  ⎥  ⎢\n",
       "/2  45/2⎥  ⎢0   0    0    130 ⎥  ⎢0   0    0    130 ⎥  ⎢0   0    0    130 ⎥  ⎢\n",
       "        ⎥  ⎢                  ⎥  ⎢                  ⎥  ⎢                  ⎥  ⎢\n",
       "1    22 ⎦  ⎣0   0   -21    22 ⎦  ⎣0   0    0    127 ⎦  ⎣0   0    0    127 ⎦  ⎣\n",
       "\n",
       "-1  -2   2     -5 ⎤  ⎡-1  -2   2     -5 ⎤⎤\n",
       "                  ⎥  ⎢                  ⎥⎥\n",
       "0   1   1/2   1/2 ⎥  ⎢0   1   1/2   1/2 ⎥⎥\n",
       "                  ⎥  ⎢                  ⎥⎥\n",
       "0   0   -1/2  -5/2⎥  ⎢0   0   -1/2  -5/2⎥⎥\n",
       "                  ⎥, ⎢                  ⎥⎥\n",
       "0   0    0     -1 ⎥  ⎢0   0    0     -1 ⎥⎥\n",
       "                  ⎥  ⎢                  ⎥⎥\n",
       "0   0    0     0  ⎥  ⎢0   0    0     0  ⎥⎥\n",
       "                  ⎥  ⎢                  ⎥⎥\n",
       "0   0    0    127 ⎦  ⎣0   0    0     0  ⎦⎦"
      ]
     },
     "execution_count": 11,
     "metadata": {},
     "output_type": "execute_result"
    }
   ],
   "source": [
    "MatB3=Matrix([[0, 2, 1, 1], [0, -5, -3, -5], [-1, -2, 2, -5], [2, -3, -4, 2], [-5, \n",
    "  5, -4, 5], [-5, 4, -4, 4]])\n",
    "MatB3\n",
    "\n",
    "ListaContas3=[[1,3,1],[3,4,1,2],[3,5,1,-5],[3,6,1,-5],[1,3,2], [2,2, Rational(1)/2],[3,3,2,5],[3,4,2,7],[3,5,2,-15],\n",
    "             [3,6,2,-14],[3,4,3,7],[3,5,3,-43],[3,6,3,-42],[2,4,Rational(1)/22],[3,5,4,130],[3,6,4,127]]\n",
    "\n",
    "Exercicio=gauss.RedGaussManual(ListaContas3, MatB3)\n",
    "Exercicio"
   ]
  },
  {
   "cell_type": "markdown",
   "metadata": {},
   "source": [
    "Como\n",
    "* $posto(MatrizB3)=4$, e \n",
    "* **número de vetores=6** \n",
    "\n",
    "então $posto(MatrizB3)\\neq\\# vetores (B_3)$ logo os $B_3$ é um conjunto  **L.D.**\n",
    "\n",
    "\n",
    "Por definição $W_3=\\langle B_3 \\rangle$ de modo que $B_3$ gera  $W_3$ e $\\dim W_3=4$. Dado que, $W_3\\subseteq\\mathbb{R}^4$, isto implica que $W_3=\\mathbb{R}^4$.\n",
    "\n",
    "Em conclusão\n",
    "* $B_3$ gera $\\mathbb{R}^4$ <br>\n",
    "* $B_3$ não é L.I.<br>\n",
    "* $B_3$ não é uma base de $\\mathbb{R}^4$<br>\n",
    "\n",
    "\n",
    "PD: É possível ver a partir das contas que uma base de $W_3$ é $S_3=\\{(0, 2, 1, 1), (0, -5, -3, -5), (-1, -2, 2, -5), (2, -3, -4, 2)\\}$"
   ]
  },
  {
   "cell_type": "code",
   "execution_count": null,
   "metadata": {},
   "outputs": [],
   "source": []
  },
  {
   "cell_type": "code",
   "execution_count": null,
   "metadata": {},
   "outputs": [],
   "source": []
  },
  {
   "cell_type": "code",
   "execution_count": null,
   "metadata": {},
   "outputs": [],
   "source": []
  },
  {
   "cell_type": "code",
   "execution_count": null,
   "metadata": {},
   "outputs": [],
   "source": []
  },
  {
   "cell_type": "code",
   "execution_count": null,
   "metadata": {},
   "outputs": [],
   "source": []
  },
  {
   "cell_type": "code",
   "execution_count": null,
   "metadata": {},
   "outputs": [],
   "source": []
  },
  {
   "cell_type": "markdown",
   "metadata": {},
   "source": [
    "## 4)"
   ]
  },
  {
   "cell_type": "code",
   "execution_count": 13,
   "metadata": {},
   "outputs": [
    {
     "data": {
      "text/latex": [
       "$$\\left[\\begin{matrix}1 & 0 & -1 & 0\\\\0 & 1 & 0 & -1\\\\1 & 0 & 0 & -1\\end{matrix}\\right]$$"
      ],
      "text/plain": [
       "⎡1  0  -1  0 ⎤\n",
       "⎢            ⎥\n",
       "⎢0  1  0   -1⎥\n",
       "⎢            ⎥\n",
       "⎣1  0  0   -1⎦"
      ]
     },
     "execution_count": 13,
     "metadata": {},
     "output_type": "execute_result"
    },
    {
     "data": {
      "text/latex": [
       "$$\\left [ \\left[\\begin{matrix}1 & 0 & -1 & 0\\\\0 & 1 & 0 & -1\\\\1 & 0 & 0 & -1\\end{matrix}\\right], \\quad \\left[\\begin{matrix}1 & 0 & -1 & 0\\\\0 & 1 & 0 & -1\\\\0 & 0 & 1 & -1\\end{matrix}\\right]\\right ]$$"
      ],
      "text/plain": [
       "⎡⎡1  0  -1  0 ⎤  ⎡1  0  -1  0 ⎤⎤\n",
       "⎢⎢            ⎥  ⎢            ⎥⎥\n",
       "⎢⎢0  1  0   -1⎥, ⎢0  1  0   -1⎥⎥\n",
       "⎢⎢            ⎥  ⎢            ⎥⎥\n",
       "⎣⎣1  0  0   -1⎦  ⎣0  0  1   -1⎦⎦"
      ]
     },
     "execution_count": 13,
     "metadata": {},
     "output_type": "execute_result"
    }
   ],
   "source": [
    "MatB4=Matrix([[1,0,-1,0],[0,1,0,-1],[1,0,0,-1]])\n",
    "MatB4\n",
    "\n",
    "ListaContas4=[[3,3,1,-1]]\n",
    "\n",
    "Exercicio=gauss.RedGaussManual(ListaContas4, MatB4)\n",
    "Exercicio"
   ]
  },
  {
   "cell_type": "markdown",
   "metadata": {},
   "source": [
    "Como\n",
    "* $posto(MatrizB4)=3$, e \n",
    "* **número de vetores=3** \n",
    "\n",
    "então $posto(MatrizB4)=\\# vetores (B_4)$ logo os $B_4$ é um conjunto  L.I.\n",
    "\n",
    "\n",
    "Por definição $W_4=\\langle B_4 \\rangle$ de modo que $B_4$ é uma base de $W_4$ e $\\dim W_4=3$.\n",
    "\n",
    "Em conclusão\n",
    "* $B_4$ não gera $\\mathbb{R}^4$, gera um subespaço de dimensão 3. <br>\n",
    "* $B_4$ é L.I.<br>\n",
    "* $B_4$ não é uma base de $\\mathbb{R}^4$, mas sim é uma base de $W_4$.<br>\n"
   ]
  },
  {
   "cell_type": "code",
   "execution_count": null,
   "metadata": {},
   "outputs": [],
   "source": []
  },
  {
   "cell_type": "code",
   "execution_count": null,
   "metadata": {},
   "outputs": [],
   "source": []
  }
 ],
 "metadata": {
  "kernelspec": {
   "display_name": "Python 3",
   "language": "python",
   "name": "python3"
  },
  "language_info": {
   "codemirror_mode": {
    "name": "ipython",
    "version": 3
   },
   "file_extension": ".py",
   "mimetype": "text/x-python",
   "name": "python",
   "nbconvert_exporter": "python",
   "pygments_lexer": "ipython3",
   "version": "3.6.5"
  }
 },
 "nbformat": 4,
 "nbformat_minor": 2
}
