{
 "cells": [
  {
   "cell_type": "code",
   "execution_count": 5,
   "metadata": {},
   "outputs": [],
   "source": [
    "from IPython.core.interactiveshell import InteractiveShell\n",
    "InteractiveShell.ast_node_interactivity = \"all\" #Mostra todos os computos por célula, não somente o último resultado\n",
    "from sympy import *\n",
    "from sympy.matrices import randMatrix\n",
    "\n",
    "init_printing(use_latex='mathjax')\n",
    "x, y, z, a, b, c, x1,x2,x3,x4,x5,x6,x7,x8,x9,x10, w, u=symbols(\"x, y, z,a ,b, c, x1,x2,x3,x4,x5,x6,x7,x8,x9,x10, w, u\")\n",
    "\n",
    "import FuncRedGauss as gauss      #Shift + Enter"
   ]
  },
  {
   "cell_type": "markdown",
   "metadata": {},
   "source": [
    "# Exercício:\n",
    "\n",
    "Dado conjunto $B=\\{(1, 2, 3, 4, 5), (6, 7, 8, 9, 10), (11, 12, 13, 14, 15), (16, 17, 18, 19, 20), (21, 22, 23, 24, 25)\\}$ descrever o espaço gerado de $B$ mediante equações cartesianas\n",
    "\n",
    "# Solução:"
   ]
  },
  {
   "cell_type": "markdown",
   "metadata": {},
   "source": [
    "Um elemento $(x,y,z,w,u)\\in \\langle B\\rangle$ se e somente se existem $\\alpha_1, \\ldots, \\alpha_5$ tais que:\n",
    "\n",
    "$$(x,y,z,w,u)=\\alpha_1 (1, 2, 3, 4, 5)+\\alpha_2 (6, 7, 8, 9, 10)+\\alpha_3 (11, 12, 13, 14, 15)+\\alpha_4 (16, 17, 18, 19, 20)+\\alpha_5 (21, 22, 23, 24, 25)$$\n",
    "\n",
    "Então:\n",
    "\n",
    "\\begin{align*}\n",
    " \\alpha_1+6 \\alpha_2+11\\alpha_3+16\\alpha_4+21\\alpha_5&=x\\\\\n",
    "2\\alpha_1+7 \\alpha_2+12\\alpha_3+17\\alpha_4+22\\alpha_5&=y\\\\\n",
    "3\\alpha_1+8 \\alpha_2+13\\alpha_3+18\\alpha_4+23\\alpha_5&=z\\\\\n",
    "4\\alpha_1+9 \\alpha_2+14\\alpha_3+19\\alpha_4+24\\alpha_5&=w\\\\\n",
    "5\\alpha_1+10 \\alpha_2+15\\alpha_3+20\\alpha_4+25\\alpha_5&=u\\\\\n",
    "\\end{align*}\n"
   ]
  },
  {
   "cell_type": "code",
   "execution_count": 47,
   "metadata": {},
   "outputs": [
    {
     "data": {
      "text/latex": [
       "$$\\left[\\begin{matrix}1 & 6 & 11 & 16 & 21 & x\\\\2 & 7 & 12 & 17 & 22 & y\\\\3 & 8 & 13 & 18 & 23 & z\\\\4 & 9 & 14 & 19 & 24 & w\\\\5 & 10 & 15 & 20 & 25 & u\\end{matrix}\\right]$$"
      ],
      "text/plain": [
       "⎡1  6   11  16  21  x⎤\n",
       "⎢                    ⎥\n",
       "⎢2  7   12  17  22  y⎥\n",
       "⎢                    ⎥\n",
       "⎢3  8   13  18  23  z⎥\n",
       "⎢                    ⎥\n",
       "⎢4  9   14  19  24  w⎥\n",
       "⎢                    ⎥\n",
       "⎣5  10  15  20  25  u⎦"
      ]
     },
     "execution_count": 47,
     "metadata": {},
     "output_type": "execute_result"
    },
    {
     "data": {
      "text/latex": [
       "$$\\left [ \\left[\\begin{matrix}1 & 6 & 11 & 16 & 21 & x\\\\2 & 7 & 12 & 17 & 22 & y\\\\3 & 8 & 13 & 18 & 23 & z\\\\4 & 9 & 14 & 19 & 24 & w\\\\5 & 10 & 15 & 20 & 25 & u\\end{matrix}\\right], \\quad \\left[\\begin{matrix}1 & 6 & 11 & 16 & 21 & x\\\\0 & -5 & -10 & -15 & -20 & - 2 x + y\\\\3 & 8 & 13 & 18 & 23 & z\\\\4 & 9 & 14 & 19 & 24 & w\\\\5 & 10 & 15 & 20 & 25 & u\\end{matrix}\\right], \\quad \\left[\\begin{matrix}1 & 6 & 11 & 16 & 21 & x\\\\0 & -5 & -10 & -15 & -20 & - 2 x + y\\\\0 & -10 & -20 & -30 & -40 & - 3 x + z\\\\4 & 9 & 14 & 19 & 24 & w\\\\5 & 10 & 15 & 20 & 25 & u\\end{matrix}\\right], \\quad \\left[\\begin{matrix}1 & 6 & 11 & 16 & 21 & x\\\\0 & -5 & -10 & -15 & -20 & - 2 x + y\\\\0 & -10 & -20 & -30 & -40 & - 3 x + z\\\\0 & -15 & -30 & -45 & -60 & w - 4 x\\\\5 & 10 & 15 & 20 & 25 & u\\end{matrix}\\right], \\quad \\left[\\begin{matrix}1 & 6 & 11 & 16 & 21 & x\\\\0 & -5 & -10 & -15 & -20 & - 2 x + y\\\\0 & -10 & -20 & -30 & -40 & - 3 x + z\\\\0 & -15 & -30 & -45 & -60 & w - 4 x\\\\0 & -20 & -40 & -60 & -80 & u - 5 x\\end{matrix}\\right], \\quad \\left[\\begin{matrix}1 & 6 & 11 & 16 & 21 & x\\\\0 & -5 & -10 & -15 & -20 & - 2 x + y\\\\0 & 0 & 0 & 0 & 0 & x - 2 y + z\\\\0 & -15 & -30 & -45 & -60 & w - 4 x\\\\0 & -20 & -40 & -60 & -80 & u - 5 x\\end{matrix}\\right], \\quad \\left[\\begin{matrix}1 & 6 & 11 & 16 & 21 & x\\\\0 & -5 & -10 & -15 & -20 & - 2 x + y\\\\0 & 0 & 0 & 0 & 0 & x - 2 y + z\\\\0 & 0 & 0 & 0 & 0 & w + 2 x - 3 y\\\\0 & -20 & -40 & -60 & -80 & u - 5 x\\end{matrix}\\right], \\quad \\left[\\begin{matrix}1 & 6 & 11 & 16 & 21 & x\\\\0 & -5 & -10 & -15 & -20 & - 2 x + y\\\\0 & 0 & 0 & 0 & 0 & x - 2 y + z\\\\0 & 0 & 0 & 0 & 0 & w + 2 x - 3 y\\\\0 & 0 & 0 & 0 & 0 & u + 3 x - 4 y\\end{matrix}\\right]\\right ]$$"
      ],
      "text/plain": [
       "⎡⎡1  6   11  16  21  x⎤  ⎡1  6   11   16   21      x    ⎤  ⎡1   6   11   16   \n",
       "⎢⎢                    ⎥  ⎢                              ⎥  ⎢                  \n",
       "⎢⎢2  7   12  17  22  y⎥  ⎢0  -5  -10  -15  -20  -2⋅x + y⎥  ⎢0  -5   -10  -15  \n",
       "⎢⎢                    ⎥  ⎢                              ⎥  ⎢                  \n",
       "⎢⎢3  8   13  18  23  z⎥, ⎢3  8   13   18   23      z    ⎥, ⎢0  -10  -20  -30  \n",
       "⎢⎢                    ⎥  ⎢                              ⎥  ⎢                  \n",
       "⎢⎢4  9   14  19  24  w⎥  ⎢4  9   14   19   24      w    ⎥  ⎢4   9   14   19   \n",
       "⎢⎢                    ⎥  ⎢                              ⎥  ⎢                  \n",
       "⎣⎣5  10  15  20  25  u⎦  ⎣5  10  15   20   25      u    ⎦  ⎣5  10   15   20   \n",
       "\n",
       "21      x    ⎤  ⎡1   6   11   16   21      x    ⎤  ⎡1   6   11   16   21      \n",
       "             ⎥  ⎢                               ⎥  ⎢                          \n",
       "-20  -2⋅x + y⎥  ⎢0  -5   -10  -15  -20  -2⋅x + y⎥  ⎢0  -5   -10  -15  -20  -2⋅\n",
       "             ⎥  ⎢                               ⎥  ⎢                          \n",
       "-40  -3⋅x + z⎥, ⎢0  -10  -20  -30  -40  -3⋅x + z⎥, ⎢0  -10  -20  -30  -40  -3⋅\n",
       "             ⎥  ⎢                               ⎥  ⎢                          \n",
       "24      w    ⎥  ⎢0  -15  -30  -45  -60  w - 4⋅x ⎥  ⎢0  -15  -30  -45  -60  w -\n",
       "             ⎥  ⎢                               ⎥  ⎢                          \n",
       "25      u    ⎦  ⎣5  10   15   20   25      u    ⎦  ⎣0  -20  -40  -60  -80  u -\n",
       "\n",
       "x    ⎤  ⎡1   6   11   16   21        x     ⎤  ⎡1   6   11   16   21         x \n",
       "     ⎥  ⎢                                  ⎥  ⎢                               \n",
       "x + y⎥  ⎢0  -5   -10  -15  -20   -2⋅x + y  ⎥  ⎢0  -5   -10  -15  -20    -2⋅x +\n",
       "     ⎥  ⎢                                  ⎥  ⎢                               \n",
       "x + z⎥, ⎢0   0    0    0    0   x - 2⋅y + z⎥, ⎢0   0    0    0    0    x - 2⋅y\n",
       "     ⎥  ⎢                                  ⎥  ⎢                               \n",
       " 4⋅x ⎥  ⎢0  -15  -30  -45  -60    w - 4⋅x  ⎥  ⎢0   0    0    0    0   w + 2⋅x \n",
       "     ⎥  ⎢                                  ⎥  ⎢                               \n",
       " 5⋅x ⎦  ⎣0  -20  -40  -60  -80    u - 5⋅x  ⎦  ⎣0  -20  -40  -60  -80     u - 5\n",
       "\n",
       "     ⎤  ⎡1  6   11   16   21         x      ⎤⎤\n",
       "     ⎥  ⎢                                   ⎥⎥\n",
       " y   ⎥  ⎢0  -5  -10  -15  -20    -2⋅x + y   ⎥⎥\n",
       "     ⎥  ⎢                                   ⎥⎥\n",
       " + z ⎥, ⎢0  0    0    0    0    x - 2⋅y + z ⎥⎥\n",
       "     ⎥  ⎢                                   ⎥⎥\n",
       "- 3⋅y⎥  ⎢0  0    0    0    0   w + 2⋅x - 3⋅y⎥⎥\n",
       "     ⎥  ⎢                                   ⎥⎥\n",
       "⋅x   ⎦  ⎣0  0    0    0    0   u + 3⋅x - 4⋅y⎦⎦"
      ]
     },
     "execution_count": 47,
     "metadata": {},
     "output_type": "execute_result"
    }
   ],
   "source": [
    "MatrizA=Matrix([[1, 2, 3, 4, 5], [6, 7, 8, 9, 10], [11, 12, 13, 14, 15], [16, 17, 18, 19, 20], [21, 22, 23, 24, 25]])\n",
    "Mat=MatrizA.T\n",
    "MatrizA=Mat.row_join(Matrix([x,y,z,w,u]))\n",
    "MatrizA\n",
    "\n",
    "ListaContas=[[3,2,1,-2],[3,3,1,-3],[3,4,1,-4],[3,5,1,-5],[3,3,2,-2],[3,4,2,-3],[3,5,2,-4]]\n",
    "\n",
    "Exercicio=gauss.RedGaussManual(ListaContas,  MatrizA)\n",
    "Exercicio\n",
    "\n",
    "\n"
   ]
  },
  {
   "cell_type": "markdown",
   "metadata": {},
   "source": [
    "Usando as últimas três linhas temos que:\n",
    "$0=x−2y+z,\\qquad   0=w+2x−3y,\\qquad   0=u+3x−4y$.\n",
    "\n",
    "Portanto\n",
    "\n",
    "$$\\langle B\\rangle=\\Big\\{(x,y,z,w,u)\\in \\mathbb{R}^5 \\mid  0=x−2y+z,\\qquad   0=w+2x−3y,\\qquad   0=u+3x−4y \\Big\\}$$"
   ]
  },
  {
   "cell_type": "code",
   "execution_count": null,
   "metadata": {},
   "outputs": [],
   "source": []
  },
  {
   "cell_type": "code",
   "execution_count": null,
   "metadata": {},
   "outputs": [],
   "source": []
  },
  {
   "cell_type": "code",
   "execution_count": null,
   "metadata": {},
   "outputs": [],
   "source": []
  },
  {
   "cell_type": "code",
   "execution_count": null,
   "metadata": {},
   "outputs": [],
   "source": []
  },
  {
   "cell_type": "code",
   "execution_count": null,
   "metadata": {},
   "outputs": [],
   "source": []
  },
  {
   "cell_type": "code",
   "execution_count": null,
   "metadata": {},
   "outputs": [],
   "source": []
  },
  {
   "cell_type": "code",
   "execution_count": null,
   "metadata": {},
   "outputs": [],
   "source": []
  },
  {
   "cell_type": "code",
   "execution_count": null,
   "metadata": {},
   "outputs": [],
   "source": []
  },
  {
   "cell_type": "code",
   "execution_count": 36,
   "metadata": {},
   "outputs": [
    {
     "data": {
      "text/latex": [
       "$$\\left [ \\left[\\begin{matrix}1 & 2 & 3 & 4 & 5 & x\\\\6 & 7 & 8 & 9 & 10 & y\\\\11 & 12 & 13 & 14 & 15 & z\\\\16 & 17 & 18 & 19 & 20 & w\\\\21 & 22 & 23 & 24 & 25 & u\\end{matrix}\\right], \\quad \\left[\\begin{matrix}1 & 2 & 3 & 4 & 5 & x\\\\0 & -5 & -10 & -15 & -20 & - 6 x + y\\\\11 & 12 & 13 & 14 & 15 & z\\\\16 & 17 & 18 & 19 & 20 & w\\\\21 & 22 & 23 & 24 & 25 & u\\end{matrix}\\right], \\quad \\left[\\begin{matrix}1 & 2 & 3 & 4 & 5 & x\\\\0 & -5 & -10 & -15 & -20 & - 6 x + y\\\\0 & -10 & -20 & -30 & -40 & - 11 x + z\\\\16 & 17 & 18 & 19 & 20 & w\\\\21 & 22 & 23 & 24 & 25 & u\\end{matrix}\\right], \\quad \\left[\\begin{matrix}1 & 2 & 3 & 4 & 5 & x\\\\0 & -5 & -10 & -15 & -20 & - 6 x + y\\\\0 & -10 & -20 & -30 & -40 & - 11 x + z\\\\0 & -15 & -30 & -45 & -60 & w - 16 x\\\\21 & 22 & 23 & 24 & 25 & u\\end{matrix}\\right], \\quad \\left[\\begin{matrix}1 & 2 & 3 & 4 & 5 & x\\\\0 & -5 & -10 & -15 & -20 & - 6 x + y\\\\0 & -10 & -20 & -30 & -40 & - 11 x + z\\\\0 & -15 & -30 & -45 & -60 & w - 16 x\\\\0 & -20 & -40 & -60 & -80 & u - 21 x\\end{matrix}\\right], \\quad \\left[\\begin{matrix}1 & 2 & 3 & 4 & 5 & x\\\\0 & -5 & -10 & -15 & -20 & - 6 x + y\\\\0 & 0 & 0 & 0 & 0 & x - 2 y + z\\\\0 & -15 & -30 & -45 & -60 & w - 16 x\\\\0 & -20 & -40 & -60 & -80 & u - 21 x\\end{matrix}\\right], \\quad \\left[\\begin{matrix}1 & 2 & 3 & 4 & 5 & x\\\\0 & -5 & -10 & -15 & -20 & - 6 x + y\\\\0 & 0 & 0 & 0 & 0 & x - 2 y + z\\\\0 & 0 & 0 & 0 & 0 & w + 2 x - 3 y\\\\0 & -20 & -40 & -60 & -80 & u - 21 x\\end{matrix}\\right], \\quad \\left[\\begin{matrix}1 & 2 & 3 & 4 & 5 & x\\\\0 & -5 & -10 & -15 & -20 & - 6 x + y\\\\0 & 0 & 0 & 0 & 0 & x - 2 y + z\\\\0 & 0 & 0 & 0 & 0 & w + 2 x - 3 y\\\\0 & 0 & 0 & 0 & 0 & u + 3 x - 4 y\\end{matrix}\\right], \\quad \\left[\\begin{matrix}1 & 2 & 3 & 4 & 5 & x\\\\0 & 1 & 2 & 3 & 4 & \\frac{6 x}{5} - \\frac{y}{5}\\\\0 & 0 & 0 & 0 & 0 & x - 2 y + z\\\\0 & 0 & 0 & 0 & 0 & w + 2 x - 3 y\\\\0 & 0 & 0 & 0 & 0 & u + 3 x - 4 y\\end{matrix}\\right]\\right ]$$"
      ],
      "text/plain": [
       "⎡                                                                             \n",
       "⎢⎡1   2   3   4   5   x⎤  ⎡1   2    3    4    5      x    ⎤  ⎡1    2    3    4\n",
       "⎢⎢                     ⎥  ⎢                               ⎥  ⎢                \n",
       "⎢⎢6   7   8   9   10  y⎥  ⎢0   -5  -10  -15  -20  -6⋅x + y⎥  ⎢0   -5   -10  -1\n",
       "⎢⎢                     ⎥  ⎢                               ⎥  ⎢                \n",
       "⎢⎢11  12  13  14  15  z⎥, ⎢11  12  13   14   15      z    ⎥, ⎢0   -10  -20  -3\n",
       "⎢⎢                     ⎥  ⎢                               ⎥  ⎢                \n",
       "⎢⎢16  17  18  19  20  w⎥  ⎢16  17  18   19   20      w    ⎥  ⎢16  17   18   19\n",
       "⎢⎢                     ⎥  ⎢                               ⎥  ⎢                \n",
       "⎢⎣21  22  23  24  25  u⎦  ⎣21  22  23   24   25      u    ⎦  ⎣21  22   23   24\n",
       "⎣                                                                             \n",
       "\n",
       "                                                                              \n",
       "    5       x    ⎤  ⎡1    2    3    4    5       x    ⎤  ⎡1   2    3    4    5\n",
       "                 ⎥  ⎢                                 ⎥  ⎢                    \n",
       "5  -20  -6⋅x + y ⎥  ⎢0   -5   -10  -15  -20  -6⋅x + y ⎥  ⎢0  -5   -10  -15  -2\n",
       "                 ⎥  ⎢                                 ⎥  ⎢                    \n",
       "0  -40  -11⋅x + z⎥, ⎢0   -10  -20  -30  -40  -11⋅x + z⎥, ⎢0  -10  -20  -30  -4\n",
       "                 ⎥  ⎢                                 ⎥  ⎢                    \n",
       "   20       w    ⎥  ⎢0   -15  -30  -45  -60  w - 16⋅x ⎥  ⎢0  -15  -30  -45  -6\n",
       "                 ⎥  ⎢                                 ⎥  ⎢                    \n",
       "   25       u    ⎦  ⎣21  22   23   24   25       u    ⎦  ⎣0  -20  -40  -60  -8\n",
       "                                                                              \n",
       "\n",
       "                                                                              \n",
       "       x    ⎤  ⎡1   2    3    4    5        x     ⎤  ⎡1   2    3    4    5    \n",
       "            ⎥  ⎢                                  ⎥  ⎢                        \n",
       "0  -6⋅x + y ⎥  ⎢0  -5   -10  -15  -20   -6⋅x + y  ⎥  ⎢0  -5   -10  -15  -20   \n",
       "            ⎥  ⎢                                  ⎥  ⎢                        \n",
       "0  -11⋅x + z⎥, ⎢0   0    0    0    0   x - 2⋅y + z⎥, ⎢0   0    0    0    0    \n",
       "            ⎥  ⎢                                  ⎥  ⎢                        \n",
       "0  w - 16⋅x ⎥  ⎢0  -15  -30  -45  -60   w - 16⋅x  ⎥  ⎢0   0    0    0    0   w\n",
       "            ⎥  ⎢                                  ⎥  ⎢                        \n",
       "0  u - 21⋅x ⎦  ⎣0  -20  -40  -60  -80   u - 21⋅x  ⎦  ⎣0  -20  -40  -60  -80   \n",
       "                                                                              \n",
       "\n",
       "                                                      ⎡1  2  3  4  5        x \n",
       "     x      ⎤  ⎡1  2    3    4    5         x      ⎤  ⎢                       \n",
       "            ⎥  ⎢                                   ⎥  ⎢                  6⋅x  \n",
       " -6⋅x + y   ⎥  ⎢0  -5  -10  -15  -20    -6⋅x + y   ⎥  ⎢0  1  2  3  4     ─── -\n",
       "            ⎥  ⎢                                   ⎥  ⎢                   5   \n",
       "x - 2⋅y + z ⎥, ⎢0  0    0    0    0    x - 2⋅y + z ⎥, ⎢                       \n",
       "            ⎥  ⎢                                   ⎥  ⎢0  0  0  0  0   x - 2⋅y\n",
       " + 2⋅x - 3⋅y⎥  ⎢0  0    0    0    0   w + 2⋅x - 3⋅y⎥  ⎢                       \n",
       "            ⎥  ⎢                                   ⎥  ⎢0  0  0  0  0  w + 2⋅x \n",
       " u - 21⋅x   ⎦  ⎣0  0    0    0    0   u + 3⋅x - 4⋅y⎦  ⎢                       \n",
       "                                                      ⎣0  0  0  0  0  u + 3⋅x \n",
       "\n",
       "     ⎤⎤\n",
       "     ⎥⎥\n",
       " y   ⎥⎥\n",
       " ─   ⎥⎥\n",
       " 5   ⎥⎥\n",
       "     ⎥⎥\n",
       " + z ⎥⎥\n",
       "     ⎥⎥\n",
       "- 3⋅y⎥⎥\n",
       "     ⎥⎥\n",
       "- 4⋅y⎦⎦"
      ]
     },
     "execution_count": 36,
     "metadata": {},
     "output_type": "execute_result"
    }
   ],
   "source": [
    "ListaContas=[[3,2,1,-6],[3,3,1,-11],[3,4,1,-16],[3,5,1,-21], [3,3,2,-2], [3,4,2,-3], [3,5,2,-4],[2,2,-Rational(1)/5]]\n",
    "\n",
    "Exercicio=gauss.RedGaussManual(ListaContas,  MatrizA)\n",
    "Exercicio\n"
   ]
  },
  {
   "cell_type": "code",
   "execution_count": null,
   "metadata": {},
   "outputs": [],
   "source": []
  },
  {
   "cell_type": "code",
   "execution_count": null,
   "metadata": {},
   "outputs": [],
   "source": []
  }
 ],
 "metadata": {
  "kernelspec": {
   "display_name": "Python 3",
   "language": "python",
   "name": "python3"
  },
  "language_info": {
   "codemirror_mode": {
    "name": "ipython",
    "version": 3
   },
   "file_extension": ".py",
   "mimetype": "text/x-python",
   "name": "python",
   "nbconvert_exporter": "python",
   "pygments_lexer": "ipython3",
   "version": "3.6.5"
  }
 },
 "nbformat": 4,
 "nbformat_minor": 2
}
