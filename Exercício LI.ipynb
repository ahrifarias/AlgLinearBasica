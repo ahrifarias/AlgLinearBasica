{
 "cells": [
  {
   "cell_type": "code",
   "execution_count": 1,
   "metadata": {},
   "outputs": [],
   "source": [
    "from IPython.core.interactiveshell import InteractiveShell\n",
    "InteractiveShell.ast_node_interactivity = \"all\" #Mostra todos os computos por célula, não somente o último resultado\n",
    "from sympy import *\n",
    "from sympy.matrices import randMatrix\n",
    "\n",
    "init_printing(use_latex='mathjax')\n",
    "x, y, z, a, b, c, x1,x2,x3,x4,x5,x6,x7,x8,x9,x10=symbols(\"x, y, z,a ,b, c, x1,x2,x3,x4,x5,x6,x7,x8,x9,x10\")\n",
    "\n",
    "import FuncRedGauss as gauss      #Shift + Enter"
   ]
  },
  {
   "cell_type": "markdown",
   "metadata": {},
   "source": [
    "# Exercício:\n",
    "\n",
    "Determinar se o conjunto $B=\\{(1, 2, 3, 4, 5), (6, 7, 8, 9, 10), (11, 12, 13, 14, 15), (16, 17, 18, 19, 20), (21, 22, 23, 24, 25)\\}$ é um conjunto L.I.\n",
    "\n",
    "# Solução:"
   ]
  },
  {
   "cell_type": "markdown",
   "metadata": {},
   "source": [
    "\n",
    "Para ver se $B$ é L.I. Calulamos o posto da matriz de vetores linha\n",
    "\n",
    "\n",
    "$MatrizA=\\left(\n",
    "\\begin{array}{ccccc}\n",
    " 1 & 2 & 3 & 4 & 5 \\\\\n",
    " 6 & 7 & 8 & 9 & 10 \\\\\n",
    " 11 & 12 & 13 & 14 & 15 \\\\\n",
    " 16 & 17 & 18 & 19 & 20 \\\\\n",
    " 21 & 22 & 23 & 24 & 25 \\\\\n",
    "\\end{array}\n",
    "\\right)$"
   ]
  },
  {
   "cell_type": "code",
   "execution_count": 24,
   "metadata": {},
   "outputs": [
    {
     "data": {
      "text/latex": [
       "$$\\left [ \\left[\\begin{matrix}1 & 2 & 3 & 4 & 5\\\\6 & 7 & 8 & 9 & 10\\\\11 & 12 & 13 & 14 & 15\\\\16 & 17 & 18 & 19 & 20\\\\21 & 22 & 23 & 24 & 25\\end{matrix}\\right], \\quad \\left[\\begin{matrix}1 & 2 & 3 & 4 & 5\\\\0 & -5 & -10 & -15 & -20\\\\11 & 12 & 13 & 14 & 15\\\\16 & 17 & 18 & 19 & 20\\\\21 & 22 & 23 & 24 & 25\\end{matrix}\\right], \\quad \\left[\\begin{matrix}1 & 2 & 3 & 4 & 5\\\\0 & -5 & -10 & -15 & -20\\\\0 & -10 & -20 & -30 & -40\\\\16 & 17 & 18 & 19 & 20\\\\21 & 22 & 23 & 24 & 25\\end{matrix}\\right], \\quad \\left[\\begin{matrix}1 & 2 & 3 & 4 & 5\\\\0 & -5 & -10 & -15 & -20\\\\0 & -10 & -20 & -30 & -40\\\\0 & -15 & -30 & -45 & -60\\\\21 & 22 & 23 & 24 & 25\\end{matrix}\\right], \\quad \\left[\\begin{matrix}1 & 2 & 3 & 4 & 5\\\\0 & -5 & -10 & -15 & -20\\\\0 & -10 & -20 & -30 & -40\\\\0 & -15 & -30 & -45 & -60\\\\0 & -20 & -40 & -60 & -80\\end{matrix}\\right], \\quad \\left[\\begin{matrix}1 & 2 & 3 & 4 & 5\\\\0 & -5 & -10 & -15 & -20\\\\0 & 0 & 0 & 0 & 0\\\\0 & -15 & -30 & -45 & -60\\\\0 & -20 & -40 & -60 & -80\\end{matrix}\\right], \\quad \\left[\\begin{matrix}1 & 2 & 3 & 4 & 5\\\\0 & -5 & -10 & -15 & -20\\\\0 & 0 & 0 & 0 & 0\\\\0 & 0 & 0 & 0 & 0\\\\0 & -20 & -40 & -60 & -80\\end{matrix}\\right], \\quad \\left[\\begin{matrix}1 & 2 & 3 & 4 & 5\\\\0 & -5 & -10 & -15 & -20\\\\0 & 0 & 0 & 0 & 0\\\\0 & 0 & 0 & 0 & 0\\\\0 & 0 & 0 & 0 & 0\\end{matrix}\\right], \\quad \\left[\\begin{matrix}1 & 2 & 3 & 4 & 5\\\\0 & 1 & 2 & 3 & 4\\\\0 & 0 & 0 & 0 & 0\\\\0 & 0 & 0 & 0 & 0\\\\0 & 0 & 0 & 0 & 0\\end{matrix}\\right]\\right ]$$"
      ],
      "text/plain": [
       "⎡⎡1   2   3   4   5 ⎤  ⎡1   2    3    4    5 ⎤  ⎡1    2    3    4    5 ⎤  ⎡1  \n",
       "⎢⎢                  ⎥  ⎢                     ⎥  ⎢                      ⎥  ⎢   \n",
       "⎢⎢6   7   8   9   10⎥  ⎢0   -5  -10  -15  -20⎥  ⎢0   -5   -10  -15  -20⎥  ⎢0  \n",
       "⎢⎢                  ⎥  ⎢                     ⎥  ⎢                      ⎥  ⎢   \n",
       "⎢⎢11  12  13  14  15⎥, ⎢11  12  13   14   15 ⎥, ⎢0   -10  -20  -30  -40⎥, ⎢0  \n",
       "⎢⎢                  ⎥  ⎢                     ⎥  ⎢                      ⎥  ⎢   \n",
       "⎢⎢16  17  18  19  20⎥  ⎢16  17  18   19   20 ⎥  ⎢16  17   18   19   20 ⎥  ⎢0  \n",
       "⎢⎢                  ⎥  ⎢                     ⎥  ⎢                      ⎥  ⎢   \n",
       "⎣⎣21  22  23  24  25⎦  ⎣21  22  23   24   25 ⎦  ⎣21  22   23   24   25 ⎦  ⎣21 \n",
       "\n",
       "  2    3    4    5 ⎤  ⎡1   2    3    4    5 ⎤  ⎡1   2    3    4    5 ⎤  ⎡1   2\n",
       "                   ⎥  ⎢                     ⎥  ⎢                     ⎥  ⎢     \n",
       " -5   -10  -15  -20⎥  ⎢0  -5   -10  -15  -20⎥  ⎢0  -5   -10  -15  -20⎥  ⎢0  -5\n",
       "                   ⎥  ⎢                     ⎥  ⎢                     ⎥  ⎢     \n",
       " -10  -20  -30  -40⎥, ⎢0  -10  -20  -30  -40⎥, ⎢0   0    0    0    0 ⎥, ⎢0   0\n",
       "                   ⎥  ⎢                     ⎥  ⎢                     ⎥  ⎢     \n",
       " -15  -30  -45  -60⎥  ⎢0  -15  -30  -45  -60⎥  ⎢0  -15  -30  -45  -60⎥  ⎢0   0\n",
       "                   ⎥  ⎢                     ⎥  ⎢                     ⎥  ⎢     \n",
       " 22   23   24   25 ⎦  ⎣0  -20  -40  -60  -80⎦  ⎣0  -20  -40  -60  -80⎦  ⎣0  -2\n",
       "\n",
       "    3    4    5 ⎤  ⎡1  2    3    4    5 ⎤  ⎡1  2  3  4  5⎤⎤\n",
       "                ⎥  ⎢                    ⎥  ⎢             ⎥⎥\n",
       "   -10  -15  -20⎥  ⎢0  -5  -10  -15  -20⎥  ⎢0  1  2  3  4⎥⎥\n",
       "                ⎥  ⎢                    ⎥  ⎢             ⎥⎥\n",
       "    0    0    0 ⎥, ⎢0  0    0    0    0 ⎥, ⎢0  0  0  0  0⎥⎥\n",
       "                ⎥  ⎢                    ⎥  ⎢             ⎥⎥\n",
       "    0    0    0 ⎥  ⎢0  0    0    0    0 ⎥  ⎢0  0  0  0  0⎥⎥\n",
       "                ⎥  ⎢                    ⎥  ⎢             ⎥⎥\n",
       "0  -40  -60  -80⎦  ⎣0  0    0    0    0 ⎦  ⎣0  0  0  0  0⎦⎦"
      ]
     },
     "execution_count": 24,
     "metadata": {},
     "output_type": "execute_result"
    }
   ],
   "source": [
    "ListaContas=[[3,2,1,-6],[3,3,1,-11],[3,4,1,-16],[3,5,1,-21], [3,3,2,-2], [3,4,2,-3], [3,5,2,-4],[2,2,-Rational(1)/5]]\n",
    "MatrizA=Matrix([[1, 2, 3, 4, 5], [6, 7, 8, 9, 10], [11, 12, 13, 14, 15], [16, 17, 18, 19, 20], [21, 22, 23, 24, 25]])\n",
    "gauss.RedGaussManual(ListaContas,MatrizA)"
   ]
  },
  {
   "cell_type": "markdown",
   "metadata": {},
   "source": [
    "Como\n",
    "* $posto(MatrizA)=2$, e \n",
    "* **número de vetores=5** \n",
    "\n",
    "então $posto(MatrizA)\\neq \\# vetores$ logo os vetores são L.D."
   ]
  },
  {
   "cell_type": "markdown",
   "metadata": {},
   "source": []
  },
  {
   "cell_type": "code",
   "execution_count": null,
   "metadata": {},
   "outputs": [],
   "source": []
  },
  {
   "cell_type": "code",
   "execution_count": null,
   "metadata": {},
   "outputs": [],
   "source": []
  },
  {
   "cell_type": "code",
   "execution_count": null,
   "metadata": {},
   "outputs": [],
   "source": []
  },
  {
   "cell_type": "code",
   "execution_count": null,
   "metadata": {},
   "outputs": [],
   "source": []
  },
  {
   "cell_type": "code",
   "execution_count": null,
   "metadata": {},
   "outputs": [],
   "source": []
  },
  {
   "cell_type": "code",
   "execution_count": null,
   "metadata": {},
   "outputs": [],
   "source": []
  },
  {
   "cell_type": "code",
   "execution_count": null,
   "metadata": {},
   "outputs": [],
   "source": []
  },
  {
   "cell_type": "code",
   "execution_count": null,
   "metadata": {},
   "outputs": [],
   "source": []
  },
  {
   "cell_type": "code",
   "execution_count": null,
   "metadata": {},
   "outputs": [],
   "source": []
  },
  {
   "cell_type": "code",
   "execution_count": null,
   "metadata": {},
   "outputs": [],
   "source": []
  },
  {
   "cell_type": "code",
   "execution_count": null,
   "metadata": {},
   "outputs": [],
   "source": []
  },
  {
   "cell_type": "code",
   "execution_count": null,
   "metadata": {},
   "outputs": [],
   "source": []
  },
  {
   "cell_type": "code",
   "execution_count": null,
   "metadata": {},
   "outputs": [],
   "source": []
  },
  {
   "cell_type": "code",
   "execution_count": null,
   "metadata": {},
   "outputs": [],
   "source": []
  },
  {
   "cell_type": "code",
   "execution_count": null,
   "metadata": {},
   "outputs": [],
   "source": [
    "ListaContas=[[3,2,1,-6],[3,3,1,-11],[3,4,1,-16],[3,5,1,-21], [3,3,2,-2], [3,4,2,-3], [3,5,2,-4],[2,2,-Rational(1)/5]]\n",
    "MatrizA=Matrix([[1, 2, 3, 4, 5], [6, 7, 8, 9, 10], [11, 12, 13, 14, 15], [16, 17, 18, 19, 20], [21, 22, 23, 24, 25]])\n",
    "\n",
    "\n",
    "Exercicio=gauss.RedGaussManual(ListaContas,  MatrizA)\n",
    "Exercicio\n"
   ]
  },
  {
   "cell_type": "code",
   "execution_count": null,
   "metadata": {},
   "outputs": [],
   "source": []
  },
  {
   "cell_type": "code",
   "execution_count": null,
   "metadata": {},
   "outputs": [],
   "source": [
    "ListaContas=[]\n",
    "MatrizA=Matrix([[1, 2, 3, 4, 5], [6, 7, 8, 9, 10], [11, 12, 13, 14, 15], [16, 17, 18, 19, 20], [21, 22, 23, 24, 25]])\n",
    "MatrizA\n"
   ]
  }
 ],
 "metadata": {
  "kernelspec": {
   "display_name": "Python 3",
   "language": "python",
   "name": "python3"
  },
  "language_info": {
   "codemirror_mode": {
    "name": "ipython",
    "version": 3
   },
   "file_extension": ".py",
   "mimetype": "text/x-python",
   "name": "python",
   "nbconvert_exporter": "python",
   "pygments_lexer": "ipython3",
   "version": "3.6.5"
  }
 },
 "nbformat": 4,
 "nbformat_minor": 2
}
