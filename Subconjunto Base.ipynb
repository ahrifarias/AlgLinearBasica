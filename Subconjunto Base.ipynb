{
 "cells": [
  {
   "cell_type": "code",
   "execution_count": 2,
   "metadata": {},
   "outputs": [],
   "source": [
    "from IPython.core.interactiveshell import InteractiveShell\n",
    "InteractiveShell.ast_node_interactivity = \"all\" #Mostra todos os computos por célula, não somente o último resultado\n",
    "from sympy import *\n",
    "from sympy.matrices import randMatrix\n",
    "\n",
    "init_printing(use_latex='mathjax')\n",
    "x, y, z, a, b, c, x1,x2,x3,x4,x5,x6,x7,x8,x9,x10, w, u=symbols(\"x, y, z,a ,b, c, x1,x2,x3,x4,x5,x6,x7,x8,x9,x10, w, u\")\n",
    "\n",
    "import FuncRedGauss as gauss      #Shift + Enter"
   ]
  },
  {
   "cell_type": "markdown",
   "metadata": {},
   "source": [
    "# Exercício:\n",
    "\n",
    "Dado conjunto $B=\\{\\underbrace{(1, 2, 3, 4, 5)}_{v_1},\\underbrace{ (6, 7, 8, 9, 10)}_{v_2}, \\underbrace{(11, 12, 13, 14, 15)}_{v_3}, \\underbrace{(16, 17, 18, 19, 20)}_{v_4}, \\underbrace{(21, 22, 23, 24, 25)}_{v_5}\\}$ encontre uma base para o espaço gerado de $B$\n",
    "\n",
    "# Solução:"
   ]
  },
  {
   "cell_type": "markdown",
   "metadata": {},
   "source": [
    "Para encontrar uma base para $\\langle B\\rangle$ precisamos de um conjunto de vetores $B_0$ tal que\n",
    "\n",
    "1) $\\langle B_0\\rangle=\\langle B\\rangle$ <br>\n",
    "2) $B_0$ seja L.I"
   ]
  },
  {
   "cell_type": "code",
   "execution_count": 6,
   "metadata": {},
   "outputs": [
    {
     "data": {
      "text/latex": [
       "$$\\left[\\begin{matrix}1 & 2 & 3 & 4 & 5\\\\6 & 7 & 8 & 9 & 10\\\\11 & 12 & 13 & 14 & 15\\\\16 & 17 & 18 & 19 & 20\\\\21 & 22 & 23 & 24 & 25\\end{matrix}\\right]$$"
      ],
      "text/plain": [
       "⎡1   2   3   4   5 ⎤\n",
       "⎢                  ⎥\n",
       "⎢6   7   8   9   10⎥\n",
       "⎢                  ⎥\n",
       "⎢11  12  13  14  15⎥\n",
       "⎢                  ⎥\n",
       "⎢16  17  18  19  20⎥\n",
       "⎢                  ⎥\n",
       "⎣21  22  23  24  25⎦"
      ]
     },
     "execution_count": 6,
     "metadata": {},
     "output_type": "execute_result"
    },
    {
     "data": {
      "text/latex": [
       "$$\\left [ \\left[\\begin{matrix}1 & 2 & 3 & 4 & 5\\\\6 & 7 & 8 & 9 & 10\\\\11 & 12 & 13 & 14 & 15\\\\16 & 17 & 18 & 19 & 20\\\\21 & 22 & 23 & 24 & 25\\end{matrix}\\right], \\quad \\left[\\begin{matrix}1 & 2 & 3 & 4 & 5\\\\0 & -5 & -10 & -15 & -20\\\\11 & 12 & 13 & 14 & 15\\\\16 & 17 & 18 & 19 & 20\\\\21 & 22 & 23 & 24 & 25\\end{matrix}\\right], \\quad \\left[\\begin{matrix}1 & 2 & 3 & 4 & 5\\\\0 & -5 & -10 & -15 & -20\\\\0 & -10 & -20 & -30 & -40\\\\16 & 17 & 18 & 19 & 20\\\\21 & 22 & 23 & 24 & 25\\end{matrix}\\right], \\quad \\left[\\begin{matrix}1 & 2 & 3 & 4 & 5\\\\0 & -5 & -10 & -15 & -20\\\\0 & -10 & -20 & -30 & -40\\\\0 & -15 & -30 & -45 & -60\\\\21 & 22 & 23 & 24 & 25\\end{matrix}\\right], \\quad \\left[\\begin{matrix}1 & 2 & 3 & 4 & 5\\\\0 & -5 & -10 & -15 & -20\\\\0 & -10 & -20 & -30 & -40\\\\0 & -15 & -30 & -45 & -60\\\\0 & -20 & -40 & -60 & -80\\end{matrix}\\right], \\quad \\left[\\begin{matrix}1 & 2 & 3 & 4 & 5\\\\0 & -5 & -10 & -15 & -20\\\\0 & 0 & 0 & 0 & 0\\\\0 & -15 & -30 & -45 & -60\\\\0 & -20 & -40 & -60 & -80\\end{matrix}\\right], \\quad \\left[\\begin{matrix}1 & 2 & 3 & 4 & 5\\\\0 & -5 & -10 & -15 & -20\\\\0 & 0 & 0 & 0 & 0\\\\0 & 0 & 0 & 0 & 0\\\\0 & -20 & -40 & -60 & -80\\end{matrix}\\right], \\quad \\left[\\begin{matrix}1 & 2 & 3 & 4 & 5\\\\0 & -5 & -10 & -15 & -20\\\\0 & 0 & 0 & 0 & 0\\\\0 & 0 & 0 & 0 & 0\\\\0 & 0 & 0 & 0 & 0\\end{matrix}\\right], \\quad \\left[\\begin{matrix}1 & 2 & 3 & 4 & 5\\\\0 & 1 & 2 & 3 & 4\\\\0 & 0 & 0 & 0 & 0\\\\0 & 0 & 0 & 0 & 0\\\\0 & 0 & 0 & 0 & 0\\end{matrix}\\right]\\right ]$$"
      ],
      "text/plain": [
       "⎡⎡1   2   3   4   5 ⎤  ⎡1   2    3    4    5 ⎤  ⎡1    2    3    4    5 ⎤  ⎡1  \n",
       "⎢⎢                  ⎥  ⎢                     ⎥  ⎢                      ⎥  ⎢   \n",
       "⎢⎢6   7   8   9   10⎥  ⎢0   -5  -10  -15  -20⎥  ⎢0   -5   -10  -15  -20⎥  ⎢0  \n",
       "⎢⎢                  ⎥  ⎢                     ⎥  ⎢                      ⎥  ⎢   \n",
       "⎢⎢11  12  13  14  15⎥, ⎢11  12  13   14   15 ⎥, ⎢0   -10  -20  -30  -40⎥, ⎢0  \n",
       "⎢⎢                  ⎥  ⎢                     ⎥  ⎢                      ⎥  ⎢   \n",
       "⎢⎢16  17  18  19  20⎥  ⎢16  17  18   19   20 ⎥  ⎢16  17   18   19   20 ⎥  ⎢0  \n",
       "⎢⎢                  ⎥  ⎢                     ⎥  ⎢                      ⎥  ⎢   \n",
       "⎣⎣21  22  23  24  25⎦  ⎣21  22  23   24   25 ⎦  ⎣21  22   23   24   25 ⎦  ⎣21 \n",
       "\n",
       "  2    3    4    5 ⎤  ⎡1   2    3    4    5 ⎤  ⎡1   2    3    4    5 ⎤  ⎡1   2\n",
       "                   ⎥  ⎢                     ⎥  ⎢                     ⎥  ⎢     \n",
       " -5   -10  -15  -20⎥  ⎢0  -5   -10  -15  -20⎥  ⎢0  -5   -10  -15  -20⎥  ⎢0  -5\n",
       "                   ⎥  ⎢                     ⎥  ⎢                     ⎥  ⎢     \n",
       " -10  -20  -30  -40⎥, ⎢0  -10  -20  -30  -40⎥, ⎢0   0    0    0    0 ⎥, ⎢0   0\n",
       "                   ⎥  ⎢                     ⎥  ⎢                     ⎥  ⎢     \n",
       " -15  -30  -45  -60⎥  ⎢0  -15  -30  -45  -60⎥  ⎢0  -15  -30  -45  -60⎥  ⎢0   0\n",
       "                   ⎥  ⎢                     ⎥  ⎢                     ⎥  ⎢     \n",
       " 22   23   24   25 ⎦  ⎣0  -20  -40  -60  -80⎦  ⎣0  -20  -40  -60  -80⎦  ⎣0  -2\n",
       "\n",
       "    3    4    5 ⎤  ⎡1  2    3    4    5 ⎤  ⎡1  2  3  4  5⎤⎤\n",
       "                ⎥  ⎢                    ⎥  ⎢             ⎥⎥\n",
       "   -10  -15  -20⎥  ⎢0  -5  -10  -15  -20⎥  ⎢0  1  2  3  4⎥⎥\n",
       "                ⎥  ⎢                    ⎥  ⎢             ⎥⎥\n",
       "    0    0    0 ⎥, ⎢0  0    0    0    0 ⎥, ⎢0  0  0  0  0⎥⎥\n",
       "                ⎥  ⎢                    ⎥  ⎢             ⎥⎥\n",
       "    0    0    0 ⎥  ⎢0  0    0    0    0 ⎥  ⎢0  0  0  0  0⎥⎥\n",
       "                ⎥  ⎢                    ⎥  ⎢             ⎥⎥\n",
       "0  -40  -60  -80⎦  ⎣0  0    0    0    0 ⎦  ⎣0  0  0  0  0⎦⎦"
      ]
     },
     "execution_count": 6,
     "metadata": {},
     "output_type": "execute_result"
    }
   ],
   "source": [
    "MatrizA=Matrix([[1, 2, 3, 4, 5], [6, 7, 8, 9, 10], [11, 12, 13, 14, 15], [16, 17, 18, 19, 20], [21, 22, 23, 24, 25]])\n",
    "MatrizA\n",
    "\n",
    "ListaContas=[[3,2,1,-6],[3,3,1,-11],[3,4,1,-16],[3,5,1,-21], [3,3,2,-2], [3,4,2,-3], [3,5,2,-4],[2,2,-Rational(1)/5]]\n",
    "\n",
    "Exercicio=gauss.RedGaussManual(ListaContas,  MatrizA)\n",
    "Exercicio\n"
   ]
  },
  {
   "cell_type": "markdown",
   "metadata": {},
   "source": [
    "Nas primeiras $5$ matrizes se usaram operações com a linha 1 pra zerar a primeira coluna. Nas seguintes 3 matrizes se usaram operações com a linha 2 para zerar a segunda coluna. Casualmente isto implicou zerar as outras colunas. A última operação multiplicou a linha 2 por um escalar. Então isto conlcui que todos as outras linhas  podem ser obtidas a partir das primeiras duas linhas. Portanto  \n",
    "$\\langle v_1,v_2,v_3,v_4,v_5\\rangle=\\langle v_1,v_2\\rangle$"
   ]
  },
  {
   "cell_type": "markdown",
   "metadata": {},
   "source": [
    "Então considerando $B_0=\\{v_1,v_2\\}=\\{(1, 2, 3, 4, 5), (6, 7, 8, 9, 10)\\}$, temos que $\\langle B_0\\rangle=\\langle B\\rangle$"
   ]
  },
  {
   "cell_type": "code",
   "execution_count": 8,
   "metadata": {},
   "outputs": [
    {
     "data": {
      "text/latex": [
       "$$\\left[\\begin{matrix}1 & 2 & 3 & 4 & 5\\\\6 & 7 & 8 & 9 & 10\\end{matrix}\\right]$$"
      ],
      "text/plain": [
       "⎡1  2  3  4  5 ⎤\n",
       "⎢              ⎥\n",
       "⎣6  7  8  9  10⎦"
      ]
     },
     "execution_count": 8,
     "metadata": {},
     "output_type": "execute_result"
    },
    {
     "data": {
      "text/latex": [
       "$$\\left [ \\left[\\begin{matrix}1 & 2 & 3 & 4 & 5\\\\6 & 7 & 8 & 9 & 10\\end{matrix}\\right], \\quad \\left[\\begin{matrix}1 & 2 & 3 & 4 & 5\\\\0 & -5 & -10 & -15 & -20\\end{matrix}\\right]\\right ]$$"
      ],
      "text/plain": [
       "⎡⎡1  2  3  4  5 ⎤  ⎡1  2    3    4    5 ⎤⎤\n",
       "⎢⎢              ⎥, ⎢                    ⎥⎥\n",
       "⎣⎣6  7  8  9  10⎦  ⎣0  -5  -10  -15  -20⎦⎦"
      ]
     },
     "execution_count": 8,
     "metadata": {},
     "output_type": "execute_result"
    }
   ],
   "source": [
    "MatrizA0=Matrix([[1, 2, 3, 4, 5], [6, 7, 8, 9, 10]])\n",
    "MatrizA0\n",
    "\n",
    "ListaContas=[[3,2,1,-6]]\n",
    "\n",
    "Exercicio=gauss.RedGaussManual(ListaContas,  MatrizA0)\n",
    "Exercicio\n"
   ]
  },
  {
   "cell_type": "markdown",
   "metadata": {},
   "source": [
    "$posto(MatrizA_0)=2$ <br>\n",
    "$\\#$ vetores\\,  de,  $B_0 =2$ logo $B_0$ é L.I.\n",
    "\n",
    "$B_0$ é L.I e gera, portanto é uma base para $\\langle B\\rangle$"
   ]
  },
  {
   "cell_type": "code",
   "execution_count": null,
   "metadata": {},
   "outputs": [],
   "source": []
  },
  {
   "cell_type": "markdown",
   "metadata": {},
   "source": [
    "Outra possível base $B_1=\\{(1,2,3,4,5),(0,1,2,3,4)\\}$. Temos que $\\langle B_1\\rangle=\\langle B\\rangle$. E também $B_1$ é L.I."
   ]
  },
  {
   "cell_type": "code",
   "execution_count": null,
   "metadata": {},
   "outputs": [],
   "source": []
  },
  {
   "cell_type": "code",
   "execution_count": null,
   "metadata": {},
   "outputs": [],
   "source": []
  },
  {
   "cell_type": "code",
   "execution_count": null,
   "metadata": {},
   "outputs": [],
   "source": []
  },
  {
   "cell_type": "code",
   "execution_count": null,
   "metadata": {},
   "outputs": [],
   "source": []
  },
  {
   "cell_type": "code",
   "execution_count": null,
   "metadata": {},
   "outputs": [],
   "source": []
  },
  {
   "cell_type": "code",
   "execution_count": null,
   "metadata": {},
   "outputs": [],
   "source": []
  },
  {
   "cell_type": "code",
   "execution_count": null,
   "metadata": {},
   "outputs": [],
   "source": []
  },
  {
   "cell_type": "code",
   "execution_count": null,
   "metadata": {},
   "outputs": [],
   "source": []
  },
  {
   "cell_type": "code",
   "execution_count": null,
   "metadata": {},
   "outputs": [],
   "source": []
  },
  {
   "cell_type": "code",
   "execution_count": null,
   "metadata": {},
   "outputs": [],
   "source": []
  },
  {
   "cell_type": "code",
   "execution_count": null,
   "metadata": {},
   "outputs": [],
   "source": []
  },
  {
   "cell_type": "code",
   "execution_count": null,
   "metadata": {},
   "outputs": [],
   "source": []
  },
  {
   "cell_type": "code",
   "execution_count": null,
   "metadata": {},
   "outputs": [],
   "source": []
  },
  {
   "cell_type": "code",
   "execution_count": null,
   "metadata": {},
   "outputs": [],
   "source": []
  },
  {
   "cell_type": "code",
   "execution_count": null,
   "metadata": {},
   "outputs": [],
   "source": []
  },
  {
   "cell_type": "code",
   "execution_count": null,
   "metadata": {},
   "outputs": [],
   "source": []
  },
  {
   "cell_type": "code",
   "execution_count": null,
   "metadata": {},
   "outputs": [],
   "source": []
  },
  {
   "cell_type": "code",
   "execution_count": null,
   "metadata": {},
   "outputs": [],
   "source": []
  },
  {
   "cell_type": "code",
   "execution_count": null,
   "metadata": {},
   "outputs": [],
   "source": []
  },
  {
   "cell_type": "code",
   "execution_count": null,
   "metadata": {},
   "outputs": [],
   "source": [
    "ListaContas=[[3,2,1,-6],[3,3,1,-11],[3,4,1,-16],[3,5,1,-21], [3,3,2,-2], [3,4,2,-3], [3,5,2,-4],[2,2,-Rational(1)/5]]\n",
    "\n",
    "Exercicio=gauss.RedGaussManual(ListaContas,  MatrizA)\n",
    "Exercicio"
   ]
  }
 ],
 "metadata": {
  "kernelspec": {
   "display_name": "Python 3",
   "language": "python",
   "name": "python3"
  },
  "language_info": {
   "codemirror_mode": {
    "name": "ipython",
    "version": 3
   },
   "file_extension": ".py",
   "mimetype": "text/x-python",
   "name": "python",
   "nbconvert_exporter": "python",
   "pygments_lexer": "ipython3",
   "version": "3.6.5"
  }
 },
 "nbformat": 4,
 "nbformat_minor": 2
}
