{
 "cells": [
  {
   "cell_type": "code",
   "execution_count": 3,
   "metadata": {},
   "outputs": [],
   "source": [
    "from IPython.core.interactiveshell import InteractiveShell\n",
    "InteractiveShell.ast_node_interactivity = \"all\" #Mostra todos os computos por célula, não somente o último resultado\n",
    "from sympy import *\n",
    "from sympy.matrices import randMatrix\n",
    "\n",
    "init_printing(use_latex='mathjax')\n",
    "x, y, z, a, b, c, x1,x2,x3,x4,x5,x6,x7,x8,x9,x10=symbols(\"x, y, z,a ,b, c, x1,x2,x3,x4,x5,x6,x7,x8,x9,x10\")\n",
    "\n",
    "import FuncRedGauss as gauss      #Shift + Enter"
   ]
  },
  {
   "cell_type": "markdown",
   "metadata": {},
   "source": [
    "# Exercício:\n",
    "\n",
    "Dado o espaço vetorial  \n",
    "$$W=\\Big\\{(x,y,z,w,u)\\in \\mathbb{R}^5 \\mid  0=x+2y+z,\\qquad   0=-5x+3y-z+u,\\qquad 0=25 x-16 y+13 z +4w+ 6 u,\\qquad  0=3x−4y +2z+w+2u \\Big\\}$$ encontre uma base para $W$ e calcule $\\dim W$.\n",
    "\n",
    "# Solução:"
   ]
  },
  {
   "cell_type": "markdown",
   "metadata": {},
   "source": [
    "\n",
    "Encontremos um conjunto gerador de $W$ reduzindo o sistema:\n",
    "$$\n",
    "\\begin{cases}\n",
    "x+2y+z=0,\\\\   -5x+3y-z+u=0,\\\\ 25 x-16 y+13 z +4w+ 6 u=0,\\\\  3x−4y +2z+w+2u=0\n",
    "\\end{cases}\n",
    "$$\n",
    "\n"
   ]
  },
  {
   "cell_type": "code",
   "execution_count": 38,
   "metadata": {},
   "outputs": [
    {
     "data": {
      "text/latex": [
       "$$\\left[\\begin{matrix}1 & 2 & 1 & 0 & 0\\\\-5 & 3 & -1 & 0 & 1\\\\25 & -16 & 13 & 4 & 6\\\\3 & -4 & 2 & 1 & 2\\end{matrix}\\right]$$"
      ],
      "text/plain": [
       "⎡1    2   1   0  0⎤\n",
       "⎢                 ⎥\n",
       "⎢-5   3   -1  0  1⎥\n",
       "⎢                 ⎥\n",
       "⎢25  -16  13  4  6⎥\n",
       "⎢                 ⎥\n",
       "⎣3   -4   2   1  2⎦"
      ]
     },
     "execution_count": 38,
     "metadata": {},
     "output_type": "execute_result"
    },
    {
     "data": {
      "text/latex": [
       "$$\\left [ \\left[\\begin{matrix}1 & 2 & 1 & 0 & 0\\\\-5 & 3 & -1 & 0 & 1\\\\25 & -16 & 13 & 4 & 6\\\\3 & -4 & 2 & 1 & 2\\end{matrix}\\right], \\quad \\left[\\begin{matrix}1 & 2 & 1 & 0 & 0\\\\0 & 13 & 4 & 0 & 1\\\\25 & -16 & 13 & 4 & 6\\\\3 & -4 & 2 & 1 & 2\\end{matrix}\\right], \\quad \\left[\\begin{matrix}1 & 2 & 1 & 0 & 0\\\\0 & 13 & 4 & 0 & 1\\\\0 & -66 & -12 & 4 & 6\\\\3 & -4 & 2 & 1 & 2\\end{matrix}\\right], \\quad \\left[\\begin{matrix}1 & 2 & 1 & 0 & 0\\\\0 & 13 & 4 & 0 & 1\\\\0 & -66 & -12 & 4 & 6\\\\0 & -10 & -1 & 1 & 2\\end{matrix}\\right], \\quad \\left[\\begin{matrix}1 & 2 & 1 & 0 & 0\\\\0 & 1 & \\frac{4}{13} & 0 & \\frac{1}{13}\\\\0 & -66 & -12 & 4 & 6\\\\0 & -10 & -1 & 1 & 2\\end{matrix}\\right], \\quad \\left[\\begin{matrix}1 & 2 & 1 & 0 & 0\\\\0 & 1 & \\frac{4}{13} & 0 & \\frac{1}{13}\\\\0 & 0 & \\frac{108}{13} & 4 & \\frac{144}{13}\\\\0 & -10 & -1 & 1 & 2\\end{matrix}\\right], \\quad \\left[\\begin{matrix}1 & 2 & 1 & 0 & 0\\\\0 & 1 & \\frac{4}{13} & 0 & \\frac{1}{13}\\\\0 & 0 & \\frac{108}{13} & 4 & \\frac{144}{13}\\\\0 & 0 & \\frac{27}{13} & 1 & \\frac{36}{13}\\end{matrix}\\right], \\quad \\left[\\begin{matrix}1 & 2 & 1 & 0 & 0\\\\0 & 1 & \\frac{4}{13} & 0 & \\frac{1}{13}\\\\0 & 0 & \\frac{27}{13} & 1 & \\frac{36}{13}\\\\0 & 0 & \\frac{108}{13} & 4 & \\frac{144}{13}\\end{matrix}\\right], \\quad \\left[\\begin{matrix}1 & 2 & 1 & 0 & 0\\\\0 & 1 & \\frac{4}{13} & 0 & \\frac{1}{13}\\\\0 & 0 & \\frac{27}{13} & 1 & \\frac{36}{13}\\\\0 & 0 & 0 & 0 & 0\\end{matrix}\\right]\\right ]$$"
      ],
      "text/plain": [
       "⎡                                                                             \n",
       "⎢                                                                             \n",
       "⎢⎡1    2   1   0  0⎤  ⎡1    2   1   0  0⎤  ⎡1   2    1   0  0⎤  ⎡1   2    1   \n",
       "⎢⎢                 ⎥  ⎢                 ⎥  ⎢                 ⎥  ⎢             \n",
       "⎢⎢-5   3   -1  0  1⎥  ⎢0   13   4   0  1⎥  ⎢0  13    4   0  1⎥  ⎢0  13    4   \n",
       "⎢⎢                 ⎥, ⎢                 ⎥, ⎢                 ⎥, ⎢             \n",
       "⎢⎢25  -16  13  4  6⎥  ⎢25  -16  13  4  6⎥  ⎢0  -66  -12  4  6⎥  ⎢0  -66  -12  \n",
       "⎢⎢                 ⎥  ⎢                 ⎥  ⎢                 ⎥  ⎢             \n",
       "⎢⎣3   -4   2   1  2⎦  ⎣3   -4   2   1  2⎦  ⎣3  -4    2   1  2⎦  ⎣0  -10  -1   \n",
       "⎢                                                                             \n",
       "⎣                                                                             \n",
       "\n",
       "                                                         ⎡1  2   1    0   0  ⎤\n",
       "                                ⎡1   2    1    0   0  ⎤  ⎢                   ⎥\n",
       "0  0⎤  ⎡1   2    1    0   0  ⎤  ⎢                     ⎥  ⎢0  1  4/13  0  1/13⎥\n",
       "    ⎥  ⎢                     ⎥  ⎢0   1   4/13  0  1/13⎥  ⎢                   ⎥\n",
       "0  1⎥  ⎢0   1   4/13  0  1/13⎥  ⎢                     ⎥  ⎢      108      144 ⎥\n",
       "    ⎥, ⎢                     ⎥, ⎢        108      144 ⎥, ⎢0  0  ───   4  ─── ⎥\n",
       "4  6⎥  ⎢0  -66  -12   4   6  ⎥  ⎢0   0   ───   4  ─── ⎥  ⎢       13       13 ⎥\n",
       "    ⎥  ⎢                     ⎥  ⎢         13       13 ⎥  ⎢                   ⎥\n",
       "1  2⎦  ⎣0  -10   -1   1   2  ⎦  ⎢                     ⎥  ⎢       27       36 ⎥\n",
       "                                ⎣0  -10   -1   1   2  ⎦  ⎢0  0   ──   1   ── ⎥\n",
       "                                                         ⎣       13       13 ⎦\n",
       "\n",
       "  ⎡1  2   1    0   0  ⎤                       ⎤\n",
       "  ⎢                   ⎥  ⎡1  2   1    0   0  ⎤⎥\n",
       "  ⎢0  1  4/13  0  1/13⎥  ⎢                   ⎥⎥\n",
       "  ⎢                   ⎥  ⎢0  1  4/13  0  1/13⎥⎥\n",
       "  ⎢       27       36 ⎥  ⎢                   ⎥⎥\n",
       ", ⎢0  0   ──   1   ── ⎥, ⎢       27       36 ⎥⎥\n",
       "  ⎢       13       13 ⎥  ⎢0  0   ──   1   ── ⎥⎥\n",
       "  ⎢                   ⎥  ⎢       13       13 ⎥⎥\n",
       "  ⎢      108      144 ⎥  ⎢                   ⎥⎥\n",
       "  ⎢0  0  ───   4  ─── ⎥  ⎣0  0   0    0   0  ⎦⎥\n",
       "  ⎣       13       13 ⎦                       ⎦"
      ]
     },
     "execution_count": 38,
     "metadata": {},
     "output_type": "execute_result"
    }
   ],
   "source": [
    "MatrizA=Matrix([[1, 2, 1,0,0], [-5,3,-1,0,1],[25,-16,13,4,6], [3,-4,2,1,2]])\n",
    "MatrizA\n",
    "\n",
    "ListaOper=[[3,2,1,5],[3,3,1,-25],[3,4,1,-3],[2,2,Rational(1)/13],[3,3,2,66],[3,4,2,10],[1,3,4],[3,4,3,-4]]\n",
    "\n",
    "gauss.RedGaussManual(ListaOper, MatrizA)\n",
    "#[[3,2,1,5],[3,3,1,-25],[3,4,1,-3],[2,2,Rational(1)/13],[3,3,2,66],[3,4,2,10],[1,3,4],[3,4,3,-4]]\n"
   ]
  },
  {
   "cell_type": "markdown",
   "metadata": {},
   "source": [
    "* $posto(A)=3$\n",
    "* Número de variáveis $5$\n",
    "\n",
    "**Linha 4**<br>\n",
    "$$0=0$$\n",
    "\n",
    "\n",
    "**Linha 3**<br>\n",
    "$$\\tfrac{27}{13}z+ w +\\tfrac{36}{13}u=0$$\n",
    "\n",
    "Tomando $z= t, \\quad u= s,\\qquad\\qquad$ segue-se que  $\\qquad\\qquad\\qquad  w=-\\tfrac{27}{13}t- \\tfrac{36}{13}s$\n",
    "\n",
    "\n",
    "Pela **linha 2** temos que $\\quad y +\\tfrac{4}{13}z+  \\tfrac{1}{13}u=0,\\quad $ de modo que $\\qquad y =-\\tfrac{4}{13}t-  \\tfrac{1}{13}s$\n",
    "\n",
    "Finalmente, da **linha 1** temos que $\\quad x+2 y +z=0,\\quad $ e portanto $\\qquad x =-\\tfrac{5}{13}t+  \\tfrac{2}{13}s$.\n",
    "\n",
    "\n",
    "\n",
    "Resumindo:\n",
    "$$\\begin{cases}\n",
    "x &=-\\tfrac{5}{13}t+  \\tfrac{2}{13}s\\\\\n",
    "y &=-\\tfrac{4}{13}t-  \\tfrac{1}{13}s\\\\\n",
    "z &=t\\\\\n",
    "w &=-\\tfrac{27}{13}t- \\tfrac{36}{13}s\\\\\n",
    "u&=s\n",
    "\\end{cases}$$\n",
    "\n",
    "$$\\begin{pmatrix} \n",
    "x\\\\y\\\\z\\\\w\\\\u\\end{pmatrix}=t\\begin{pmatrix} \n",
    "-\\tfrac{5}{13}\\\\-\\tfrac{4}{13}\\\\1\\\\-\\tfrac{27}{13}\\\\0\\end{pmatrix}+s\\begin{pmatrix} \n",
    "\\tfrac{2}{13}\\\\-\\tfrac{1}{13}\\\\0\\\\-\\tfrac{36}{13}\\\\1\\end{pmatrix}$$\n",
    "\n",
    "Assim, uma base para $W$ está dada pelo conjunto \n",
    "\n",
    "$$B_1=\\Big\\{\\Big(-\\tfrac{5}{13},-\\tfrac{4}{13},1,-\\tfrac{27}{13},0\\Big),\\Big(\\tfrac{2}{13},-\\tfrac{1}{13},0,-\\tfrac{36}{13},1\\Big)\\Big\\}$$"
   ]
  },
  {
   "cell_type": "markdown",
   "metadata": {},
   "source": [
    "## Forma Alternativa de faer os cálculos**\n",
    "\n",
    "**Linha 3**<br>\n",
    "$$\\tfrac{27}{13}z+ w +\\tfrac{36}{13}u=0$$<br>\n",
    "\n",
    "**Tomando $z= 13t, \\quad u= 13s,\\qquad\\qquad$** segue-se que  $\\quad\\qquad\\qquad w=-27t- 36 s$\n",
    "\n",
    "\n",
    "Pela **linha 2** temos que $\\quad y +\\tfrac{4}{13}z+  \\tfrac{1}{13}u=0,\\qquad $ de modo que $\\qquad y =-4 t-  s$\n",
    "\n",
    "Finalmente, da **linha 1** temos que $\\quad x+2 y +z=0,\\quad $ e portanto $\\qquad x =-5 t+  2 s$.\n",
    "\n",
    "\n",
    "\n",
    "Resumindo:\n",
    "$$\\begin{cases}\n",
    "x &=-5t+  2s\\\\\n",
    "y &=-4t-  s\\\\\n",
    "z &=13t\\\\\n",
    "w &=-27t-36 s\\\\\n",
    "u&=13s\n",
    "\\end{cases}$$\n",
    "\n",
    "$$\\begin{pmatrix} \n",
    "x\\\\y\\\\z\\\\w\\\\u\\end{pmatrix}=t\\begin{pmatrix} \n",
    "-5\\\\-4\\\\13\\\\-27\\\\0\\end{pmatrix}+s\\begin{pmatrix} \n",
    "2\\\\-1\\\\0\\\\-36\\\\13\\end{pmatrix}$$\n",
    "\n",
    "Assim, uma base para $W$ está dada pelo conjunto \n",
    "\n",
    "$$B_2=\\Big\\{\\Big(-5,-4,13,-27,0\\Big),\\Big(2,-1,0,-36,13\\Big)\\Big\\}$$"
   ]
  },
  {
   "cell_type": "markdown",
   "metadata": {},
   "source": [
    "Em qualquer caso \n",
    "$$\\dim W= \\# (B_1) = \\# (B_2)  = 2$$"
   ]
  },
  {
   "cell_type": "code",
   "execution_count": 42,
   "metadata": {},
   "outputs": [
    {
     "data": {
      "text/latex": [
       "$$\\left[\\begin{matrix}0\\\\0\\\\0\\\\0\\end{matrix}\\right]$$"
      ],
      "text/plain": [
       "⎡0⎤\n",
       "⎢ ⎥\n",
       "⎢0⎥\n",
       "⎢ ⎥\n",
       "⎢0⎥\n",
       "⎢ ⎥\n",
       "⎣0⎦"
      ]
     },
     "execution_count": 42,
     "metadata": {},
     "output_type": "execute_result"
    }
   ],
   "source": [
    "sol1=Matrix([-5,-4,13,-27,0])\n",
    "MatrizA*sol1"
   ]
  },
  {
   "cell_type": "code",
   "execution_count": null,
   "metadata": {},
   "outputs": [],
   "source": []
  },
  {
   "cell_type": "code",
   "execution_count": null,
   "metadata": {},
   "outputs": [],
   "source": []
  },
  {
   "cell_type": "code",
   "execution_count": null,
   "metadata": {},
   "outputs": [],
   "source": []
  },
  {
   "cell_type": "code",
   "execution_count": null,
   "metadata": {},
   "outputs": [],
   "source": []
  },
  {
   "cell_type": "code",
   "execution_count": null,
   "metadata": {},
   "outputs": [],
   "source": []
  },
  {
   "cell_type": "code",
   "execution_count": null,
   "metadata": {},
   "outputs": [],
   "source": []
  },
  {
   "cell_type": "markdown",
   "metadata": {},
   "source": []
  },
  {
   "cell_type": "markdown",
   "metadata": {},
   "source": []
  },
  {
   "cell_type": "code",
   "execution_count": null,
   "metadata": {},
   "outputs": [],
   "source": []
  },
  {
   "cell_type": "code",
   "execution_count": null,
   "metadata": {},
   "outputs": [],
   "source": []
  },
  {
   "cell_type": "code",
   "execution_count": null,
   "metadata": {},
   "outputs": [],
   "source": [
    "#[[3,2,1,5],[3,3,1,-25],[3,4,1,-3],[2,2,Rational(1)/13],[3,3,2,66],[3,4,2,10],[1,3,4],[3,4,3,-4]]"
   ]
  }
 ],
 "metadata": {
  "kernelspec": {
   "display_name": "Python 3",
   "language": "python",
   "name": "python3"
  },
  "language_info": {
   "codemirror_mode": {
    "name": "ipython",
    "version": 3
   },
   "file_extension": ".py",
   "mimetype": "text/x-python",
   "name": "python",
   "nbconvert_exporter": "python",
   "pygments_lexer": "ipython3",
   "version": "3.6.5"
  }
 },
 "nbformat": 4,
 "nbformat_minor": 2
}
